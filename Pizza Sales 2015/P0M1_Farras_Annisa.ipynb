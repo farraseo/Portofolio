{
 "cells": [
  {
   "cell_type": "markdown",
   "id": "29203a94",
   "metadata": {},
   "source": [
    "### **i. Introduction**"
   ]
  },
  {
   "cell_type": "markdown",
   "id": "7c85c080",
   "metadata": {},
   "source": [
    "# This program is designed to perform descriptive statistics analysis and inferential statistics analysis on the topic of Pizza Sales in 2015"
   ]
  },
  {
   "cell_type": "markdown",
   "id": "adc65d4b",
   "metadata": {},
   "source": [
    "### **ii. Problem Statement and Dataset Description**"
   ]
  },
  {
   "cell_type": "markdown",
   "id": "3a0a5fe4",
   "metadata": {},
   "source": [
    "URL DASHBOARD: https://www.kaggle.com/datasets/rhonarosecortez/pizza-sales-dataset"
   ]
  },
  {
   "cell_type": "markdown",
   "id": "1f90e198",
   "metadata": {},
   "source": [
    "The code cell above contains a pizza sales dataset for the entire year of 2015."
   ]
  },
  {
   "cell_type": "markdown",
   "id": "62e618f4",
   "metadata": {},
   "source": [
    "LINK TABLEAU: https://public.tableau.com/views/Book1_17364294032150/Dashboard?:language=en-GB&:sid=&:redirect=auth&:display_count=n&:origin=viz_share_link"
   ]
  },
  {
   "cell_type": "markdown",
   "id": "b6a43ef1",
   "metadata": {},
   "source": [
    "The code cell above contains a pizza sales data visualization"
   ]
  },
  {
   "cell_type": "markdown",
   "id": "9f0bcb35",
   "metadata": {},
   "source": [
    "# Problem Statement\n",
    "\n",
    "Pizza restaurant has recently decline in sales for 2 months at the beginning of the year. As a data analyst, I want to analyze pizza sales in 2015 to increase profit, which will be provided to the marketing team to enable them to make improvements."
   ]
  },
  {
   "cell_type": "markdown",
   "id": "1880c036",
   "metadata": {},
   "source": [
    "- Specific:\n",
    "Make a strategy to increase pizza sales.\n",
    "\n",
    "- Measureable:\n",
    "Increase revenue up to 7%.\n",
    "\n",
    "- Achievable:\n",
    "By analyze this pizza sales we can:\n",
    "\n",
    "\n",
    "Maintain most sold pizza category variants.\n",
    "\n",
    "\n",
    "Increase in unit sales across all pizzas categories.\n",
    "\n",
    "\n",
    "Make a suggestion for promotion to the marketing division.\n",
    "\n",
    "- Relevant:\n",
    "\n",
    "\n",
    "If the company doesn't change this situation state above, it could lead to further losses.\n",
    "\n",
    "- Time bound:\n",
    "\n",
    "\n",
    "Increase profit on third month\n",
    "\n",
    "Metric: Gross Merchandise Value and Profit\n",
    "\n",
    "Audience: Marketing Division\n",
    "\n",
    "Summary: Make a strategy to improve pizza sales to increase revenue up to 7% by analyze pizza sales on third month. This strategy expected to avoid further losses for the company. "
   ]
  },
  {
   "cell_type": "markdown",
   "id": "a426fb58",
   "metadata": {},
   "source": [
    "# 5W + 1H:\n",
    "\n"
   ]
  },
  {
   "cell_type": "markdown",
   "id": "8de723e3",
   "metadata": {},
   "source": [
    "1. What pizza category that most sold?\n",
    "2. What day pizzas most sold?\n",
    "3. How pizza sell differ each month?\n",
    "4. Are there any pattern from quantity pizzas sold for each month?\n",
    "5. How much the revenue per month for entire year?\n",
    "6. How the relation between the revenue and quantity of pizzas sold based on month?\n",
    "7. How much pizzas sold based on Pizza Size?\n",
    "8. Is the quantity sold are normally distributed?\n",
    "9. Are There Significantly Difference of Average Quantity sales Among Pizza Category?"
   ]
  },
  {
   "cell_type": "markdown",
   "id": "2febbcc9",
   "metadata": {},
   "source": [
    "### **iii. Data Loading**"
   ]
  },
  {
   "cell_type": "code",
   "execution_count": 1,
   "id": "86d7b5f6",
   "metadata": {},
   "outputs": [
    {
     "data": {
      "application/vnd.microsoft.datawrangler.viewer.v0+json": {
       "columns": [
        {
         "name": "index",
         "rawType": "int64",
         "type": "integer"
        },
        {
         "name": "order_date",
         "rawType": "object",
         "type": "string"
        },
        {
         "name": "order_day",
         "rawType": "object",
         "type": "string"
        },
        {
         "name": "pizza_name",
         "rawType": "object",
         "type": "string"
        },
        {
         "name": "quantity",
         "rawType": "int64",
         "type": "integer"
        },
        {
         "name": "unit_price",
         "rawType": "float64",
         "type": "float"
        },
        {
         "name": "total_price",
         "rawType": "float64",
         "type": "float"
        },
        {
         "name": "pizza_size",
         "rawType": "object",
         "type": "string"
        },
        {
         "name": "pizza_category",
         "rawType": "object",
         "type": "string"
        },
        {
         "name": "Month",
         "rawType": "int64",
         "type": "integer"
        },
        {
         "name": "MonthName",
         "rawType": "object",
         "type": "string"
        },
        {
         "name": "Revenue",
         "rawType": "float64",
         "type": "float"
        }
       ],
       "conversionMethod": "pd.DataFrame",
       "ref": "87659324-d854-4199-ae0a-f7fe19845ce4",
       "rows": [
        [
         "0",
         "2015-01-01",
         "Thursday",
         "The Hawaiian Pizza",
         "1",
         "13.25",
         "13.25",
         "M",
         "Classic",
         "1",
         "January",
         "13.25"
        ],
        [
         "1",
         "2015-01-01",
         "Thursday",
         "The Classic Deluxe Pizza",
         "1",
         "16.0",
         "16.0",
         "M",
         "Classic",
         "1",
         "January",
         "16.0"
        ],
        [
         "2",
         "2015-01-01",
         "Thursday",
         "The Five Cheese Pizza",
         "1",
         "18.5",
         "18.5",
         "L",
         "Veggie",
         "1",
         "January",
         "18.5"
        ],
        [
         "3",
         "2015-01-01",
         "Thursday",
         "The Italian Supreme Pizza",
         "1",
         "20.75",
         "20.75",
         "L",
         "Supreme",
         "1",
         "January",
         "20.75"
        ],
        [
         "4",
         "2015-01-01",
         "Thursday",
         "The Mexicana Pizza",
         "1",
         "16.0",
         "16.0",
         "M",
         "Veggie",
         "1",
         "January",
         "16.0"
        ],
        [
         "5",
         "2015-01-01",
         "Thursday",
         "The Thai Chicken Pizza",
         "1",
         "20.75",
         "20.75",
         "L",
         "Chicken",
         "1",
         "January",
         "20.75"
        ],
        [
         "6",
         "2015-01-01",
         "Thursday",
         "The Italian Supreme Pizza",
         "1",
         "16.5",
         "16.5",
         "M",
         "Supreme",
         "1",
         "January",
         "16.5"
        ],
        [
         "7",
         "2015-01-01",
         "Thursday",
         "The Prosciutto and Arugula Pizza",
         "1",
         "20.75",
         "20.75",
         "L",
         "Supreme",
         "1",
         "January",
         "20.75"
        ],
        [
         "8",
         "2015-01-01",
         "Thursday",
         "The Italian Supreme Pizza",
         "1",
         "16.5",
         "16.5",
         "M",
         "Supreme",
         "1",
         "January",
         "16.5"
        ],
        [
         "9",
         "2015-01-01",
         "Thursday",
         "The Italian Supreme Pizza",
         "1",
         "16.5",
         "16.5",
         "M",
         "Supreme",
         "1",
         "January",
         "16.5"
        ],
        [
         "10",
         "2015-01-01",
         "Thursday",
         "The Barbecue Chicken Pizza",
         "1",
         "12.75",
         "12.75",
         "S",
         "Chicken",
         "1",
         "January",
         "12.75"
        ],
        [
         "11",
         "2015-01-01",
         "Thursday",
         "The Greek Pizza",
         "1",
         "12.0",
         "12.0",
         "S",
         "Classic",
         "1",
         "January",
         "12.0"
        ],
        [
         "12",
         "2015-01-01",
         "Thursday",
         "The Spinach Supreme Pizza",
         "1",
         "12.5",
         "12.5",
         "S",
         "Supreme",
         "1",
         "January",
         "12.5"
        ],
        [
         "13",
         "2015-01-01",
         "Thursday",
         "The Spinach Supreme Pizza",
         "1",
         "12.5",
         "12.5",
         "S",
         "Supreme",
         "1",
         "January",
         "12.5"
        ],
        [
         "14",
         "2015-01-01",
         "Thursday",
         "The Classic Deluxe Pizza",
         "1",
         "12.0",
         "12.0",
         "S",
         "Classic",
         "1",
         "January",
         "12.0"
        ],
        [
         "15",
         "2015-01-01",
         "Thursday",
         "The Green Garden Pizza",
         "1",
         "12.0",
         "12.0",
         "S",
         "Veggie",
         "1",
         "January",
         "12.0"
        ],
        [
         "16",
         "2015-01-01",
         "Thursday",
         "The Italian Capocollo Pizza",
         "1",
         "20.5",
         "20.5",
         "L",
         "Classic",
         "1",
         "January",
         "20.5"
        ],
        [
         "17",
         "2015-01-01",
         "Thursday",
         "The Italian Supreme Pizza",
         "1",
         "20.75",
         "20.75",
         "L",
         "Supreme",
         "1",
         "January",
         "20.75"
        ],
        [
         "18",
         "2015-01-01",
         "Thursday",
         "The Italian Supreme Pizza",
         "1",
         "12.5",
         "12.5",
         "S",
         "Supreme",
         "1",
         "January",
         "12.5"
        ],
        [
         "19",
         "2015-01-01",
         "Thursday",
         "The Mexicana Pizza",
         "1",
         "12.0",
         "12.0",
         "S",
         "Veggie",
         "1",
         "January",
         "12.0"
        ],
        [
         "20",
         "2015-01-01",
         "Thursday",
         "The Spicy Italian Pizza",
         "1",
         "20.75",
         "20.75",
         "L",
         "Supreme",
         "1",
         "January",
         "20.75"
        ],
        [
         "21",
         "2015-01-01",
         "Thursday",
         "The Spinach Pesto Pizza",
         "1",
         "20.75",
         "20.75",
         "L",
         "Veggie",
         "1",
         "January",
         "20.75"
        ],
        [
         "22",
         "2015-01-01",
         "Thursday",
         "The Vegetables + Vegetables Pizza",
         "1",
         "12.0",
         "12.0",
         "S",
         "Veggie",
         "1",
         "January",
         "12.0"
        ],
        [
         "23",
         "2015-01-01",
         "Thursday",
         "The Mexicana Pizza",
         "1",
         "20.25",
         "20.25",
         "L",
         "Veggie",
         "1",
         "January",
         "20.25"
        ],
        [
         "24",
         "2015-01-01",
         "Thursday",
         "The Southwest Chicken Pizza",
         "1",
         "20.75",
         "20.75",
         "L",
         "Chicken",
         "1",
         "January",
         "20.75"
        ],
        [
         "25",
         "2015-01-01",
         "Thursday",
         "The Barbecue Chicken Pizza",
         "1",
         "20.75",
         "20.75",
         "L",
         "Chicken",
         "1",
         "January",
         "20.75"
        ],
        [
         "26",
         "2015-01-01",
         "Thursday",
         "The California Chicken Pizza",
         "1",
         "20.75",
         "20.75",
         "L",
         "Chicken",
         "1",
         "January",
         "20.75"
        ],
        [
         "27",
         "2015-01-01",
         "Thursday",
         "The California Chicken Pizza",
         "1",
         "16.75",
         "16.75",
         "M",
         "Chicken",
         "1",
         "January",
         "16.75"
        ],
        [
         "28",
         "2015-01-01",
         "Thursday",
         "The Pepperoni Pizza",
         "1",
         "15.25",
         "15.25",
         "L",
         "Classic",
         "1",
         "January",
         "15.25"
        ],
        [
         "29",
         "2015-01-01",
         "Thursday",
         "The California Chicken Pizza",
         "1",
         "20.75",
         "20.75",
         "L",
         "Chicken",
         "1",
         "January",
         "20.75"
        ],
        [
         "30",
         "2015-01-01",
         "Thursday",
         "The California Chicken Pizza",
         "1",
         "12.75",
         "12.75",
         "S",
         "Chicken",
         "1",
         "January",
         "12.75"
        ],
        [
         "31",
         "2015-01-01",
         "Thursday",
         "The Chicken Pesto Pizza",
         "1",
         "20.75",
         "20.75",
         "L",
         "Chicken",
         "1",
         "January",
         "20.75"
        ],
        [
         "32",
         "2015-01-01",
         "Thursday",
         "The Italian Supreme Pizza",
         "1",
         "16.5",
         "16.5",
         "M",
         "Supreme",
         "1",
         "January",
         "16.5"
        ],
        [
         "33",
         "2015-01-01",
         "Thursday",
         "The Mexicana Pizza",
         "1",
         "20.25",
         "20.25",
         "L",
         "Veggie",
         "1",
         "January",
         "20.25"
        ],
        [
         "34",
         "2015-01-01",
         "Thursday",
         "The Greek Pizza",
         "1",
         "12.0",
         "12.0",
         "S",
         "Classic",
         "1",
         "January",
         "12.0"
        ],
        [
         "35",
         "2015-01-01",
         "Thursday",
         "The Big Meat Pizza",
         "1",
         "12.0",
         "12.0",
         "S",
         "Classic",
         "1",
         "January",
         "12.0"
        ],
        [
         "36",
         "2015-01-01",
         "Thursday",
         "The Five Cheese Pizza",
         "1",
         "18.5",
         "18.5",
         "L",
         "Veggie",
         "1",
         "January",
         "18.5"
        ],
        [
         "37",
         "2015-01-01",
         "Thursday",
         "The Soppressata Pizza",
         "1",
         "20.75",
         "20.75",
         "L",
         "Supreme",
         "1",
         "January",
         "20.75"
        ],
        [
         "38",
         "2015-01-01",
         "Thursday",
         "The Greek Pizza",
         "1",
         "12.0",
         "12.0",
         "S",
         "Classic",
         "1",
         "January",
         "12.0"
        ],
        [
         "39",
         "2015-01-01",
         "Thursday",
         "The Four Cheese Pizza",
         "1",
         "17.95",
         "17.95",
         "L",
         "Veggie",
         "1",
         "January",
         "17.95"
        ],
        [
         "40",
         "2015-01-01",
         "Thursday",
         "The Napolitana Pizza",
         "1",
         "12.0",
         "12.0",
         "S",
         "Classic",
         "1",
         "January",
         "12.0"
        ],
        [
         "41",
         "2015-01-01",
         "Thursday",
         "The Thai Chicken Pizza",
         "1",
         "20.75",
         "20.75",
         "L",
         "Chicken",
         "1",
         "January",
         "20.75"
        ],
        [
         "42",
         "2015-01-01",
         "Thursday",
         "The Barbecue Chicken Pizza",
         "1",
         "20.75",
         "20.75",
         "L",
         "Chicken",
         "1",
         "January",
         "20.75"
        ],
        [
         "43",
         "2015-01-01",
         "Thursday",
         "The Calabrese Pizza",
         "1",
         "16.25",
         "16.25",
         "M",
         "Supreme",
         "1",
         "January",
         "16.25"
        ],
        [
         "44",
         "2015-01-01",
         "Thursday",
         "The Five Cheese Pizza",
         "1",
         "18.5",
         "18.5",
         "L",
         "Veggie",
         "1",
         "January",
         "18.5"
        ],
        [
         "45",
         "2015-01-01",
         "Thursday",
         "The Four Cheese Pizza",
         "1",
         "14.75",
         "14.75",
         "M",
         "Veggie",
         "1",
         "January",
         "14.75"
        ],
        [
         "46",
         "2015-01-01",
         "Thursday",
         "The Italian Supreme Pizza",
         "1",
         "16.5",
         "16.5",
         "M",
         "Supreme",
         "1",
         "January",
         "16.5"
        ],
        [
         "47",
         "2015-01-01",
         "Thursday",
         "The Italian Vegetables Pizza",
         "1",
         "12.75",
         "12.75",
         "S",
         "Veggie",
         "1",
         "January",
         "12.75"
        ],
        [
         "48",
         "2015-01-01",
         "Thursday",
         "The Mediterranean Pizza",
         "2",
         "16.0",
         "32.0",
         "M",
         "Veggie",
         "1",
         "January",
         "64.0"
        ],
        [
         "49",
         "2015-01-01",
         "Thursday",
         "The Mexicana Pizza",
         "1",
         "20.25",
         "20.25",
         "L",
         "Veggie",
         "1",
         "January",
         "20.25"
        ]
       ],
       "shape": {
        "columns": 11,
        "rows": 48620
       }
      },
      "text/html": [
       "<div>\n",
       "<style scoped>\n",
       "    .dataframe tbody tr th:only-of-type {\n",
       "        vertical-align: middle;\n",
       "    }\n",
       "\n",
       "    .dataframe tbody tr th {\n",
       "        vertical-align: top;\n",
       "    }\n",
       "\n",
       "    .dataframe thead th {\n",
       "        text-align: right;\n",
       "    }\n",
       "</style>\n",
       "<table border=\"1\" class=\"dataframe\">\n",
       "  <thead>\n",
       "    <tr style=\"text-align: right;\">\n",
       "      <th></th>\n",
       "      <th>order_date</th>\n",
       "      <th>order_day</th>\n",
       "      <th>pizza_name</th>\n",
       "      <th>quantity</th>\n",
       "      <th>unit_price</th>\n",
       "      <th>total_price</th>\n",
       "      <th>pizza_size</th>\n",
       "      <th>pizza_category</th>\n",
       "      <th>Month</th>\n",
       "      <th>MonthName</th>\n",
       "      <th>Revenue</th>\n",
       "    </tr>\n",
       "  </thead>\n",
       "  <tbody>\n",
       "    <tr>\n",
       "      <th>0</th>\n",
       "      <td>2015-01-01</td>\n",
       "      <td>Thursday</td>\n",
       "      <td>The Hawaiian Pizza</td>\n",
       "      <td>1</td>\n",
       "      <td>13.25</td>\n",
       "      <td>13.25</td>\n",
       "      <td>M</td>\n",
       "      <td>Classic</td>\n",
       "      <td>1</td>\n",
       "      <td>January</td>\n",
       "      <td>13.25</td>\n",
       "    </tr>\n",
       "    <tr>\n",
       "      <th>1</th>\n",
       "      <td>2015-01-01</td>\n",
       "      <td>Thursday</td>\n",
       "      <td>The Classic Deluxe Pizza</td>\n",
       "      <td>1</td>\n",
       "      <td>16.00</td>\n",
       "      <td>16.00</td>\n",
       "      <td>M</td>\n",
       "      <td>Classic</td>\n",
       "      <td>1</td>\n",
       "      <td>January</td>\n",
       "      <td>16.00</td>\n",
       "    </tr>\n",
       "    <tr>\n",
       "      <th>2</th>\n",
       "      <td>2015-01-01</td>\n",
       "      <td>Thursday</td>\n",
       "      <td>The Five Cheese Pizza</td>\n",
       "      <td>1</td>\n",
       "      <td>18.50</td>\n",
       "      <td>18.50</td>\n",
       "      <td>L</td>\n",
       "      <td>Veggie</td>\n",
       "      <td>1</td>\n",
       "      <td>January</td>\n",
       "      <td>18.50</td>\n",
       "    </tr>\n",
       "    <tr>\n",
       "      <th>3</th>\n",
       "      <td>2015-01-01</td>\n",
       "      <td>Thursday</td>\n",
       "      <td>The Italian Supreme Pizza</td>\n",
       "      <td>1</td>\n",
       "      <td>20.75</td>\n",
       "      <td>20.75</td>\n",
       "      <td>L</td>\n",
       "      <td>Supreme</td>\n",
       "      <td>1</td>\n",
       "      <td>January</td>\n",
       "      <td>20.75</td>\n",
       "    </tr>\n",
       "    <tr>\n",
       "      <th>4</th>\n",
       "      <td>2015-01-01</td>\n",
       "      <td>Thursday</td>\n",
       "      <td>The Mexicana Pizza</td>\n",
       "      <td>1</td>\n",
       "      <td>16.00</td>\n",
       "      <td>16.00</td>\n",
       "      <td>M</td>\n",
       "      <td>Veggie</td>\n",
       "      <td>1</td>\n",
       "      <td>January</td>\n",
       "      <td>16.00</td>\n",
       "    </tr>\n",
       "    <tr>\n",
       "      <th>...</th>\n",
       "      <td>...</td>\n",
       "      <td>...</td>\n",
       "      <td>...</td>\n",
       "      <td>...</td>\n",
       "      <td>...</td>\n",
       "      <td>...</td>\n",
       "      <td>...</td>\n",
       "      <td>...</td>\n",
       "      <td>...</td>\n",
       "      <td>...</td>\n",
       "      <td>...</td>\n",
       "    </tr>\n",
       "    <tr>\n",
       "      <th>48615</th>\n",
       "      <td>2015-12-31</td>\n",
       "      <td>Thursday</td>\n",
       "      <td>The Chicken Alfredo Pizza</td>\n",
       "      <td>1</td>\n",
       "      <td>16.75</td>\n",
       "      <td>16.75</td>\n",
       "      <td>M</td>\n",
       "      <td>Chicken</td>\n",
       "      <td>12</td>\n",
       "      <td>December</td>\n",
       "      <td>16.75</td>\n",
       "    </tr>\n",
       "    <tr>\n",
       "      <th>48616</th>\n",
       "      <td>2015-12-31</td>\n",
       "      <td>Thursday</td>\n",
       "      <td>The Four Cheese Pizza</td>\n",
       "      <td>1</td>\n",
       "      <td>17.95</td>\n",
       "      <td>17.95</td>\n",
       "      <td>L</td>\n",
       "      <td>Veggie</td>\n",
       "      <td>12</td>\n",
       "      <td>December</td>\n",
       "      <td>17.95</td>\n",
       "    </tr>\n",
       "    <tr>\n",
       "      <th>48617</th>\n",
       "      <td>2015-12-31</td>\n",
       "      <td>Thursday</td>\n",
       "      <td>The Napolitana Pizza</td>\n",
       "      <td>1</td>\n",
       "      <td>12.00</td>\n",
       "      <td>12.00</td>\n",
       "      <td>S</td>\n",
       "      <td>Classic</td>\n",
       "      <td>12</td>\n",
       "      <td>December</td>\n",
       "      <td>12.00</td>\n",
       "    </tr>\n",
       "    <tr>\n",
       "      <th>48618</th>\n",
       "      <td>2015-12-31</td>\n",
       "      <td>Thursday</td>\n",
       "      <td>The Mexicana Pizza</td>\n",
       "      <td>1</td>\n",
       "      <td>20.25</td>\n",
       "      <td>20.25</td>\n",
       "      <td>L</td>\n",
       "      <td>Veggie</td>\n",
       "      <td>12</td>\n",
       "      <td>December</td>\n",
       "      <td>20.25</td>\n",
       "    </tr>\n",
       "    <tr>\n",
       "      <th>48619</th>\n",
       "      <td>2015-12-31</td>\n",
       "      <td>Thursday</td>\n",
       "      <td>The Barbecue Chicken Pizza</td>\n",
       "      <td>1</td>\n",
       "      <td>12.75</td>\n",
       "      <td>12.75</td>\n",
       "      <td>S</td>\n",
       "      <td>Chicken</td>\n",
       "      <td>12</td>\n",
       "      <td>December</td>\n",
       "      <td>12.75</td>\n",
       "    </tr>\n",
       "  </tbody>\n",
       "</table>\n",
       "<p>48620 rows × 11 columns</p>\n",
       "</div>"
      ],
      "text/plain": [
       "       order_date order_day                  pizza_name  quantity  unit_price  \\\n",
       "0      2015-01-01  Thursday          The Hawaiian Pizza         1       13.25   \n",
       "1      2015-01-01  Thursday    The Classic Deluxe Pizza         1       16.00   \n",
       "2      2015-01-01  Thursday       The Five Cheese Pizza         1       18.50   \n",
       "3      2015-01-01  Thursday   The Italian Supreme Pizza         1       20.75   \n",
       "4      2015-01-01  Thursday          The Mexicana Pizza         1       16.00   \n",
       "...           ...       ...                         ...       ...         ...   \n",
       "48615  2015-12-31  Thursday   The Chicken Alfredo Pizza         1       16.75   \n",
       "48616  2015-12-31  Thursday       The Four Cheese Pizza         1       17.95   \n",
       "48617  2015-12-31  Thursday        The Napolitana Pizza         1       12.00   \n",
       "48618  2015-12-31  Thursday          The Mexicana Pizza         1       20.25   \n",
       "48619  2015-12-31  Thursday  The Barbecue Chicken Pizza         1       12.75   \n",
       "\n",
       "       total_price pizza_size pizza_category  Month MonthName  Revenue  \n",
       "0            13.25          M        Classic      1   January    13.25  \n",
       "1            16.00          M        Classic      1   January    16.00  \n",
       "2            18.50          L         Veggie      1   January    18.50  \n",
       "3            20.75          L        Supreme      1   January    20.75  \n",
       "4            16.00          M         Veggie      1   January    16.00  \n",
       "...            ...        ...            ...    ...       ...      ...  \n",
       "48615        16.75          M        Chicken     12  December    16.75  \n",
       "48616        17.95          L         Veggie     12  December    17.95  \n",
       "48617        12.00          S        Classic     12  December    12.00  \n",
       "48618        20.25          L         Veggie     12  December    20.25  \n",
       "48619        12.75          S        Chicken     12  December    12.75  \n",
       "\n",
       "[48620 rows x 11 columns]"
      ]
     },
     "execution_count": 1,
     "metadata": {},
     "output_type": "execute_result"
    }
   ],
   "source": [
    "import pandas as pd\n",
    "import plotly.express as px\n",
    "from scipy import stats\n",
    "\n",
    "data = pd.read_csv('P0M1_Farras_Annisa_dataset.csv')\n",
    "\n",
    "data"
   ]
  },
  {
   "cell_type": "markdown",
   "id": "01de5667",
   "metadata": {},
   "source": [
    "The purpose of code cell above is to read the dataset and convert it into a dataframe."
   ]
  },
  {
   "cell_type": "code",
   "execution_count": 2,
   "id": "46f01ef1",
   "metadata": {},
   "outputs": [
    {
     "data": {
      "application/vnd.microsoft.datawrangler.viewer.v0+json": {
       "columns": [
        {
         "name": "index",
         "rawType": "int64",
         "type": "integer"
        },
        {
         "name": "order_date",
         "rawType": "object",
         "type": "string"
        },
        {
         "name": "order_day",
         "rawType": "object",
         "type": "string"
        },
        {
         "name": "pizza_name",
         "rawType": "object",
         "type": "string"
        },
        {
         "name": "quantity",
         "rawType": "int64",
         "type": "integer"
        },
        {
         "name": "unit_price",
         "rawType": "float64",
         "type": "float"
        },
        {
         "name": "total_price",
         "rawType": "float64",
         "type": "float"
        },
        {
         "name": "pizza_size",
         "rawType": "object",
         "type": "string"
        },
        {
         "name": "pizza_category",
         "rawType": "object",
         "type": "string"
        },
        {
         "name": "Month",
         "rawType": "int64",
         "type": "integer"
        },
        {
         "name": "MonthName",
         "rawType": "object",
         "type": "string"
        },
        {
         "name": "Revenue",
         "rawType": "float64",
         "type": "float"
        }
       ],
       "conversionMethod": "pd.DataFrame",
       "ref": "479d4d14-06e9-466a-adde-1e35028dec21",
       "rows": [
        [
         "0",
         "2015-01-01",
         "Thursday",
         "The Hawaiian Pizza",
         "1",
         "13.25",
         "13.25",
         "M",
         "Classic",
         "1",
         "January",
         "13.25"
        ],
        [
         "1",
         "2015-01-01",
         "Thursday",
         "The Classic Deluxe Pizza",
         "1",
         "16.0",
         "16.0",
         "M",
         "Classic",
         "1",
         "January",
         "16.0"
        ],
        [
         "2",
         "2015-01-01",
         "Thursday",
         "The Five Cheese Pizza",
         "1",
         "18.5",
         "18.5",
         "L",
         "Veggie",
         "1",
         "January",
         "18.5"
        ],
        [
         "3",
         "2015-01-01",
         "Thursday",
         "The Italian Supreme Pizza",
         "1",
         "20.75",
         "20.75",
         "L",
         "Supreme",
         "1",
         "January",
         "20.75"
        ],
        [
         "4",
         "2015-01-01",
         "Thursday",
         "The Mexicana Pizza",
         "1",
         "16.0",
         "16.0",
         "M",
         "Veggie",
         "1",
         "January",
         "16.0"
        ],
        [
         "5",
         "2015-01-01",
         "Thursday",
         "The Thai Chicken Pizza",
         "1",
         "20.75",
         "20.75",
         "L",
         "Chicken",
         "1",
         "January",
         "20.75"
        ],
        [
         "6",
         "2015-01-01",
         "Thursday",
         "The Italian Supreme Pizza",
         "1",
         "16.5",
         "16.5",
         "M",
         "Supreme",
         "1",
         "January",
         "16.5"
        ],
        [
         "7",
         "2015-01-01",
         "Thursday",
         "The Prosciutto and Arugula Pizza",
         "1",
         "20.75",
         "20.75",
         "L",
         "Supreme",
         "1",
         "January",
         "20.75"
        ],
        [
         "8",
         "2015-01-01",
         "Thursday",
         "The Italian Supreme Pizza",
         "1",
         "16.5",
         "16.5",
         "M",
         "Supreme",
         "1",
         "January",
         "16.5"
        ],
        [
         "9",
         "2015-01-01",
         "Thursday",
         "The Italian Supreme Pizza",
         "1",
         "16.5",
         "16.5",
         "M",
         "Supreme",
         "1",
         "January",
         "16.5"
        ],
        [
         "10",
         "2015-01-01",
         "Thursday",
         "The Barbecue Chicken Pizza",
         "1",
         "12.75",
         "12.75",
         "S",
         "Chicken",
         "1",
         "January",
         "12.75"
        ],
        [
         "11",
         "2015-01-01",
         "Thursday",
         "The Greek Pizza",
         "1",
         "12.0",
         "12.0",
         "S",
         "Classic",
         "1",
         "January",
         "12.0"
        ],
        [
         "12",
         "2015-01-01",
         "Thursday",
         "The Spinach Supreme Pizza",
         "1",
         "12.5",
         "12.5",
         "S",
         "Supreme",
         "1",
         "January",
         "12.5"
        ],
        [
         "13",
         "2015-01-01",
         "Thursday",
         "The Spinach Supreme Pizza",
         "1",
         "12.5",
         "12.5",
         "S",
         "Supreme",
         "1",
         "January",
         "12.5"
        ],
        [
         "14",
         "2015-01-01",
         "Thursday",
         "The Classic Deluxe Pizza",
         "1",
         "12.0",
         "12.0",
         "S",
         "Classic",
         "1",
         "January",
         "12.0"
        ],
        [
         "15",
         "2015-01-01",
         "Thursday",
         "The Green Garden Pizza",
         "1",
         "12.0",
         "12.0",
         "S",
         "Veggie",
         "1",
         "January",
         "12.0"
        ],
        [
         "16",
         "2015-01-01",
         "Thursday",
         "The Italian Capocollo Pizza",
         "1",
         "20.5",
         "20.5",
         "L",
         "Classic",
         "1",
         "January",
         "20.5"
        ],
        [
         "17",
         "2015-01-01",
         "Thursday",
         "The Italian Supreme Pizza",
         "1",
         "20.75",
         "20.75",
         "L",
         "Supreme",
         "1",
         "January",
         "20.75"
        ],
        [
         "18",
         "2015-01-01",
         "Thursday",
         "The Italian Supreme Pizza",
         "1",
         "12.5",
         "12.5",
         "S",
         "Supreme",
         "1",
         "January",
         "12.5"
        ],
        [
         "19",
         "2015-01-01",
         "Thursday",
         "The Mexicana Pizza",
         "1",
         "12.0",
         "12.0",
         "S",
         "Veggie",
         "1",
         "January",
         "12.0"
        ],
        [
         "20",
         "2015-01-01",
         "Thursday",
         "The Spicy Italian Pizza",
         "1",
         "20.75",
         "20.75",
         "L",
         "Supreme",
         "1",
         "January",
         "20.75"
        ],
        [
         "21",
         "2015-01-01",
         "Thursday",
         "The Spinach Pesto Pizza",
         "1",
         "20.75",
         "20.75",
         "L",
         "Veggie",
         "1",
         "January",
         "20.75"
        ],
        [
         "22",
         "2015-01-01",
         "Thursday",
         "The Vegetables + Vegetables Pizza",
         "1",
         "12.0",
         "12.0",
         "S",
         "Veggie",
         "1",
         "January",
         "12.0"
        ],
        [
         "23",
         "2015-01-01",
         "Thursday",
         "The Mexicana Pizza",
         "1",
         "20.25",
         "20.25",
         "L",
         "Veggie",
         "1",
         "January",
         "20.25"
        ],
        [
         "24",
         "2015-01-01",
         "Thursday",
         "The Southwest Chicken Pizza",
         "1",
         "20.75",
         "20.75",
         "L",
         "Chicken",
         "1",
         "January",
         "20.75"
        ],
        [
         "25",
         "2015-01-01",
         "Thursday",
         "The Barbecue Chicken Pizza",
         "1",
         "20.75",
         "20.75",
         "L",
         "Chicken",
         "1",
         "January",
         "20.75"
        ],
        [
         "26",
         "2015-01-01",
         "Thursday",
         "The California Chicken Pizza",
         "1",
         "20.75",
         "20.75",
         "L",
         "Chicken",
         "1",
         "January",
         "20.75"
        ],
        [
         "27",
         "2015-01-01",
         "Thursday",
         "The California Chicken Pizza",
         "1",
         "16.75",
         "16.75",
         "M",
         "Chicken",
         "1",
         "January",
         "16.75"
        ],
        [
         "28",
         "2015-01-01",
         "Thursday",
         "The Pepperoni Pizza",
         "1",
         "15.25",
         "15.25",
         "L",
         "Classic",
         "1",
         "January",
         "15.25"
        ],
        [
         "29",
         "2015-01-01",
         "Thursday",
         "The California Chicken Pizza",
         "1",
         "20.75",
         "20.75",
         "L",
         "Chicken",
         "1",
         "January",
         "20.75"
        ],
        [
         "30",
         "2015-01-01",
         "Thursday",
         "The California Chicken Pizza",
         "1",
         "12.75",
         "12.75",
         "S",
         "Chicken",
         "1",
         "January",
         "12.75"
        ],
        [
         "31",
         "2015-01-01",
         "Thursday",
         "The Chicken Pesto Pizza",
         "1",
         "20.75",
         "20.75",
         "L",
         "Chicken",
         "1",
         "January",
         "20.75"
        ],
        [
         "32",
         "2015-01-01",
         "Thursday",
         "The Italian Supreme Pizza",
         "1",
         "16.5",
         "16.5",
         "M",
         "Supreme",
         "1",
         "January",
         "16.5"
        ],
        [
         "33",
         "2015-01-01",
         "Thursday",
         "The Mexicana Pizza",
         "1",
         "20.25",
         "20.25",
         "L",
         "Veggie",
         "1",
         "January",
         "20.25"
        ],
        [
         "34",
         "2015-01-01",
         "Thursday",
         "The Greek Pizza",
         "1",
         "12.0",
         "12.0",
         "S",
         "Classic",
         "1",
         "January",
         "12.0"
        ],
        [
         "35",
         "2015-01-01",
         "Thursday",
         "The Big Meat Pizza",
         "1",
         "12.0",
         "12.0",
         "S",
         "Classic",
         "1",
         "January",
         "12.0"
        ],
        [
         "36",
         "2015-01-01",
         "Thursday",
         "The Five Cheese Pizza",
         "1",
         "18.5",
         "18.5",
         "L",
         "Veggie",
         "1",
         "January",
         "18.5"
        ],
        [
         "37",
         "2015-01-01",
         "Thursday",
         "The Soppressata Pizza",
         "1",
         "20.75",
         "20.75",
         "L",
         "Supreme",
         "1",
         "January",
         "20.75"
        ],
        [
         "38",
         "2015-01-01",
         "Thursday",
         "The Greek Pizza",
         "1",
         "12.0",
         "12.0",
         "S",
         "Classic",
         "1",
         "January",
         "12.0"
        ],
        [
         "39",
         "2015-01-01",
         "Thursday",
         "The Four Cheese Pizza",
         "1",
         "17.95",
         "17.95",
         "L",
         "Veggie",
         "1",
         "January",
         "17.95"
        ],
        [
         "40",
         "2015-01-01",
         "Thursday",
         "The Napolitana Pizza",
         "1",
         "12.0",
         "12.0",
         "S",
         "Classic",
         "1",
         "January",
         "12.0"
        ],
        [
         "41",
         "2015-01-01",
         "Thursday",
         "The Thai Chicken Pizza",
         "1",
         "20.75",
         "20.75",
         "L",
         "Chicken",
         "1",
         "January",
         "20.75"
        ],
        [
         "42",
         "2015-01-01",
         "Thursday",
         "The Barbecue Chicken Pizza",
         "1",
         "20.75",
         "20.75",
         "L",
         "Chicken",
         "1",
         "January",
         "20.75"
        ],
        [
         "43",
         "2015-01-01",
         "Thursday",
         "The Calabrese Pizza",
         "1",
         "16.25",
         "16.25",
         "M",
         "Supreme",
         "1",
         "January",
         "16.25"
        ],
        [
         "44",
         "2015-01-01",
         "Thursday",
         "The Five Cheese Pizza",
         "1",
         "18.5",
         "18.5",
         "L",
         "Veggie",
         "1",
         "January",
         "18.5"
        ],
        [
         "45",
         "2015-01-01",
         "Thursday",
         "The Four Cheese Pizza",
         "1",
         "14.75",
         "14.75",
         "M",
         "Veggie",
         "1",
         "January",
         "14.75"
        ],
        [
         "46",
         "2015-01-01",
         "Thursday",
         "The Italian Supreme Pizza",
         "1",
         "16.5",
         "16.5",
         "M",
         "Supreme",
         "1",
         "January",
         "16.5"
        ],
        [
         "47",
         "2015-01-01",
         "Thursday",
         "The Italian Vegetables Pizza",
         "1",
         "12.75",
         "12.75",
         "S",
         "Veggie",
         "1",
         "January",
         "12.75"
        ],
        [
         "48",
         "2015-01-01",
         "Thursday",
         "The Mediterranean Pizza",
         "2",
         "16.0",
         "32.0",
         "M",
         "Veggie",
         "1",
         "January",
         "64.0"
        ],
        [
         "49",
         "2015-01-01",
         "Thursday",
         "The Mexicana Pizza",
         "1",
         "20.25",
         "20.25",
         "L",
         "Veggie",
         "1",
         "January",
         "20.25"
        ]
       ],
       "shape": {
        "columns": 11,
        "rows": 48620
       }
      },
      "text/html": [
       "<div>\n",
       "<style scoped>\n",
       "    .dataframe tbody tr th:only-of-type {\n",
       "        vertical-align: middle;\n",
       "    }\n",
       "\n",
       "    .dataframe tbody tr th {\n",
       "        vertical-align: top;\n",
       "    }\n",
       "\n",
       "    .dataframe thead th {\n",
       "        text-align: right;\n",
       "    }\n",
       "</style>\n",
       "<table border=\"1\" class=\"dataframe\">\n",
       "  <thead>\n",
       "    <tr style=\"text-align: right;\">\n",
       "      <th></th>\n",
       "      <th>order_date</th>\n",
       "      <th>order_day</th>\n",
       "      <th>pizza_name</th>\n",
       "      <th>quantity</th>\n",
       "      <th>unit_price</th>\n",
       "      <th>total_price</th>\n",
       "      <th>pizza_size</th>\n",
       "      <th>pizza_category</th>\n",
       "      <th>Month</th>\n",
       "      <th>MonthName</th>\n",
       "      <th>Revenue</th>\n",
       "    </tr>\n",
       "  </thead>\n",
       "  <tbody>\n",
       "    <tr>\n",
       "      <th>0</th>\n",
       "      <td>2015-01-01</td>\n",
       "      <td>Thursday</td>\n",
       "      <td>The Hawaiian Pizza</td>\n",
       "      <td>1</td>\n",
       "      <td>13.25</td>\n",
       "      <td>13.25</td>\n",
       "      <td>M</td>\n",
       "      <td>Classic</td>\n",
       "      <td>1</td>\n",
       "      <td>January</td>\n",
       "      <td>13.25</td>\n",
       "    </tr>\n",
       "    <tr>\n",
       "      <th>1</th>\n",
       "      <td>2015-01-01</td>\n",
       "      <td>Thursday</td>\n",
       "      <td>The Classic Deluxe Pizza</td>\n",
       "      <td>1</td>\n",
       "      <td>16.00</td>\n",
       "      <td>16.00</td>\n",
       "      <td>M</td>\n",
       "      <td>Classic</td>\n",
       "      <td>1</td>\n",
       "      <td>January</td>\n",
       "      <td>16.00</td>\n",
       "    </tr>\n",
       "    <tr>\n",
       "      <th>2</th>\n",
       "      <td>2015-01-01</td>\n",
       "      <td>Thursday</td>\n",
       "      <td>The Five Cheese Pizza</td>\n",
       "      <td>1</td>\n",
       "      <td>18.50</td>\n",
       "      <td>18.50</td>\n",
       "      <td>L</td>\n",
       "      <td>Veggie</td>\n",
       "      <td>1</td>\n",
       "      <td>January</td>\n",
       "      <td>18.50</td>\n",
       "    </tr>\n",
       "    <tr>\n",
       "      <th>3</th>\n",
       "      <td>2015-01-01</td>\n",
       "      <td>Thursday</td>\n",
       "      <td>The Italian Supreme Pizza</td>\n",
       "      <td>1</td>\n",
       "      <td>20.75</td>\n",
       "      <td>20.75</td>\n",
       "      <td>L</td>\n",
       "      <td>Supreme</td>\n",
       "      <td>1</td>\n",
       "      <td>January</td>\n",
       "      <td>20.75</td>\n",
       "    </tr>\n",
       "    <tr>\n",
       "      <th>4</th>\n",
       "      <td>2015-01-01</td>\n",
       "      <td>Thursday</td>\n",
       "      <td>The Mexicana Pizza</td>\n",
       "      <td>1</td>\n",
       "      <td>16.00</td>\n",
       "      <td>16.00</td>\n",
       "      <td>M</td>\n",
       "      <td>Veggie</td>\n",
       "      <td>1</td>\n",
       "      <td>January</td>\n",
       "      <td>16.00</td>\n",
       "    </tr>\n",
       "    <tr>\n",
       "      <th>...</th>\n",
       "      <td>...</td>\n",
       "      <td>...</td>\n",
       "      <td>...</td>\n",
       "      <td>...</td>\n",
       "      <td>...</td>\n",
       "      <td>...</td>\n",
       "      <td>...</td>\n",
       "      <td>...</td>\n",
       "      <td>...</td>\n",
       "      <td>...</td>\n",
       "      <td>...</td>\n",
       "    </tr>\n",
       "    <tr>\n",
       "      <th>48615</th>\n",
       "      <td>2015-12-31</td>\n",
       "      <td>Thursday</td>\n",
       "      <td>The Chicken Alfredo Pizza</td>\n",
       "      <td>1</td>\n",
       "      <td>16.75</td>\n",
       "      <td>16.75</td>\n",
       "      <td>M</td>\n",
       "      <td>Chicken</td>\n",
       "      <td>12</td>\n",
       "      <td>December</td>\n",
       "      <td>16.75</td>\n",
       "    </tr>\n",
       "    <tr>\n",
       "      <th>48616</th>\n",
       "      <td>2015-12-31</td>\n",
       "      <td>Thursday</td>\n",
       "      <td>The Four Cheese Pizza</td>\n",
       "      <td>1</td>\n",
       "      <td>17.95</td>\n",
       "      <td>17.95</td>\n",
       "      <td>L</td>\n",
       "      <td>Veggie</td>\n",
       "      <td>12</td>\n",
       "      <td>December</td>\n",
       "      <td>17.95</td>\n",
       "    </tr>\n",
       "    <tr>\n",
       "      <th>48617</th>\n",
       "      <td>2015-12-31</td>\n",
       "      <td>Thursday</td>\n",
       "      <td>The Napolitana Pizza</td>\n",
       "      <td>1</td>\n",
       "      <td>12.00</td>\n",
       "      <td>12.00</td>\n",
       "      <td>S</td>\n",
       "      <td>Classic</td>\n",
       "      <td>12</td>\n",
       "      <td>December</td>\n",
       "      <td>12.00</td>\n",
       "    </tr>\n",
       "    <tr>\n",
       "      <th>48618</th>\n",
       "      <td>2015-12-31</td>\n",
       "      <td>Thursday</td>\n",
       "      <td>The Mexicana Pizza</td>\n",
       "      <td>1</td>\n",
       "      <td>20.25</td>\n",
       "      <td>20.25</td>\n",
       "      <td>L</td>\n",
       "      <td>Veggie</td>\n",
       "      <td>12</td>\n",
       "      <td>December</td>\n",
       "      <td>20.25</td>\n",
       "    </tr>\n",
       "    <tr>\n",
       "      <th>48619</th>\n",
       "      <td>2015-12-31</td>\n",
       "      <td>Thursday</td>\n",
       "      <td>The Barbecue Chicken Pizza</td>\n",
       "      <td>1</td>\n",
       "      <td>12.75</td>\n",
       "      <td>12.75</td>\n",
       "      <td>S</td>\n",
       "      <td>Chicken</td>\n",
       "      <td>12</td>\n",
       "      <td>December</td>\n",
       "      <td>12.75</td>\n",
       "    </tr>\n",
       "  </tbody>\n",
       "</table>\n",
       "<p>48620 rows × 11 columns</p>\n",
       "</div>"
      ],
      "text/plain": [
       "       order_date order_day                  pizza_name  quantity  unit_price  \\\n",
       "0      2015-01-01  Thursday          The Hawaiian Pizza         1       13.25   \n",
       "1      2015-01-01  Thursday    The Classic Deluxe Pizza         1       16.00   \n",
       "2      2015-01-01  Thursday       The Five Cheese Pizza         1       18.50   \n",
       "3      2015-01-01  Thursday   The Italian Supreme Pizza         1       20.75   \n",
       "4      2015-01-01  Thursday          The Mexicana Pizza         1       16.00   \n",
       "...           ...       ...                         ...       ...         ...   \n",
       "48615  2015-12-31  Thursday   The Chicken Alfredo Pizza         1       16.75   \n",
       "48616  2015-12-31  Thursday       The Four Cheese Pizza         1       17.95   \n",
       "48617  2015-12-31  Thursday        The Napolitana Pizza         1       12.00   \n",
       "48618  2015-12-31  Thursday          The Mexicana Pizza         1       20.25   \n",
       "48619  2015-12-31  Thursday  The Barbecue Chicken Pizza         1       12.75   \n",
       "\n",
       "       total_price pizza_size pizza_category  Month MonthName  Revenue  \n",
       "0            13.25          M        Classic      1   January    13.25  \n",
       "1            16.00          M        Classic      1   January    16.00  \n",
       "2            18.50          L         Veggie      1   January    18.50  \n",
       "3            20.75          L        Supreme      1   January    20.75  \n",
       "4            16.00          M         Veggie      1   January    16.00  \n",
       "...            ...        ...            ...    ...       ...      ...  \n",
       "48615        16.75          M        Chicken     12  December    16.75  \n",
       "48616        17.95          L         Veggie     12  December    17.95  \n",
       "48617        12.00          S        Classic     12  December    12.00  \n",
       "48618        20.25          L         Veggie     12  December    20.25  \n",
       "48619        12.75          S        Chicken     12  December    12.75  \n",
       "\n",
       "[48620 rows x 11 columns]"
      ]
     },
     "execution_count": 2,
     "metadata": {},
     "output_type": "execute_result"
    }
   ],
   "source": [
    "df = data.copy()\n",
    "\n",
    "df"
   ]
  },
  {
   "cell_type": "markdown",
   "id": "6271fd9b",
   "metadata": {},
   "source": [
    "The purpose of code cell above is to make a copy of the dataframe."
   ]
  },
  {
   "cell_type": "markdown",
   "id": "c1c2b2b2",
   "metadata": {},
   "source": [
    "### **iv. Data Cleaning**"
   ]
  },
  {
   "cell_type": "code",
   "execution_count": 3,
   "id": "1b0a1030",
   "metadata": {},
   "outputs": [
    {
     "name": "stdout",
     "output_type": "stream",
     "text": [
      "<class 'pandas.core.frame.DataFrame'>\n",
      "RangeIndex: 48620 entries, 0 to 48619\n",
      "Data columns (total 11 columns):\n",
      " #   Column          Non-Null Count  Dtype  \n",
      "---  ------          --------------  -----  \n",
      " 0   order_date      48620 non-null  object \n",
      " 1   order_day       48620 non-null  object \n",
      " 2   pizza_name      48620 non-null  object \n",
      " 3   quantity        48620 non-null  int64  \n",
      " 4   unit_price      48620 non-null  float64\n",
      " 5   total_price     48620 non-null  float64\n",
      " 6   pizza_size      48620 non-null  object \n",
      " 7   pizza_category  48620 non-null  object \n",
      " 8   Month           48620 non-null  int64  \n",
      " 9   MonthName       48620 non-null  object \n",
      " 10  Revenue         48620 non-null  float64\n",
      "dtypes: float64(3), int64(2), object(6)\n",
      "memory usage: 4.1+ MB\n"
     ]
    }
   ],
   "source": [
    "df.info()"
   ]
  },
  {
   "cell_type": "markdown",
   "id": "28c102f3",
   "metadata": {},
   "source": [
    "The purpose of code cell above is to identify the data type of each column."
   ]
  },
  {
   "cell_type": "code",
   "execution_count": 4,
   "id": "11701ba1",
   "metadata": {},
   "outputs": [
    {
     "data": {
      "text/plain": [
       "order_date        0\n",
       "order_day         0\n",
       "pizza_name        0\n",
       "quantity          0\n",
       "unit_price        0\n",
       "total_price       0\n",
       "pizza_size        0\n",
       "pizza_category    0\n",
       "Month             0\n",
       "MonthName         0\n",
       "Revenue           0\n",
       "dtype: int64"
      ]
     },
     "execution_count": 4,
     "metadata": {},
     "output_type": "execute_result"
    }
   ],
   "source": [
    "df.isnull().sum()"
   ]
  },
  {
   "cell_type": "markdown",
   "id": "0c2a1650",
   "metadata": {},
   "source": [
    "The purpose of code cell above is to make sure there're no datas that missing value."
   ]
  },
  {
   "cell_type": "markdown",
   "id": "07590b55",
   "metadata": {},
   "source": [
    "### **v. Exploration and Analysis**"
   ]
  },
  {
   "cell_type": "code",
   "execution_count": 5,
   "id": "d51bce6f",
   "metadata": {},
   "outputs": [
    {
     "data": {
      "text/plain": [
       "['Classic', 'Veggie', 'Supreme', 'Chicken']"
      ]
     },
     "execution_count": 5,
     "metadata": {},
     "output_type": "execute_result"
    }
   ],
   "source": [
    "df['pizza_category'].unique().tolist()"
   ]
  },
  {
   "cell_type": "markdown",
   "id": "ad4ce361",
   "metadata": {},
   "source": [
    "The purpose of code cell above is to show unique value from 'pizza_category' column."
   ]
  },
  {
   "cell_type": "code",
   "execution_count": 6,
   "id": "0e233a33",
   "metadata": {},
   "outputs": [],
   "source": [
    "df['order_date'] = pd.to_datetime(df['order_date'])"
   ]
  },
  {
   "cell_type": "markdown",
   "id": "484d7de0",
   "metadata": {},
   "source": [
    "The purpose of code cell above is to convert the order format data type of 'order_date' column."
   ]
  },
  {
   "cell_type": "code",
   "execution_count": 7,
   "id": "2783e233",
   "metadata": {},
   "outputs": [
    {
     "data": {
      "application/vnd.microsoft.datawrangler.viewer.v0+json": {
       "columns": [
        {
         "name": "index",
         "rawType": "int64",
         "type": "integer"
        },
        {
         "name": "order_date",
         "rawType": "datetime64[ns]",
         "type": "datetime"
        },
        {
         "name": "order_day",
         "rawType": "object",
         "type": "string"
        },
        {
         "name": "pizza_name",
         "rawType": "object",
         "type": "string"
        },
        {
         "name": "quantity",
         "rawType": "int64",
         "type": "integer"
        },
        {
         "name": "unit_price",
         "rawType": "float64",
         "type": "float"
        },
        {
         "name": "total_price",
         "rawType": "float64",
         "type": "float"
        },
        {
         "name": "pizza_size",
         "rawType": "object",
         "type": "string"
        },
        {
         "name": "pizza_category",
         "rawType": "object",
         "type": "string"
        }
       ],
       "conversionMethod": "pd.DataFrame",
       "ref": "eb60f87c-0602-4b95-8acd-deab09cae77e",
       "rows": [
        [
         "0",
         "2015-01-01 00:00:00",
         "Thursday",
         "The Hawaiian Pizza",
         "1",
         "13.25",
         "13.25",
         "M",
         "Classic"
        ],
        [
         "1",
         "2015-01-01 00:00:00",
         "Thursday",
         "The Classic Deluxe Pizza",
         "1",
         "16.0",
         "16.0",
         "M",
         "Classic"
        ],
        [
         "2",
         "2015-01-01 00:00:00",
         "Thursday",
         "The Five Cheese Pizza",
         "1",
         "18.5",
         "18.5",
         "L",
         "Veggie"
        ],
        [
         "3",
         "2015-01-01 00:00:00",
         "Thursday",
         "The Italian Supreme Pizza",
         "1",
         "20.75",
         "20.75",
         "L",
         "Supreme"
        ],
        [
         "4",
         "2015-01-01 00:00:00",
         "Thursday",
         "The Mexicana Pizza",
         "1",
         "16.0",
         "16.0",
         "M",
         "Veggie"
        ],
        [
         "5",
         "2015-01-01 00:00:00",
         "Thursday",
         "The Thai Chicken Pizza",
         "1",
         "20.75",
         "20.75",
         "L",
         "Chicken"
        ],
        [
         "6",
         "2015-01-01 00:00:00",
         "Thursday",
         "The Italian Supreme Pizza",
         "1",
         "16.5",
         "16.5",
         "M",
         "Supreme"
        ],
        [
         "7",
         "2015-01-01 00:00:00",
         "Thursday",
         "The Prosciutto and Arugula Pizza",
         "1",
         "20.75",
         "20.75",
         "L",
         "Supreme"
        ],
        [
         "8",
         "2015-01-01 00:00:00",
         "Thursday",
         "The Italian Supreme Pizza",
         "1",
         "16.5",
         "16.5",
         "M",
         "Supreme"
        ],
        [
         "9",
         "2015-01-01 00:00:00",
         "Thursday",
         "The Italian Supreme Pizza",
         "1",
         "16.5",
         "16.5",
         "M",
         "Supreme"
        ],
        [
         "10",
         "2015-01-01 00:00:00",
         "Thursday",
         "The Barbecue Chicken Pizza",
         "1",
         "12.75",
         "12.75",
         "S",
         "Chicken"
        ],
        [
         "11",
         "2015-01-01 00:00:00",
         "Thursday",
         "The Greek Pizza",
         "1",
         "12.0",
         "12.0",
         "S",
         "Classic"
        ],
        [
         "12",
         "2015-01-01 00:00:00",
         "Thursday",
         "The Spinach Supreme Pizza",
         "1",
         "12.5",
         "12.5",
         "S",
         "Supreme"
        ],
        [
         "13",
         "2015-01-01 00:00:00",
         "Thursday",
         "The Spinach Supreme Pizza",
         "1",
         "12.5",
         "12.5",
         "S",
         "Supreme"
        ],
        [
         "14",
         "2015-01-01 00:00:00",
         "Thursday",
         "The Classic Deluxe Pizza",
         "1",
         "12.0",
         "12.0",
         "S",
         "Classic"
        ],
        [
         "15",
         "2015-01-01 00:00:00",
         "Thursday",
         "The Green Garden Pizza",
         "1",
         "12.0",
         "12.0",
         "S",
         "Veggie"
        ],
        [
         "16",
         "2015-01-01 00:00:00",
         "Thursday",
         "The Italian Capocollo Pizza",
         "1",
         "20.5",
         "20.5",
         "L",
         "Classic"
        ],
        [
         "17",
         "2015-01-01 00:00:00",
         "Thursday",
         "The Italian Supreme Pizza",
         "1",
         "20.75",
         "20.75",
         "L",
         "Supreme"
        ],
        [
         "18",
         "2015-01-01 00:00:00",
         "Thursday",
         "The Italian Supreme Pizza",
         "1",
         "12.5",
         "12.5",
         "S",
         "Supreme"
        ],
        [
         "19",
         "2015-01-01 00:00:00",
         "Thursday",
         "The Mexicana Pizza",
         "1",
         "12.0",
         "12.0",
         "S",
         "Veggie"
        ],
        [
         "20",
         "2015-01-01 00:00:00",
         "Thursday",
         "The Spicy Italian Pizza",
         "1",
         "20.75",
         "20.75",
         "L",
         "Supreme"
        ],
        [
         "21",
         "2015-01-01 00:00:00",
         "Thursday",
         "The Spinach Pesto Pizza",
         "1",
         "20.75",
         "20.75",
         "L",
         "Veggie"
        ],
        [
         "22",
         "2015-01-01 00:00:00",
         "Thursday",
         "The Vegetables + Vegetables Pizza",
         "1",
         "12.0",
         "12.0",
         "S",
         "Veggie"
        ],
        [
         "23",
         "2015-01-01 00:00:00",
         "Thursday",
         "The Mexicana Pizza",
         "1",
         "20.25",
         "20.25",
         "L",
         "Veggie"
        ],
        [
         "24",
         "2015-01-01 00:00:00",
         "Thursday",
         "The Southwest Chicken Pizza",
         "1",
         "20.75",
         "20.75",
         "L",
         "Chicken"
        ],
        [
         "25",
         "2015-01-01 00:00:00",
         "Thursday",
         "The Barbecue Chicken Pizza",
         "1",
         "20.75",
         "20.75",
         "L",
         "Chicken"
        ],
        [
         "26",
         "2015-01-01 00:00:00",
         "Thursday",
         "The California Chicken Pizza",
         "1",
         "20.75",
         "20.75",
         "L",
         "Chicken"
        ],
        [
         "27",
         "2015-01-01 00:00:00",
         "Thursday",
         "The California Chicken Pizza",
         "1",
         "16.75",
         "16.75",
         "M",
         "Chicken"
        ],
        [
         "28",
         "2015-01-01 00:00:00",
         "Thursday",
         "The Pepperoni Pizza",
         "1",
         "15.25",
         "15.25",
         "L",
         "Classic"
        ],
        [
         "29",
         "2015-01-01 00:00:00",
         "Thursday",
         "The California Chicken Pizza",
         "1",
         "20.75",
         "20.75",
         "L",
         "Chicken"
        ],
        [
         "30",
         "2015-01-01 00:00:00",
         "Thursday",
         "The California Chicken Pizza",
         "1",
         "12.75",
         "12.75",
         "S",
         "Chicken"
        ],
        [
         "31",
         "2015-01-01 00:00:00",
         "Thursday",
         "The Chicken Pesto Pizza",
         "1",
         "20.75",
         "20.75",
         "L",
         "Chicken"
        ],
        [
         "32",
         "2015-01-01 00:00:00",
         "Thursday",
         "The Italian Supreme Pizza",
         "1",
         "16.5",
         "16.5",
         "M",
         "Supreme"
        ],
        [
         "33",
         "2015-01-01 00:00:00",
         "Thursday",
         "The Mexicana Pizza",
         "1",
         "20.25",
         "20.25",
         "L",
         "Veggie"
        ],
        [
         "34",
         "2015-01-01 00:00:00",
         "Thursday",
         "The Greek Pizza",
         "1",
         "12.0",
         "12.0",
         "S",
         "Classic"
        ],
        [
         "35",
         "2015-01-01 00:00:00",
         "Thursday",
         "The Big Meat Pizza",
         "1",
         "12.0",
         "12.0",
         "S",
         "Classic"
        ],
        [
         "36",
         "2015-01-01 00:00:00",
         "Thursday",
         "The Five Cheese Pizza",
         "1",
         "18.5",
         "18.5",
         "L",
         "Veggie"
        ],
        [
         "37",
         "2015-01-01 00:00:00",
         "Thursday",
         "The Soppressata Pizza",
         "1",
         "20.75",
         "20.75",
         "L",
         "Supreme"
        ],
        [
         "38",
         "2015-01-01 00:00:00",
         "Thursday",
         "The Greek Pizza",
         "1",
         "12.0",
         "12.0",
         "S",
         "Classic"
        ],
        [
         "39",
         "2015-01-01 00:00:00",
         "Thursday",
         "The Four Cheese Pizza",
         "1",
         "17.95",
         "17.95",
         "L",
         "Veggie"
        ],
        [
         "40",
         "2015-01-01 00:00:00",
         "Thursday",
         "The Napolitana Pizza",
         "1",
         "12.0",
         "12.0",
         "S",
         "Classic"
        ],
        [
         "41",
         "2015-01-01 00:00:00",
         "Thursday",
         "The Thai Chicken Pizza",
         "1",
         "20.75",
         "20.75",
         "L",
         "Chicken"
        ],
        [
         "42",
         "2015-01-01 00:00:00",
         "Thursday",
         "The Barbecue Chicken Pizza",
         "1",
         "20.75",
         "20.75",
         "L",
         "Chicken"
        ],
        [
         "43",
         "2015-01-01 00:00:00",
         "Thursday",
         "The Calabrese Pizza",
         "1",
         "16.25",
         "16.25",
         "M",
         "Supreme"
        ],
        [
         "44",
         "2015-01-01 00:00:00",
         "Thursday",
         "The Five Cheese Pizza",
         "1",
         "18.5",
         "18.5",
         "L",
         "Veggie"
        ],
        [
         "45",
         "2015-01-01 00:00:00",
         "Thursday",
         "The Four Cheese Pizza",
         "1",
         "14.75",
         "14.75",
         "M",
         "Veggie"
        ],
        [
         "46",
         "2015-01-01 00:00:00",
         "Thursday",
         "The Italian Supreme Pizza",
         "1",
         "16.5",
         "16.5",
         "M",
         "Supreme"
        ],
        [
         "47",
         "2015-01-01 00:00:00",
         "Thursday",
         "The Italian Vegetables Pizza",
         "1",
         "12.75",
         "12.75",
         "S",
         "Veggie"
        ],
        [
         "48",
         "2015-01-01 00:00:00",
         "Thursday",
         "The Mediterranean Pizza",
         "2",
         "16.0",
         "32.0",
         "M",
         "Veggie"
        ],
        [
         "49",
         "2015-01-01 00:00:00",
         "Thursday",
         "The Mexicana Pizza",
         "1",
         "20.25",
         "20.25",
         "L",
         "Veggie"
        ]
       ],
       "shape": {
        "columns": 8,
        "rows": 48620
       }
      },
      "text/html": [
       "<div>\n",
       "<style scoped>\n",
       "    .dataframe tbody tr th:only-of-type {\n",
       "        vertical-align: middle;\n",
       "    }\n",
       "\n",
       "    .dataframe tbody tr th {\n",
       "        vertical-align: top;\n",
       "    }\n",
       "\n",
       "    .dataframe thead th {\n",
       "        text-align: right;\n",
       "    }\n",
       "</style>\n",
       "<table border=\"1\" class=\"dataframe\">\n",
       "  <thead>\n",
       "    <tr style=\"text-align: right;\">\n",
       "      <th></th>\n",
       "      <th>order_date</th>\n",
       "      <th>order_day</th>\n",
       "      <th>pizza_name</th>\n",
       "      <th>quantity</th>\n",
       "      <th>unit_price</th>\n",
       "      <th>total_price</th>\n",
       "      <th>pizza_size</th>\n",
       "      <th>pizza_category</th>\n",
       "    </tr>\n",
       "  </thead>\n",
       "  <tbody>\n",
       "    <tr>\n",
       "      <th>0</th>\n",
       "      <td>2015-01-01</td>\n",
       "      <td>Thursday</td>\n",
       "      <td>The Hawaiian Pizza</td>\n",
       "      <td>1</td>\n",
       "      <td>13.25</td>\n",
       "      <td>13.25</td>\n",
       "      <td>M</td>\n",
       "      <td>Classic</td>\n",
       "    </tr>\n",
       "    <tr>\n",
       "      <th>1</th>\n",
       "      <td>2015-01-01</td>\n",
       "      <td>Thursday</td>\n",
       "      <td>The Classic Deluxe Pizza</td>\n",
       "      <td>1</td>\n",
       "      <td>16.00</td>\n",
       "      <td>16.00</td>\n",
       "      <td>M</td>\n",
       "      <td>Classic</td>\n",
       "    </tr>\n",
       "    <tr>\n",
       "      <th>2</th>\n",
       "      <td>2015-01-01</td>\n",
       "      <td>Thursday</td>\n",
       "      <td>The Five Cheese Pizza</td>\n",
       "      <td>1</td>\n",
       "      <td>18.50</td>\n",
       "      <td>18.50</td>\n",
       "      <td>L</td>\n",
       "      <td>Veggie</td>\n",
       "    </tr>\n",
       "    <tr>\n",
       "      <th>3</th>\n",
       "      <td>2015-01-01</td>\n",
       "      <td>Thursday</td>\n",
       "      <td>The Italian Supreme Pizza</td>\n",
       "      <td>1</td>\n",
       "      <td>20.75</td>\n",
       "      <td>20.75</td>\n",
       "      <td>L</td>\n",
       "      <td>Supreme</td>\n",
       "    </tr>\n",
       "    <tr>\n",
       "      <th>4</th>\n",
       "      <td>2015-01-01</td>\n",
       "      <td>Thursday</td>\n",
       "      <td>The Mexicana Pizza</td>\n",
       "      <td>1</td>\n",
       "      <td>16.00</td>\n",
       "      <td>16.00</td>\n",
       "      <td>M</td>\n",
       "      <td>Veggie</td>\n",
       "    </tr>\n",
       "    <tr>\n",
       "      <th>...</th>\n",
       "      <td>...</td>\n",
       "      <td>...</td>\n",
       "      <td>...</td>\n",
       "      <td>...</td>\n",
       "      <td>...</td>\n",
       "      <td>...</td>\n",
       "      <td>...</td>\n",
       "      <td>...</td>\n",
       "    </tr>\n",
       "    <tr>\n",
       "      <th>48615</th>\n",
       "      <td>2015-12-31</td>\n",
       "      <td>Thursday</td>\n",
       "      <td>The Chicken Alfredo Pizza</td>\n",
       "      <td>1</td>\n",
       "      <td>16.75</td>\n",
       "      <td>16.75</td>\n",
       "      <td>M</td>\n",
       "      <td>Chicken</td>\n",
       "    </tr>\n",
       "    <tr>\n",
       "      <th>48616</th>\n",
       "      <td>2015-12-31</td>\n",
       "      <td>Thursday</td>\n",
       "      <td>The Four Cheese Pizza</td>\n",
       "      <td>1</td>\n",
       "      <td>17.95</td>\n",
       "      <td>17.95</td>\n",
       "      <td>L</td>\n",
       "      <td>Veggie</td>\n",
       "    </tr>\n",
       "    <tr>\n",
       "      <th>48617</th>\n",
       "      <td>2015-12-31</td>\n",
       "      <td>Thursday</td>\n",
       "      <td>The Napolitana Pizza</td>\n",
       "      <td>1</td>\n",
       "      <td>12.00</td>\n",
       "      <td>12.00</td>\n",
       "      <td>S</td>\n",
       "      <td>Classic</td>\n",
       "    </tr>\n",
       "    <tr>\n",
       "      <th>48618</th>\n",
       "      <td>2015-12-31</td>\n",
       "      <td>Thursday</td>\n",
       "      <td>The Mexicana Pizza</td>\n",
       "      <td>1</td>\n",
       "      <td>20.25</td>\n",
       "      <td>20.25</td>\n",
       "      <td>L</td>\n",
       "      <td>Veggie</td>\n",
       "    </tr>\n",
       "    <tr>\n",
       "      <th>48619</th>\n",
       "      <td>2015-12-31</td>\n",
       "      <td>Thursday</td>\n",
       "      <td>The Barbecue Chicken Pizza</td>\n",
       "      <td>1</td>\n",
       "      <td>12.75</td>\n",
       "      <td>12.75</td>\n",
       "      <td>S</td>\n",
       "      <td>Chicken</td>\n",
       "    </tr>\n",
       "  </tbody>\n",
       "</table>\n",
       "<p>48620 rows × 8 columns</p>\n",
       "</div>"
      ],
      "text/plain": [
       "      order_date order_day                  pizza_name  quantity  unit_price  \\\n",
       "0     2015-01-01  Thursday          The Hawaiian Pizza         1       13.25   \n",
       "1     2015-01-01  Thursday    The Classic Deluxe Pizza         1       16.00   \n",
       "2     2015-01-01  Thursday       The Five Cheese Pizza         1       18.50   \n",
       "3     2015-01-01  Thursday   The Italian Supreme Pizza         1       20.75   \n",
       "4     2015-01-01  Thursday          The Mexicana Pizza         1       16.00   \n",
       "...          ...       ...                         ...       ...         ...   \n",
       "48615 2015-12-31  Thursday   The Chicken Alfredo Pizza         1       16.75   \n",
       "48616 2015-12-31  Thursday       The Four Cheese Pizza         1       17.95   \n",
       "48617 2015-12-31  Thursday        The Napolitana Pizza         1       12.00   \n",
       "48618 2015-12-31  Thursday          The Mexicana Pizza         1       20.25   \n",
       "48619 2015-12-31  Thursday  The Barbecue Chicken Pizza         1       12.75   \n",
       "\n",
       "       total_price pizza_size pizza_category  \n",
       "0            13.25          M        Classic  \n",
       "1            16.00          M        Classic  \n",
       "2            18.50          L         Veggie  \n",
       "3            20.75          L        Supreme  \n",
       "4            16.00          M         Veggie  \n",
       "...            ...        ...            ...  \n",
       "48615        16.75          M        Chicken  \n",
       "48616        17.95          L         Veggie  \n",
       "48617        12.00          S        Classic  \n",
       "48618        20.25          L         Veggie  \n",
       "48619        12.75          S        Chicken  \n",
       "\n",
       "[48620 rows x 8 columns]"
      ]
     },
     "execution_count": 7,
     "metadata": {},
     "output_type": "execute_result"
    }
   ],
   "source": [
    "df = df[['order_date','order_day','pizza_name','quantity','unit_price', 'total_price', 'pizza_size', 'pizza_category']]\n",
    "\n",
    "df"
   ]
  },
  {
   "cell_type": "markdown",
   "id": "bc09a9a6",
   "metadata": {},
   "source": [
    "The purpose of code cell above is to identify the data make a new dataframe that contains column that i want to explore."
   ]
  },
  {
   "cell_type": "code",
   "execution_count": 8,
   "id": "86bde120",
   "metadata": {},
   "outputs": [
    {
     "name": "stderr",
     "output_type": "stream",
     "text": [
      "/var/folders/7l/8n2lxy7s00x2n3yc9gxj78bh0000gn/T/ipykernel_19590/1444674841.py:1: SettingWithCopyWarning: \n",
      "A value is trying to be set on a copy of a slice from a DataFrame.\n",
      "Try using .loc[row_indexer,col_indexer] = value instead\n",
      "\n",
      "See the caveats in the documentation: https://pandas.pydata.org/pandas-docs/stable/user_guide/indexing.html#returning-a-view-versus-a-copy\n",
      "  df['order_date'] = df['order_date'].astype('datetime64[ns]')\n"
     ]
    }
   ],
   "source": [
    "df['order_date'] = df['order_date'].astype('datetime64[ns]')"
   ]
  },
  {
   "cell_type": "markdown",
   "id": "e0b20e36",
   "metadata": {},
   "source": [
    "The purpose of code cell above is to convert the order data type of 'order_date' column."
   ]
  },
  {
   "cell_type": "code",
   "execution_count": 9,
   "id": "4dc98372",
   "metadata": {},
   "outputs": [
    {
     "name": "stdout",
     "output_type": "stream",
     "text": [
      "<class 'pandas.core.frame.DataFrame'>\n",
      "RangeIndex: 48620 entries, 0 to 48619\n",
      "Data columns (total 8 columns):\n",
      " #   Column          Non-Null Count  Dtype         \n",
      "---  ------          --------------  -----         \n",
      " 0   order_date      48620 non-null  datetime64[ns]\n",
      " 1   order_day       48620 non-null  object        \n",
      " 2   pizza_name      48620 non-null  object        \n",
      " 3   quantity        48620 non-null  int64         \n",
      " 4   unit_price      48620 non-null  float64       \n",
      " 5   total_price     48620 non-null  float64       \n",
      " 6   pizza_size      48620 non-null  object        \n",
      " 7   pizza_category  48620 non-null  object        \n",
      "dtypes: datetime64[ns](1), float64(2), int64(1), object(4)\n",
      "memory usage: 3.0+ MB\n"
     ]
    }
   ],
   "source": [
    "df.info()"
   ]
  },
  {
   "cell_type": "markdown",
   "id": "31661ea2",
   "metadata": {},
   "source": [
    "The purpose of code cell above is to make sure data type of 'order_date' column is already converted."
   ]
  },
  {
   "cell_type": "code",
   "execution_count": 10,
   "id": "3fa9480c",
   "metadata": {},
   "outputs": [
    {
     "name": "stderr",
     "output_type": "stream",
     "text": [
      "/var/folders/7l/8n2lxy7s00x2n3yc9gxj78bh0000gn/T/ipykernel_19590/1875892611.py:1: SettingWithCopyWarning: \n",
      "A value is trying to be set on a copy of a slice from a DataFrame.\n",
      "Try using .loc[row_indexer,col_indexer] = value instead\n",
      "\n",
      "See the caveats in the documentation: https://pandas.pydata.org/pandas-docs/stable/user_guide/indexing.html#returning-a-view-versus-a-copy\n",
      "  df['Month'] = df['order_date'].dt.month\n"
     ]
    }
   ],
   "source": [
    "df['Month'] = df['order_date'].dt.month"
   ]
  },
  {
   "cell_type": "markdown",
   "id": "62ebc4b5",
   "metadata": {},
   "source": [
    "The purpose of code cell above is to extract the month from 'order_date' column."
   ]
  },
  {
   "cell_type": "code",
   "execution_count": 11,
   "id": "316b8b94",
   "metadata": {},
   "outputs": [
    {
     "name": "stderr",
     "output_type": "stream",
     "text": [
      "/var/folders/7l/8n2lxy7s00x2n3yc9gxj78bh0000gn/T/ipykernel_19590/3194263076.py:1: SettingWithCopyWarning: \n",
      "A value is trying to be set on a copy of a slice from a DataFrame.\n",
      "Try using .loc[row_indexer,col_indexer] = value instead\n",
      "\n",
      "See the caveats in the documentation: https://pandas.pydata.org/pandas-docs/stable/user_guide/indexing.html#returning-a-view-versus-a-copy\n",
      "  df['MonthName'] = df['Month'].replace({1:\"January\", 2:\"February\", 3:\"March\", 4:\"April\", 5:\"May\", 6:\"June\",\n"
     ]
    }
   ],
   "source": [
    "df['MonthName'] = df['Month'].replace({1:\"January\", 2:\"February\", 3:\"March\", 4:\"April\", 5:\"May\", 6:\"June\",\n",
    "                                       7:\"July\", 8:\"August\", 9:\"September\", 10:\"October\", 11:\"November\", 12:\"December\"})"
   ]
  },
  {
   "cell_type": "markdown",
   "id": "af18e297",
   "metadata": {},
   "source": [
    "The purpose of code cell above is to make extracted month into a new column month name."
   ]
  },
  {
   "cell_type": "code",
   "execution_count": 12,
   "id": "09ac88bb",
   "metadata": {},
   "outputs": [],
   "source": [
    "df['Revenue'] = df['quantity'] * df['total_price']"
   ]
  },
  {
   "cell_type": "code",
   "execution_count": 13,
   "id": "4ef54d42",
   "metadata": {},
   "outputs": [
    {
     "data": {
      "application/vnd.microsoft.datawrangler.viewer.v0+json": {
       "columns": [
        {
         "name": "index",
         "rawType": "int64",
         "type": "integer"
        },
        {
         "name": "order_date",
         "rawType": "datetime64[ns]",
         "type": "datetime"
        },
        {
         "name": "order_day",
         "rawType": "object",
         "type": "string"
        },
        {
         "name": "pizza_name",
         "rawType": "object",
         "type": "string"
        },
        {
         "name": "quantity",
         "rawType": "int64",
         "type": "integer"
        },
        {
         "name": "unit_price",
         "rawType": "float64",
         "type": "float"
        },
        {
         "name": "total_price",
         "rawType": "float64",
         "type": "float"
        },
        {
         "name": "pizza_size",
         "rawType": "object",
         "type": "string"
        },
        {
         "name": "pizza_category",
         "rawType": "object",
         "type": "string"
        },
        {
         "name": "Month",
         "rawType": "int32",
         "type": "integer"
        },
        {
         "name": "MonthName",
         "rawType": "object",
         "type": "string"
        },
        {
         "name": "Revenue",
         "rawType": "float64",
         "type": "float"
        }
       ],
       "conversionMethod": "pd.DataFrame",
       "ref": "b6e8c1e5-ba97-4353-9cff-79667c23552a",
       "rows": [
        [
         "0",
         "2015-01-01 00:00:00",
         "Thursday",
         "The Hawaiian Pizza",
         "1",
         "13.25",
         "13.25",
         "M",
         "Classic",
         "1",
         "January",
         "13.25"
        ],
        [
         "1",
         "2015-01-01 00:00:00",
         "Thursday",
         "The Classic Deluxe Pizza",
         "1",
         "16.0",
         "16.0",
         "M",
         "Classic",
         "1",
         "January",
         "16.0"
        ],
        [
         "2",
         "2015-01-01 00:00:00",
         "Thursday",
         "The Five Cheese Pizza",
         "1",
         "18.5",
         "18.5",
         "L",
         "Veggie",
         "1",
         "January",
         "18.5"
        ],
        [
         "3",
         "2015-01-01 00:00:00",
         "Thursday",
         "The Italian Supreme Pizza",
         "1",
         "20.75",
         "20.75",
         "L",
         "Supreme",
         "1",
         "January",
         "20.75"
        ],
        [
         "4",
         "2015-01-01 00:00:00",
         "Thursday",
         "The Mexicana Pizza",
         "1",
         "16.0",
         "16.0",
         "M",
         "Veggie",
         "1",
         "January",
         "16.0"
        ],
        [
         "5",
         "2015-01-01 00:00:00",
         "Thursday",
         "The Thai Chicken Pizza",
         "1",
         "20.75",
         "20.75",
         "L",
         "Chicken",
         "1",
         "January",
         "20.75"
        ],
        [
         "6",
         "2015-01-01 00:00:00",
         "Thursday",
         "The Italian Supreme Pizza",
         "1",
         "16.5",
         "16.5",
         "M",
         "Supreme",
         "1",
         "January",
         "16.5"
        ],
        [
         "7",
         "2015-01-01 00:00:00",
         "Thursday",
         "The Prosciutto and Arugula Pizza",
         "1",
         "20.75",
         "20.75",
         "L",
         "Supreme",
         "1",
         "January",
         "20.75"
        ],
        [
         "8",
         "2015-01-01 00:00:00",
         "Thursday",
         "The Italian Supreme Pizza",
         "1",
         "16.5",
         "16.5",
         "M",
         "Supreme",
         "1",
         "January",
         "16.5"
        ],
        [
         "9",
         "2015-01-01 00:00:00",
         "Thursday",
         "The Italian Supreme Pizza",
         "1",
         "16.5",
         "16.5",
         "M",
         "Supreme",
         "1",
         "January",
         "16.5"
        ],
        [
         "10",
         "2015-01-01 00:00:00",
         "Thursday",
         "The Barbecue Chicken Pizza",
         "1",
         "12.75",
         "12.75",
         "S",
         "Chicken",
         "1",
         "January",
         "12.75"
        ],
        [
         "11",
         "2015-01-01 00:00:00",
         "Thursday",
         "The Greek Pizza",
         "1",
         "12.0",
         "12.0",
         "S",
         "Classic",
         "1",
         "January",
         "12.0"
        ],
        [
         "12",
         "2015-01-01 00:00:00",
         "Thursday",
         "The Spinach Supreme Pizza",
         "1",
         "12.5",
         "12.5",
         "S",
         "Supreme",
         "1",
         "January",
         "12.5"
        ],
        [
         "13",
         "2015-01-01 00:00:00",
         "Thursday",
         "The Spinach Supreme Pizza",
         "1",
         "12.5",
         "12.5",
         "S",
         "Supreme",
         "1",
         "January",
         "12.5"
        ],
        [
         "14",
         "2015-01-01 00:00:00",
         "Thursday",
         "The Classic Deluxe Pizza",
         "1",
         "12.0",
         "12.0",
         "S",
         "Classic",
         "1",
         "January",
         "12.0"
        ],
        [
         "15",
         "2015-01-01 00:00:00",
         "Thursday",
         "The Green Garden Pizza",
         "1",
         "12.0",
         "12.0",
         "S",
         "Veggie",
         "1",
         "January",
         "12.0"
        ],
        [
         "16",
         "2015-01-01 00:00:00",
         "Thursday",
         "The Italian Capocollo Pizza",
         "1",
         "20.5",
         "20.5",
         "L",
         "Classic",
         "1",
         "January",
         "20.5"
        ],
        [
         "17",
         "2015-01-01 00:00:00",
         "Thursday",
         "The Italian Supreme Pizza",
         "1",
         "20.75",
         "20.75",
         "L",
         "Supreme",
         "1",
         "January",
         "20.75"
        ],
        [
         "18",
         "2015-01-01 00:00:00",
         "Thursday",
         "The Italian Supreme Pizza",
         "1",
         "12.5",
         "12.5",
         "S",
         "Supreme",
         "1",
         "January",
         "12.5"
        ],
        [
         "19",
         "2015-01-01 00:00:00",
         "Thursday",
         "The Mexicana Pizza",
         "1",
         "12.0",
         "12.0",
         "S",
         "Veggie",
         "1",
         "January",
         "12.0"
        ],
        [
         "20",
         "2015-01-01 00:00:00",
         "Thursday",
         "The Spicy Italian Pizza",
         "1",
         "20.75",
         "20.75",
         "L",
         "Supreme",
         "1",
         "January",
         "20.75"
        ],
        [
         "21",
         "2015-01-01 00:00:00",
         "Thursday",
         "The Spinach Pesto Pizza",
         "1",
         "20.75",
         "20.75",
         "L",
         "Veggie",
         "1",
         "January",
         "20.75"
        ],
        [
         "22",
         "2015-01-01 00:00:00",
         "Thursday",
         "The Vegetables + Vegetables Pizza",
         "1",
         "12.0",
         "12.0",
         "S",
         "Veggie",
         "1",
         "January",
         "12.0"
        ],
        [
         "23",
         "2015-01-01 00:00:00",
         "Thursday",
         "The Mexicana Pizza",
         "1",
         "20.25",
         "20.25",
         "L",
         "Veggie",
         "1",
         "January",
         "20.25"
        ],
        [
         "24",
         "2015-01-01 00:00:00",
         "Thursday",
         "The Southwest Chicken Pizza",
         "1",
         "20.75",
         "20.75",
         "L",
         "Chicken",
         "1",
         "January",
         "20.75"
        ],
        [
         "25",
         "2015-01-01 00:00:00",
         "Thursday",
         "The Barbecue Chicken Pizza",
         "1",
         "20.75",
         "20.75",
         "L",
         "Chicken",
         "1",
         "January",
         "20.75"
        ],
        [
         "26",
         "2015-01-01 00:00:00",
         "Thursday",
         "The California Chicken Pizza",
         "1",
         "20.75",
         "20.75",
         "L",
         "Chicken",
         "1",
         "January",
         "20.75"
        ],
        [
         "27",
         "2015-01-01 00:00:00",
         "Thursday",
         "The California Chicken Pizza",
         "1",
         "16.75",
         "16.75",
         "M",
         "Chicken",
         "1",
         "January",
         "16.75"
        ],
        [
         "28",
         "2015-01-01 00:00:00",
         "Thursday",
         "The Pepperoni Pizza",
         "1",
         "15.25",
         "15.25",
         "L",
         "Classic",
         "1",
         "January",
         "15.25"
        ],
        [
         "29",
         "2015-01-01 00:00:00",
         "Thursday",
         "The California Chicken Pizza",
         "1",
         "20.75",
         "20.75",
         "L",
         "Chicken",
         "1",
         "January",
         "20.75"
        ],
        [
         "30",
         "2015-01-01 00:00:00",
         "Thursday",
         "The California Chicken Pizza",
         "1",
         "12.75",
         "12.75",
         "S",
         "Chicken",
         "1",
         "January",
         "12.75"
        ],
        [
         "31",
         "2015-01-01 00:00:00",
         "Thursday",
         "The Chicken Pesto Pizza",
         "1",
         "20.75",
         "20.75",
         "L",
         "Chicken",
         "1",
         "January",
         "20.75"
        ],
        [
         "32",
         "2015-01-01 00:00:00",
         "Thursday",
         "The Italian Supreme Pizza",
         "1",
         "16.5",
         "16.5",
         "M",
         "Supreme",
         "1",
         "January",
         "16.5"
        ],
        [
         "33",
         "2015-01-01 00:00:00",
         "Thursday",
         "The Mexicana Pizza",
         "1",
         "20.25",
         "20.25",
         "L",
         "Veggie",
         "1",
         "January",
         "20.25"
        ],
        [
         "34",
         "2015-01-01 00:00:00",
         "Thursday",
         "The Greek Pizza",
         "1",
         "12.0",
         "12.0",
         "S",
         "Classic",
         "1",
         "January",
         "12.0"
        ],
        [
         "35",
         "2015-01-01 00:00:00",
         "Thursday",
         "The Big Meat Pizza",
         "1",
         "12.0",
         "12.0",
         "S",
         "Classic",
         "1",
         "January",
         "12.0"
        ],
        [
         "36",
         "2015-01-01 00:00:00",
         "Thursday",
         "The Five Cheese Pizza",
         "1",
         "18.5",
         "18.5",
         "L",
         "Veggie",
         "1",
         "January",
         "18.5"
        ],
        [
         "37",
         "2015-01-01 00:00:00",
         "Thursday",
         "The Soppressata Pizza",
         "1",
         "20.75",
         "20.75",
         "L",
         "Supreme",
         "1",
         "January",
         "20.75"
        ],
        [
         "38",
         "2015-01-01 00:00:00",
         "Thursday",
         "The Greek Pizza",
         "1",
         "12.0",
         "12.0",
         "S",
         "Classic",
         "1",
         "January",
         "12.0"
        ],
        [
         "39",
         "2015-01-01 00:00:00",
         "Thursday",
         "The Four Cheese Pizza",
         "1",
         "17.95",
         "17.95",
         "L",
         "Veggie",
         "1",
         "January",
         "17.95"
        ],
        [
         "40",
         "2015-01-01 00:00:00",
         "Thursday",
         "The Napolitana Pizza",
         "1",
         "12.0",
         "12.0",
         "S",
         "Classic",
         "1",
         "January",
         "12.0"
        ],
        [
         "41",
         "2015-01-01 00:00:00",
         "Thursday",
         "The Thai Chicken Pizza",
         "1",
         "20.75",
         "20.75",
         "L",
         "Chicken",
         "1",
         "January",
         "20.75"
        ],
        [
         "42",
         "2015-01-01 00:00:00",
         "Thursday",
         "The Barbecue Chicken Pizza",
         "1",
         "20.75",
         "20.75",
         "L",
         "Chicken",
         "1",
         "January",
         "20.75"
        ],
        [
         "43",
         "2015-01-01 00:00:00",
         "Thursday",
         "The Calabrese Pizza",
         "1",
         "16.25",
         "16.25",
         "M",
         "Supreme",
         "1",
         "January",
         "16.25"
        ],
        [
         "44",
         "2015-01-01 00:00:00",
         "Thursday",
         "The Five Cheese Pizza",
         "1",
         "18.5",
         "18.5",
         "L",
         "Veggie",
         "1",
         "January",
         "18.5"
        ],
        [
         "45",
         "2015-01-01 00:00:00",
         "Thursday",
         "The Four Cheese Pizza",
         "1",
         "14.75",
         "14.75",
         "M",
         "Veggie",
         "1",
         "January",
         "14.75"
        ],
        [
         "46",
         "2015-01-01 00:00:00",
         "Thursday",
         "The Italian Supreme Pizza",
         "1",
         "16.5",
         "16.5",
         "M",
         "Supreme",
         "1",
         "January",
         "16.5"
        ],
        [
         "47",
         "2015-01-01 00:00:00",
         "Thursday",
         "The Italian Vegetables Pizza",
         "1",
         "12.75",
         "12.75",
         "S",
         "Veggie",
         "1",
         "January",
         "12.75"
        ],
        [
         "48",
         "2015-01-01 00:00:00",
         "Thursday",
         "The Mediterranean Pizza",
         "2",
         "16.0",
         "32.0",
         "M",
         "Veggie",
         "1",
         "January",
         "64.0"
        ],
        [
         "49",
         "2015-01-01 00:00:00",
         "Thursday",
         "The Mexicana Pizza",
         "1",
         "20.25",
         "20.25",
         "L",
         "Veggie",
         "1",
         "January",
         "20.25"
        ]
       ],
       "shape": {
        "columns": 11,
        "rows": 48620
       }
      },
      "text/html": [
       "<div>\n",
       "<style scoped>\n",
       "    .dataframe tbody tr th:only-of-type {\n",
       "        vertical-align: middle;\n",
       "    }\n",
       "\n",
       "    .dataframe tbody tr th {\n",
       "        vertical-align: top;\n",
       "    }\n",
       "\n",
       "    .dataframe thead th {\n",
       "        text-align: right;\n",
       "    }\n",
       "</style>\n",
       "<table border=\"1\" class=\"dataframe\">\n",
       "  <thead>\n",
       "    <tr style=\"text-align: right;\">\n",
       "      <th></th>\n",
       "      <th>order_date</th>\n",
       "      <th>order_day</th>\n",
       "      <th>pizza_name</th>\n",
       "      <th>quantity</th>\n",
       "      <th>unit_price</th>\n",
       "      <th>total_price</th>\n",
       "      <th>pizza_size</th>\n",
       "      <th>pizza_category</th>\n",
       "      <th>Month</th>\n",
       "      <th>MonthName</th>\n",
       "      <th>Revenue</th>\n",
       "    </tr>\n",
       "  </thead>\n",
       "  <tbody>\n",
       "    <tr>\n",
       "      <th>0</th>\n",
       "      <td>2015-01-01</td>\n",
       "      <td>Thursday</td>\n",
       "      <td>The Hawaiian Pizza</td>\n",
       "      <td>1</td>\n",
       "      <td>13.25</td>\n",
       "      <td>13.25</td>\n",
       "      <td>M</td>\n",
       "      <td>Classic</td>\n",
       "      <td>1</td>\n",
       "      <td>January</td>\n",
       "      <td>13.25</td>\n",
       "    </tr>\n",
       "    <tr>\n",
       "      <th>1</th>\n",
       "      <td>2015-01-01</td>\n",
       "      <td>Thursday</td>\n",
       "      <td>The Classic Deluxe Pizza</td>\n",
       "      <td>1</td>\n",
       "      <td>16.00</td>\n",
       "      <td>16.00</td>\n",
       "      <td>M</td>\n",
       "      <td>Classic</td>\n",
       "      <td>1</td>\n",
       "      <td>January</td>\n",
       "      <td>16.00</td>\n",
       "    </tr>\n",
       "    <tr>\n",
       "      <th>2</th>\n",
       "      <td>2015-01-01</td>\n",
       "      <td>Thursday</td>\n",
       "      <td>The Five Cheese Pizza</td>\n",
       "      <td>1</td>\n",
       "      <td>18.50</td>\n",
       "      <td>18.50</td>\n",
       "      <td>L</td>\n",
       "      <td>Veggie</td>\n",
       "      <td>1</td>\n",
       "      <td>January</td>\n",
       "      <td>18.50</td>\n",
       "    </tr>\n",
       "    <tr>\n",
       "      <th>3</th>\n",
       "      <td>2015-01-01</td>\n",
       "      <td>Thursday</td>\n",
       "      <td>The Italian Supreme Pizza</td>\n",
       "      <td>1</td>\n",
       "      <td>20.75</td>\n",
       "      <td>20.75</td>\n",
       "      <td>L</td>\n",
       "      <td>Supreme</td>\n",
       "      <td>1</td>\n",
       "      <td>January</td>\n",
       "      <td>20.75</td>\n",
       "    </tr>\n",
       "    <tr>\n",
       "      <th>4</th>\n",
       "      <td>2015-01-01</td>\n",
       "      <td>Thursday</td>\n",
       "      <td>The Mexicana Pizza</td>\n",
       "      <td>1</td>\n",
       "      <td>16.00</td>\n",
       "      <td>16.00</td>\n",
       "      <td>M</td>\n",
       "      <td>Veggie</td>\n",
       "      <td>1</td>\n",
       "      <td>January</td>\n",
       "      <td>16.00</td>\n",
       "    </tr>\n",
       "    <tr>\n",
       "      <th>...</th>\n",
       "      <td>...</td>\n",
       "      <td>...</td>\n",
       "      <td>...</td>\n",
       "      <td>...</td>\n",
       "      <td>...</td>\n",
       "      <td>...</td>\n",
       "      <td>...</td>\n",
       "      <td>...</td>\n",
       "      <td>...</td>\n",
       "      <td>...</td>\n",
       "      <td>...</td>\n",
       "    </tr>\n",
       "    <tr>\n",
       "      <th>48615</th>\n",
       "      <td>2015-12-31</td>\n",
       "      <td>Thursday</td>\n",
       "      <td>The Chicken Alfredo Pizza</td>\n",
       "      <td>1</td>\n",
       "      <td>16.75</td>\n",
       "      <td>16.75</td>\n",
       "      <td>M</td>\n",
       "      <td>Chicken</td>\n",
       "      <td>12</td>\n",
       "      <td>December</td>\n",
       "      <td>16.75</td>\n",
       "    </tr>\n",
       "    <tr>\n",
       "      <th>48616</th>\n",
       "      <td>2015-12-31</td>\n",
       "      <td>Thursday</td>\n",
       "      <td>The Four Cheese Pizza</td>\n",
       "      <td>1</td>\n",
       "      <td>17.95</td>\n",
       "      <td>17.95</td>\n",
       "      <td>L</td>\n",
       "      <td>Veggie</td>\n",
       "      <td>12</td>\n",
       "      <td>December</td>\n",
       "      <td>17.95</td>\n",
       "    </tr>\n",
       "    <tr>\n",
       "      <th>48617</th>\n",
       "      <td>2015-12-31</td>\n",
       "      <td>Thursday</td>\n",
       "      <td>The Napolitana Pizza</td>\n",
       "      <td>1</td>\n",
       "      <td>12.00</td>\n",
       "      <td>12.00</td>\n",
       "      <td>S</td>\n",
       "      <td>Classic</td>\n",
       "      <td>12</td>\n",
       "      <td>December</td>\n",
       "      <td>12.00</td>\n",
       "    </tr>\n",
       "    <tr>\n",
       "      <th>48618</th>\n",
       "      <td>2015-12-31</td>\n",
       "      <td>Thursday</td>\n",
       "      <td>The Mexicana Pizza</td>\n",
       "      <td>1</td>\n",
       "      <td>20.25</td>\n",
       "      <td>20.25</td>\n",
       "      <td>L</td>\n",
       "      <td>Veggie</td>\n",
       "      <td>12</td>\n",
       "      <td>December</td>\n",
       "      <td>20.25</td>\n",
       "    </tr>\n",
       "    <tr>\n",
       "      <th>48619</th>\n",
       "      <td>2015-12-31</td>\n",
       "      <td>Thursday</td>\n",
       "      <td>The Barbecue Chicken Pizza</td>\n",
       "      <td>1</td>\n",
       "      <td>12.75</td>\n",
       "      <td>12.75</td>\n",
       "      <td>S</td>\n",
       "      <td>Chicken</td>\n",
       "      <td>12</td>\n",
       "      <td>December</td>\n",
       "      <td>12.75</td>\n",
       "    </tr>\n",
       "  </tbody>\n",
       "</table>\n",
       "<p>48620 rows × 11 columns</p>\n",
       "</div>"
      ],
      "text/plain": [
       "      order_date order_day                  pizza_name  quantity  unit_price  \\\n",
       "0     2015-01-01  Thursday          The Hawaiian Pizza         1       13.25   \n",
       "1     2015-01-01  Thursday    The Classic Deluxe Pizza         1       16.00   \n",
       "2     2015-01-01  Thursday       The Five Cheese Pizza         1       18.50   \n",
       "3     2015-01-01  Thursday   The Italian Supreme Pizza         1       20.75   \n",
       "4     2015-01-01  Thursday          The Mexicana Pizza         1       16.00   \n",
       "...          ...       ...                         ...       ...         ...   \n",
       "48615 2015-12-31  Thursday   The Chicken Alfredo Pizza         1       16.75   \n",
       "48616 2015-12-31  Thursday       The Four Cheese Pizza         1       17.95   \n",
       "48617 2015-12-31  Thursday        The Napolitana Pizza         1       12.00   \n",
       "48618 2015-12-31  Thursday          The Mexicana Pizza         1       20.25   \n",
       "48619 2015-12-31  Thursday  The Barbecue Chicken Pizza         1       12.75   \n",
       "\n",
       "       total_price pizza_size pizza_category  Month MonthName  Revenue  \n",
       "0            13.25          M        Classic      1   January    13.25  \n",
       "1            16.00          M        Classic      1   January    16.00  \n",
       "2            18.50          L         Veggie      1   January    18.50  \n",
       "3            20.75          L        Supreme      1   January    20.75  \n",
       "4            16.00          M         Veggie      1   January    16.00  \n",
       "...            ...        ...            ...    ...       ...      ...  \n",
       "48615        16.75          M        Chicken     12  December    16.75  \n",
       "48616        17.95          L         Veggie     12  December    17.95  \n",
       "48617        12.00          S        Classic     12  December    12.00  \n",
       "48618        20.25          L         Veggie     12  December    20.25  \n",
       "48619        12.75          S        Chicken     12  December    12.75  \n",
       "\n",
       "[48620 rows x 11 columns]"
      ]
     },
     "execution_count": 13,
     "metadata": {},
     "output_type": "execute_result"
    }
   ],
   "source": [
    "df"
   ]
  },
  {
   "cell_type": "markdown",
   "id": "8f4fcae1",
   "metadata": {},
   "source": [
    "The purpose of code cell above is to make sure new column of the data already made into a new dataframe."
   ]
  },
  {
   "cell_type": "code",
   "execution_count": 14,
   "id": "ee559846",
   "metadata": {},
   "outputs": [],
   "source": [
    "df.to_csv('P0M1_Farras_Annisa_dataset.csv', index=False)"
   ]
  },
  {
   "cell_type": "code",
   "execution_count": 15,
   "id": "9e4525a2",
   "metadata": {},
   "outputs": [],
   "source": [
    "SizeOrder = ['S', 'M', 'L', 'XL', 'XXL']\n",
    "DayOrder = ['Monday', 'Tuesday', 'Wednesday', 'Thursday', 'Friday', 'Saturday', 'Sunday']\n",
    "MonthOrder = ['January', 'February', 'March', 'April', 'May', 'June',\n",
    "                                       'July', 'August', 'September', 'October', 'November', 'December']\n",
    "\n",
    "df['pizza_size'] = pd.Categorical(df['pizza_size'], categories=SizeOrder, ordered=True)\n",
    "df['order_day'] = pd.Categorical(df['order_day'], categories=DayOrder, ordered=True)\n",
    "df['MonthName'] = pd.Categorical(df['MonthName'], categories=MonthOrder, ordered=True)"
   ]
  },
  {
   "cell_type": "markdown",
   "id": "44ec9597",
   "metadata": {},
   "source": [
    "The purpose of code cell above is to make order by Size, Day, and Month."
   ]
  },
  {
   "cell_type": "code",
   "execution_count": 16,
   "id": "13b368fd",
   "metadata": {},
   "outputs": [
    {
     "name": "stdout",
     "output_type": "stream",
     "text": [
      "Total Classic pizza sales: 14888\n",
      "Total Veggie pizza sales: 11649\n",
      "Total Supreme pizza sales: 11987\n",
      "Total Chicken pizza sales: 11050\n"
     ]
    }
   ],
   "source": [
    "ClassicperYear = df.loc[(df['pizza_category'] == 'Classic'), 'quantity'].sum()\n",
    "\n",
    "print(\"Total Classic pizza sales:\", ClassicperYear)\n",
    "\n",
    "VeggieperYear = df.loc[(df['pizza_category'] == 'Veggie'), 'quantity'].sum()\n",
    "\n",
    "print(\"Total Veggie pizza sales:\", VeggieperYear)\n",
    "\n",
    "SupremeperYear = df.loc[(df['pizza_category'] == 'Supreme'), 'quantity'].sum()\n",
    "\n",
    "print(\"Total Supreme pizza sales:\", SupremeperYear)\n",
    "\n",
    "ChickenperYear = df.loc[(df['pizza_category'] == 'Chicken'), 'quantity'].sum()\n",
    "\n",
    "print(\"Total Chicken pizza sales:\", ChickenperYear)\n",
    "\n",
    "\n",
    "CategorySalesperYear = df.groupby('pizza_category')['quantity'].sum().reset_index()\n",
    "\n"
   ]
  },
  {
   "cell_type": "markdown",
   "id": "55403560",
   "metadata": {},
   "source": [
    "The purpose of code cell above is to count total pizza sold by category."
   ]
  },
  {
   "cell_type": "code",
   "execution_count": 17,
   "id": "38fd25ee",
   "metadata": {},
   "outputs": [
    {
     "data": {
      "application/vnd.plotly.v1+json": {
       "config": {
        "plotlyServerURL": "https://plot.ly"
       },
       "data": [
        {
         "direction": "clockwise",
         "domain": {
          "x": [
           0,
           1
          ],
          "y": [
           0,
           1
          ]
         },
         "hovertemplate": "pizza_category=%{label}<br>quantity=%{value}<extra></extra>",
         "labels": [
          "Chicken",
          "Classic",
          "Supreme",
          "Veggie"
         ],
         "legendgroup": "",
         "name": "",
         "pull": [
          0.02,
          0.02,
          0.02,
          0.02
         ],
         "showlegend": true,
         "sort": false,
         "textinfo": "percent+label",
         "type": "pie",
         "values": {
          "bdata": "KisoOtMugS0=",
          "dtype": "i2"
         }
        }
       ],
       "layout": {
        "legend": {
         "tracegroupgap": 0
        },
        "piecolorway": [
         "rgb(229, 134, 6)",
         "rgb(93, 105, 177)",
         "rgb(82, 188, 163)",
         "rgb(153, 201, 69)",
         "rgb(204, 97, 176)",
         "rgb(36, 121, 108)",
         "rgb(218, 165, 27)",
         "rgb(47, 138, 196)",
         "rgb(118, 78, 159)",
         "rgb(237, 100, 90)",
         "rgb(165, 170, 153)"
        ],
        "showlegend": false,
        "template": {
         "data": {
          "bar": [
           {
            "error_x": {
             "color": "#2a3f5f"
            },
            "error_y": {
             "color": "#2a3f5f"
            },
            "marker": {
             "line": {
              "color": "#E5ECF6",
              "width": 0.5
             },
             "pattern": {
              "fillmode": "overlay",
              "size": 10,
              "solidity": 0.2
             }
            },
            "type": "bar"
           }
          ],
          "barpolar": [
           {
            "marker": {
             "line": {
              "color": "#E5ECF6",
              "width": 0.5
             },
             "pattern": {
              "fillmode": "overlay",
              "size": 10,
              "solidity": 0.2
             }
            },
            "type": "barpolar"
           }
          ],
          "carpet": [
           {
            "aaxis": {
             "endlinecolor": "#2a3f5f",
             "gridcolor": "white",
             "linecolor": "white",
             "minorgridcolor": "white",
             "startlinecolor": "#2a3f5f"
            },
            "baxis": {
             "endlinecolor": "#2a3f5f",
             "gridcolor": "white",
             "linecolor": "white",
             "minorgridcolor": "white",
             "startlinecolor": "#2a3f5f"
            },
            "type": "carpet"
           }
          ],
          "choropleth": [
           {
            "colorbar": {
             "outlinewidth": 0,
             "ticks": ""
            },
            "type": "choropleth"
           }
          ],
          "contour": [
           {
            "colorbar": {
             "outlinewidth": 0,
             "ticks": ""
            },
            "colorscale": [
             [
              0,
              "#0d0887"
             ],
             [
              0.1111111111111111,
              "#46039f"
             ],
             [
              0.2222222222222222,
              "#7201a8"
             ],
             [
              0.3333333333333333,
              "#9c179e"
             ],
             [
              0.4444444444444444,
              "#bd3786"
             ],
             [
              0.5555555555555556,
              "#d8576b"
             ],
             [
              0.6666666666666666,
              "#ed7953"
             ],
             [
              0.7777777777777778,
              "#fb9f3a"
             ],
             [
              0.8888888888888888,
              "#fdca26"
             ],
             [
              1,
              "#f0f921"
             ]
            ],
            "type": "contour"
           }
          ],
          "contourcarpet": [
           {
            "colorbar": {
             "outlinewidth": 0,
             "ticks": ""
            },
            "type": "contourcarpet"
           }
          ],
          "heatmap": [
           {
            "colorbar": {
             "outlinewidth": 0,
             "ticks": ""
            },
            "colorscale": [
             [
              0,
              "#0d0887"
             ],
             [
              0.1111111111111111,
              "#46039f"
             ],
             [
              0.2222222222222222,
              "#7201a8"
             ],
             [
              0.3333333333333333,
              "#9c179e"
             ],
             [
              0.4444444444444444,
              "#bd3786"
             ],
             [
              0.5555555555555556,
              "#d8576b"
             ],
             [
              0.6666666666666666,
              "#ed7953"
             ],
             [
              0.7777777777777778,
              "#fb9f3a"
             ],
             [
              0.8888888888888888,
              "#fdca26"
             ],
             [
              1,
              "#f0f921"
             ]
            ],
            "type": "heatmap"
           }
          ],
          "histogram": [
           {
            "marker": {
             "pattern": {
              "fillmode": "overlay",
              "size": 10,
              "solidity": 0.2
             }
            },
            "type": "histogram"
           }
          ],
          "histogram2d": [
           {
            "colorbar": {
             "outlinewidth": 0,
             "ticks": ""
            },
            "colorscale": [
             [
              0,
              "#0d0887"
             ],
             [
              0.1111111111111111,
              "#46039f"
             ],
             [
              0.2222222222222222,
              "#7201a8"
             ],
             [
              0.3333333333333333,
              "#9c179e"
             ],
             [
              0.4444444444444444,
              "#bd3786"
             ],
             [
              0.5555555555555556,
              "#d8576b"
             ],
             [
              0.6666666666666666,
              "#ed7953"
             ],
             [
              0.7777777777777778,
              "#fb9f3a"
             ],
             [
              0.8888888888888888,
              "#fdca26"
             ],
             [
              1,
              "#f0f921"
             ]
            ],
            "type": "histogram2d"
           }
          ],
          "histogram2dcontour": [
           {
            "colorbar": {
             "outlinewidth": 0,
             "ticks": ""
            },
            "colorscale": [
             [
              0,
              "#0d0887"
             ],
             [
              0.1111111111111111,
              "#46039f"
             ],
             [
              0.2222222222222222,
              "#7201a8"
             ],
             [
              0.3333333333333333,
              "#9c179e"
             ],
             [
              0.4444444444444444,
              "#bd3786"
             ],
             [
              0.5555555555555556,
              "#d8576b"
             ],
             [
              0.6666666666666666,
              "#ed7953"
             ],
             [
              0.7777777777777778,
              "#fb9f3a"
             ],
             [
              0.8888888888888888,
              "#fdca26"
             ],
             [
              1,
              "#f0f921"
             ]
            ],
            "type": "histogram2dcontour"
           }
          ],
          "mesh3d": [
           {
            "colorbar": {
             "outlinewidth": 0,
             "ticks": ""
            },
            "type": "mesh3d"
           }
          ],
          "parcoords": [
           {
            "line": {
             "colorbar": {
              "outlinewidth": 0,
              "ticks": ""
             }
            },
            "type": "parcoords"
           }
          ],
          "pie": [
           {
            "automargin": true,
            "type": "pie"
           }
          ],
          "scatter": [
           {
            "fillpattern": {
             "fillmode": "overlay",
             "size": 10,
             "solidity": 0.2
            },
            "type": "scatter"
           }
          ],
          "scatter3d": [
           {
            "line": {
             "colorbar": {
              "outlinewidth": 0,
              "ticks": ""
             }
            },
            "marker": {
             "colorbar": {
              "outlinewidth": 0,
              "ticks": ""
             }
            },
            "type": "scatter3d"
           }
          ],
          "scattercarpet": [
           {
            "marker": {
             "colorbar": {
              "outlinewidth": 0,
              "ticks": ""
             }
            },
            "type": "scattercarpet"
           }
          ],
          "scattergeo": [
           {
            "marker": {
             "colorbar": {
              "outlinewidth": 0,
              "ticks": ""
             }
            },
            "type": "scattergeo"
           }
          ],
          "scattergl": [
           {
            "marker": {
             "colorbar": {
              "outlinewidth": 0,
              "ticks": ""
             }
            },
            "type": "scattergl"
           }
          ],
          "scattermap": [
           {
            "marker": {
             "colorbar": {
              "outlinewidth": 0,
              "ticks": ""
             }
            },
            "type": "scattermap"
           }
          ],
          "scattermapbox": [
           {
            "marker": {
             "colorbar": {
              "outlinewidth": 0,
              "ticks": ""
             }
            },
            "type": "scattermapbox"
           }
          ],
          "scatterpolar": [
           {
            "marker": {
             "colorbar": {
              "outlinewidth": 0,
              "ticks": ""
             }
            },
            "type": "scatterpolar"
           }
          ],
          "scatterpolargl": [
           {
            "marker": {
             "colorbar": {
              "outlinewidth": 0,
              "ticks": ""
             }
            },
            "type": "scatterpolargl"
           }
          ],
          "scatterternary": [
           {
            "marker": {
             "colorbar": {
              "outlinewidth": 0,
              "ticks": ""
             }
            },
            "type": "scatterternary"
           }
          ],
          "surface": [
           {
            "colorbar": {
             "outlinewidth": 0,
             "ticks": ""
            },
            "colorscale": [
             [
              0,
              "#0d0887"
             ],
             [
              0.1111111111111111,
              "#46039f"
             ],
             [
              0.2222222222222222,
              "#7201a8"
             ],
             [
              0.3333333333333333,
              "#9c179e"
             ],
             [
              0.4444444444444444,
              "#bd3786"
             ],
             [
              0.5555555555555556,
              "#d8576b"
             ],
             [
              0.6666666666666666,
              "#ed7953"
             ],
             [
              0.7777777777777778,
              "#fb9f3a"
             ],
             [
              0.8888888888888888,
              "#fdca26"
             ],
             [
              1,
              "#f0f921"
             ]
            ],
            "type": "surface"
           }
          ],
          "table": [
           {
            "cells": {
             "fill": {
              "color": "#EBF0F8"
             },
             "line": {
              "color": "white"
             }
            },
            "header": {
             "fill": {
              "color": "#C8D4E3"
             },
             "line": {
              "color": "white"
             }
            },
            "type": "table"
           }
          ]
         },
         "layout": {
          "annotationdefaults": {
           "arrowcolor": "#2a3f5f",
           "arrowhead": 0,
           "arrowwidth": 1
          },
          "autotypenumbers": "strict",
          "coloraxis": {
           "colorbar": {
            "outlinewidth": 0,
            "ticks": ""
           }
          },
          "colorscale": {
           "diverging": [
            [
             0,
             "#8e0152"
            ],
            [
             0.1,
             "#c51b7d"
            ],
            [
             0.2,
             "#de77ae"
            ],
            [
             0.3,
             "#f1b6da"
            ],
            [
             0.4,
             "#fde0ef"
            ],
            [
             0.5,
             "#f7f7f7"
            ],
            [
             0.6,
             "#e6f5d0"
            ],
            [
             0.7,
             "#b8e186"
            ],
            [
             0.8,
             "#7fbc41"
            ],
            [
             0.9,
             "#4d9221"
            ],
            [
             1,
             "#276419"
            ]
           ],
           "sequential": [
            [
             0,
             "#0d0887"
            ],
            [
             0.1111111111111111,
             "#46039f"
            ],
            [
             0.2222222222222222,
             "#7201a8"
            ],
            [
             0.3333333333333333,
             "#9c179e"
            ],
            [
             0.4444444444444444,
             "#bd3786"
            ],
            [
             0.5555555555555556,
             "#d8576b"
            ],
            [
             0.6666666666666666,
             "#ed7953"
            ],
            [
             0.7777777777777778,
             "#fb9f3a"
            ],
            [
             0.8888888888888888,
             "#fdca26"
            ],
            [
             1,
             "#f0f921"
            ]
           ],
           "sequentialminus": [
            [
             0,
             "#0d0887"
            ],
            [
             0.1111111111111111,
             "#46039f"
            ],
            [
             0.2222222222222222,
             "#7201a8"
            ],
            [
             0.3333333333333333,
             "#9c179e"
            ],
            [
             0.4444444444444444,
             "#bd3786"
            ],
            [
             0.5555555555555556,
             "#d8576b"
            ],
            [
             0.6666666666666666,
             "#ed7953"
            ],
            [
             0.7777777777777778,
             "#fb9f3a"
            ],
            [
             0.8888888888888888,
             "#fdca26"
            ],
            [
             1,
             "#f0f921"
            ]
           ]
          },
          "colorway": [
           "#636efa",
           "#EF553B",
           "#00cc96",
           "#ab63fa",
           "#FFA15A",
           "#19d3f3",
           "#FF6692",
           "#B6E880",
           "#FF97FF",
           "#FECB52"
          ],
          "font": {
           "color": "#2a3f5f"
          },
          "geo": {
           "bgcolor": "white",
           "lakecolor": "white",
           "landcolor": "#E5ECF6",
           "showlakes": true,
           "showland": true,
           "subunitcolor": "white"
          },
          "hoverlabel": {
           "align": "left"
          },
          "hovermode": "closest",
          "mapbox": {
           "style": "light"
          },
          "paper_bgcolor": "white",
          "plot_bgcolor": "#E5ECF6",
          "polar": {
           "angularaxis": {
            "gridcolor": "white",
            "linecolor": "white",
            "ticks": ""
           },
           "bgcolor": "#E5ECF6",
           "radialaxis": {
            "gridcolor": "white",
            "linecolor": "white",
            "ticks": ""
           }
          },
          "scene": {
           "xaxis": {
            "backgroundcolor": "#E5ECF6",
            "gridcolor": "white",
            "gridwidth": 2,
            "linecolor": "white",
            "showbackground": true,
            "ticks": "",
            "zerolinecolor": "white"
           },
           "yaxis": {
            "backgroundcolor": "#E5ECF6",
            "gridcolor": "white",
            "gridwidth": 2,
            "linecolor": "white",
            "showbackground": true,
            "ticks": "",
            "zerolinecolor": "white"
           },
           "zaxis": {
            "backgroundcolor": "#E5ECF6",
            "gridcolor": "white",
            "gridwidth": 2,
            "linecolor": "white",
            "showbackground": true,
            "ticks": "",
            "zerolinecolor": "white"
           }
          },
          "shapedefaults": {
           "line": {
            "color": "#2a3f5f"
           }
          },
          "ternary": {
           "aaxis": {
            "gridcolor": "white",
            "linecolor": "white",
            "ticks": ""
           },
           "baxis": {
            "gridcolor": "white",
            "linecolor": "white",
            "ticks": ""
           },
           "bgcolor": "#E5ECF6",
           "caxis": {
            "gridcolor": "white",
            "linecolor": "white",
            "ticks": ""
           }
          },
          "title": {
           "x": 0.05
          },
          "xaxis": {
           "automargin": true,
           "gridcolor": "white",
           "linecolor": "white",
           "ticks": "",
           "title": {
            "standoff": 15
           },
           "zerolinecolor": "white",
           "zerolinewidth": 2
          },
          "yaxis": {
           "automargin": true,
           "gridcolor": "white",
           "linecolor": "white",
           "ticks": "",
           "title": {
            "standoff": 15
           },
           "zerolinecolor": "white",
           "zerolinewidth": 2
          }
         }
        },
        "title": {
         "text": "Total Pizza Sales by Category"
        },
        "uniformtext": {
         "minsize": 12,
         "mode": "hide"
        }
       }
      }
     },
     "metadata": {},
     "output_type": "display_data"
    }
   ],
   "source": [
    "# Make a pie chart based total pizza sold by category.\n",
    "fig = px.pie(\n",
    "    CategorySalesperYear,\n",
    "    names='pizza_category', \n",
    "    values='quantity',     \n",
    "    title='Total Pizza Sales by Category',\n",
    "    color_discrete_sequence=px.colors.qualitative.Vivid,  \n",
    ")\n",
    "\n",
    "\n",
    "fig.update_traces(\n",
    "    sort=False, \n",
    "    direction='clockwise', \n",
    "    textinfo='percent+label', \n",
    "    pull=[0.02] * len(CategorySalesperYear))  \n",
    "\n",
    "fig.update_layout(\n",
    "    uniformtext_minsize=12, \n",
    "    uniformtext_mode='hide', \n",
    "    showlegend=False,         \n",
    ")\n",
    "\n",
    "fig.show()"
   ]
  },
  {
   "cell_type": "markdown",
   "id": "d16e5dea",
   "metadata": {},
   "source": [
    "From the chart we can see the most sold pizza category is Classic"
   ]
  },
  {
   "cell_type": "code",
   "execution_count": 18,
   "id": "08836c29",
   "metadata": {},
   "outputs": [
    {
     "name": "stdout",
     "output_type": "stream",
     "text": [
      "Total pizzas sold on Monday: 6485\n",
      "Total pizzas sold on Tuesday: 6895\n",
      "Total pizzas sold on Wednesday: 6946\n",
      "Total pizzas sold on Thursday: 7478\n",
      "Total pizzas sold on Friday: 8242\n",
      "Total pizzas sold on Saturday: 7493\n",
      "Total pizzas sold on Sunday: 6035\n"
     ]
    },
    {
     "name": "stderr",
     "output_type": "stream",
     "text": [
      "/var/folders/7l/8n2lxy7s00x2n3yc9gxj78bh0000gn/T/ipykernel_19590/855357389.py:29: FutureWarning:\n",
      "\n",
      "The default of observed=False is deprecated and will be changed to True in a future version of pandas. Pass observed=False to retain current behavior or observed=True to adopt the future default and silence this warning.\n",
      "\n"
     ]
    }
   ],
   "source": [
    "MondayperYear = df.loc[(df['order_day'] == 'Monday'), 'quantity'].sum()\n",
    "\n",
    "print(\"Total pizzas sold on Monday:\", MondayperYear)\n",
    "\n",
    "TuesdayperYear = df.loc[(df['order_day'] == 'Tuesday'), 'quantity'].sum()\n",
    "\n",
    "print(\"Total pizzas sold on Tuesday:\", TuesdayperYear)\n",
    "\n",
    "WednesdayperYear = df.loc[(df['order_day'] == 'Wednesday'), 'quantity'].sum()\n",
    "\n",
    "print(\"Total pizzas sold on Wednesday:\", WednesdayperYear)\n",
    "\n",
    "ThursdayperYear = df.loc[(df['order_day'] == 'Thursday'), 'quantity'].sum()\n",
    "\n",
    "print(\"Total pizzas sold on Thursday:\", ThursdayperYear)\n",
    "\n",
    "FridayperYear = df.loc[(df['order_day'] == 'Friday'), 'quantity'].sum()\n",
    "\n",
    "print(\"Total pizzas sold on Friday:\", FridayperYear)\n",
    "\n",
    "SaturdayperYear = df.loc[(df['order_day'] == 'Saturday'), 'quantity'].sum()\n",
    "\n",
    "print(\"Total pizzas sold on Saturday:\", SaturdayperYear)\n",
    "\n",
    "SundayperYear = df.loc[(df['order_day'] == 'Sunday'), 'quantity'].sum()\n",
    "\n",
    "print(\"Total pizzas sold on Sunday:\", SundayperYear)\n",
    "\n",
    "DaySalesperYear = df.groupby('order_day')['quantity'].sum().reset_index()"
   ]
  },
  {
   "cell_type": "markdown",
   "id": "bd4f53c2",
   "metadata": {},
   "source": [
    "The purpose of code cell above is to count total pizza sold by day for entire year."
   ]
  },
  {
   "cell_type": "code",
   "execution_count": 19,
   "id": "527bee43",
   "metadata": {},
   "outputs": [
    {
     "data": {
      "application/vnd.plotly.v1+json": {
       "config": {
        "plotlyServerURL": "https://plot.ly"
       },
       "data": [
        {
         "hovertemplate": "order_day=%{x}<br>quantity=%{y}<extra></extra>",
         "legendgroup": "",
         "line": {
          "color": "#636efa",
          "dash": "solid"
         },
         "marker": {
          "symbol": "circle"
         },
         "mode": "lines",
         "name": "",
         "orientation": "v",
         "showlegend": false,
         "type": "scatter",
         "x": [
          "Monday",
          "Tuesday",
          "Wednesday",
          "Thursday",
          "Friday",
          "Saturday",
          "Sunday"
         ],
         "xaxis": "x",
         "y": {
          "bdata": "VRnvGiIbNh0yIEUdkxc=",
          "dtype": "i2"
         },
         "yaxis": "y"
        }
       ],
       "layout": {
        "legend": {
         "tracegroupgap": 0
        },
        "template": {
         "data": {
          "bar": [
           {
            "error_x": {
             "color": "#2a3f5f"
            },
            "error_y": {
             "color": "#2a3f5f"
            },
            "marker": {
             "line": {
              "color": "#E5ECF6",
              "width": 0.5
             },
             "pattern": {
              "fillmode": "overlay",
              "size": 10,
              "solidity": 0.2
             }
            },
            "type": "bar"
           }
          ],
          "barpolar": [
           {
            "marker": {
             "line": {
              "color": "#E5ECF6",
              "width": 0.5
             },
             "pattern": {
              "fillmode": "overlay",
              "size": 10,
              "solidity": 0.2
             }
            },
            "type": "barpolar"
           }
          ],
          "carpet": [
           {
            "aaxis": {
             "endlinecolor": "#2a3f5f",
             "gridcolor": "white",
             "linecolor": "white",
             "minorgridcolor": "white",
             "startlinecolor": "#2a3f5f"
            },
            "baxis": {
             "endlinecolor": "#2a3f5f",
             "gridcolor": "white",
             "linecolor": "white",
             "minorgridcolor": "white",
             "startlinecolor": "#2a3f5f"
            },
            "type": "carpet"
           }
          ],
          "choropleth": [
           {
            "colorbar": {
             "outlinewidth": 0,
             "ticks": ""
            },
            "type": "choropleth"
           }
          ],
          "contour": [
           {
            "colorbar": {
             "outlinewidth": 0,
             "ticks": ""
            },
            "colorscale": [
             [
              0,
              "#0d0887"
             ],
             [
              0.1111111111111111,
              "#46039f"
             ],
             [
              0.2222222222222222,
              "#7201a8"
             ],
             [
              0.3333333333333333,
              "#9c179e"
             ],
             [
              0.4444444444444444,
              "#bd3786"
             ],
             [
              0.5555555555555556,
              "#d8576b"
             ],
             [
              0.6666666666666666,
              "#ed7953"
             ],
             [
              0.7777777777777778,
              "#fb9f3a"
             ],
             [
              0.8888888888888888,
              "#fdca26"
             ],
             [
              1,
              "#f0f921"
             ]
            ],
            "type": "contour"
           }
          ],
          "contourcarpet": [
           {
            "colorbar": {
             "outlinewidth": 0,
             "ticks": ""
            },
            "type": "contourcarpet"
           }
          ],
          "heatmap": [
           {
            "colorbar": {
             "outlinewidth": 0,
             "ticks": ""
            },
            "colorscale": [
             [
              0,
              "#0d0887"
             ],
             [
              0.1111111111111111,
              "#46039f"
             ],
             [
              0.2222222222222222,
              "#7201a8"
             ],
             [
              0.3333333333333333,
              "#9c179e"
             ],
             [
              0.4444444444444444,
              "#bd3786"
             ],
             [
              0.5555555555555556,
              "#d8576b"
             ],
             [
              0.6666666666666666,
              "#ed7953"
             ],
             [
              0.7777777777777778,
              "#fb9f3a"
             ],
             [
              0.8888888888888888,
              "#fdca26"
             ],
             [
              1,
              "#f0f921"
             ]
            ],
            "type": "heatmap"
           }
          ],
          "histogram": [
           {
            "marker": {
             "pattern": {
              "fillmode": "overlay",
              "size": 10,
              "solidity": 0.2
             }
            },
            "type": "histogram"
           }
          ],
          "histogram2d": [
           {
            "colorbar": {
             "outlinewidth": 0,
             "ticks": ""
            },
            "colorscale": [
             [
              0,
              "#0d0887"
             ],
             [
              0.1111111111111111,
              "#46039f"
             ],
             [
              0.2222222222222222,
              "#7201a8"
             ],
             [
              0.3333333333333333,
              "#9c179e"
             ],
             [
              0.4444444444444444,
              "#bd3786"
             ],
             [
              0.5555555555555556,
              "#d8576b"
             ],
             [
              0.6666666666666666,
              "#ed7953"
             ],
             [
              0.7777777777777778,
              "#fb9f3a"
             ],
             [
              0.8888888888888888,
              "#fdca26"
             ],
             [
              1,
              "#f0f921"
             ]
            ],
            "type": "histogram2d"
           }
          ],
          "histogram2dcontour": [
           {
            "colorbar": {
             "outlinewidth": 0,
             "ticks": ""
            },
            "colorscale": [
             [
              0,
              "#0d0887"
             ],
             [
              0.1111111111111111,
              "#46039f"
             ],
             [
              0.2222222222222222,
              "#7201a8"
             ],
             [
              0.3333333333333333,
              "#9c179e"
             ],
             [
              0.4444444444444444,
              "#bd3786"
             ],
             [
              0.5555555555555556,
              "#d8576b"
             ],
             [
              0.6666666666666666,
              "#ed7953"
             ],
             [
              0.7777777777777778,
              "#fb9f3a"
             ],
             [
              0.8888888888888888,
              "#fdca26"
             ],
             [
              1,
              "#f0f921"
             ]
            ],
            "type": "histogram2dcontour"
           }
          ],
          "mesh3d": [
           {
            "colorbar": {
             "outlinewidth": 0,
             "ticks": ""
            },
            "type": "mesh3d"
           }
          ],
          "parcoords": [
           {
            "line": {
             "colorbar": {
              "outlinewidth": 0,
              "ticks": ""
             }
            },
            "type": "parcoords"
           }
          ],
          "pie": [
           {
            "automargin": true,
            "type": "pie"
           }
          ],
          "scatter": [
           {
            "fillpattern": {
             "fillmode": "overlay",
             "size": 10,
             "solidity": 0.2
            },
            "type": "scatter"
           }
          ],
          "scatter3d": [
           {
            "line": {
             "colorbar": {
              "outlinewidth": 0,
              "ticks": ""
             }
            },
            "marker": {
             "colorbar": {
              "outlinewidth": 0,
              "ticks": ""
             }
            },
            "type": "scatter3d"
           }
          ],
          "scattercarpet": [
           {
            "marker": {
             "colorbar": {
              "outlinewidth": 0,
              "ticks": ""
             }
            },
            "type": "scattercarpet"
           }
          ],
          "scattergeo": [
           {
            "marker": {
             "colorbar": {
              "outlinewidth": 0,
              "ticks": ""
             }
            },
            "type": "scattergeo"
           }
          ],
          "scattergl": [
           {
            "marker": {
             "colorbar": {
              "outlinewidth": 0,
              "ticks": ""
             }
            },
            "type": "scattergl"
           }
          ],
          "scattermap": [
           {
            "marker": {
             "colorbar": {
              "outlinewidth": 0,
              "ticks": ""
             }
            },
            "type": "scattermap"
           }
          ],
          "scattermapbox": [
           {
            "marker": {
             "colorbar": {
              "outlinewidth": 0,
              "ticks": ""
             }
            },
            "type": "scattermapbox"
           }
          ],
          "scatterpolar": [
           {
            "marker": {
             "colorbar": {
              "outlinewidth": 0,
              "ticks": ""
             }
            },
            "type": "scatterpolar"
           }
          ],
          "scatterpolargl": [
           {
            "marker": {
             "colorbar": {
              "outlinewidth": 0,
              "ticks": ""
             }
            },
            "type": "scatterpolargl"
           }
          ],
          "scatterternary": [
           {
            "marker": {
             "colorbar": {
              "outlinewidth": 0,
              "ticks": ""
             }
            },
            "type": "scatterternary"
           }
          ],
          "surface": [
           {
            "colorbar": {
             "outlinewidth": 0,
             "ticks": ""
            },
            "colorscale": [
             [
              0,
              "#0d0887"
             ],
             [
              0.1111111111111111,
              "#46039f"
             ],
             [
              0.2222222222222222,
              "#7201a8"
             ],
             [
              0.3333333333333333,
              "#9c179e"
             ],
             [
              0.4444444444444444,
              "#bd3786"
             ],
             [
              0.5555555555555556,
              "#d8576b"
             ],
             [
              0.6666666666666666,
              "#ed7953"
             ],
             [
              0.7777777777777778,
              "#fb9f3a"
             ],
             [
              0.8888888888888888,
              "#fdca26"
             ],
             [
              1,
              "#f0f921"
             ]
            ],
            "type": "surface"
           }
          ],
          "table": [
           {
            "cells": {
             "fill": {
              "color": "#EBF0F8"
             },
             "line": {
              "color": "white"
             }
            },
            "header": {
             "fill": {
              "color": "#C8D4E3"
             },
             "line": {
              "color": "white"
             }
            },
            "type": "table"
           }
          ]
         },
         "layout": {
          "annotationdefaults": {
           "arrowcolor": "#2a3f5f",
           "arrowhead": 0,
           "arrowwidth": 1
          },
          "autotypenumbers": "strict",
          "coloraxis": {
           "colorbar": {
            "outlinewidth": 0,
            "ticks": ""
           }
          },
          "colorscale": {
           "diverging": [
            [
             0,
             "#8e0152"
            ],
            [
             0.1,
             "#c51b7d"
            ],
            [
             0.2,
             "#de77ae"
            ],
            [
             0.3,
             "#f1b6da"
            ],
            [
             0.4,
             "#fde0ef"
            ],
            [
             0.5,
             "#f7f7f7"
            ],
            [
             0.6,
             "#e6f5d0"
            ],
            [
             0.7,
             "#b8e186"
            ],
            [
             0.8,
             "#7fbc41"
            ],
            [
             0.9,
             "#4d9221"
            ],
            [
             1,
             "#276419"
            ]
           ],
           "sequential": [
            [
             0,
             "#0d0887"
            ],
            [
             0.1111111111111111,
             "#46039f"
            ],
            [
             0.2222222222222222,
             "#7201a8"
            ],
            [
             0.3333333333333333,
             "#9c179e"
            ],
            [
             0.4444444444444444,
             "#bd3786"
            ],
            [
             0.5555555555555556,
             "#d8576b"
            ],
            [
             0.6666666666666666,
             "#ed7953"
            ],
            [
             0.7777777777777778,
             "#fb9f3a"
            ],
            [
             0.8888888888888888,
             "#fdca26"
            ],
            [
             1,
             "#f0f921"
            ]
           ],
           "sequentialminus": [
            [
             0,
             "#0d0887"
            ],
            [
             0.1111111111111111,
             "#46039f"
            ],
            [
             0.2222222222222222,
             "#7201a8"
            ],
            [
             0.3333333333333333,
             "#9c179e"
            ],
            [
             0.4444444444444444,
             "#bd3786"
            ],
            [
             0.5555555555555556,
             "#d8576b"
            ],
            [
             0.6666666666666666,
             "#ed7953"
            ],
            [
             0.7777777777777778,
             "#fb9f3a"
            ],
            [
             0.8888888888888888,
             "#fdca26"
            ],
            [
             1,
             "#f0f921"
            ]
           ]
          },
          "colorway": [
           "#636efa",
           "#EF553B",
           "#00cc96",
           "#ab63fa",
           "#FFA15A",
           "#19d3f3",
           "#FF6692",
           "#B6E880",
           "#FF97FF",
           "#FECB52"
          ],
          "font": {
           "color": "#2a3f5f"
          },
          "geo": {
           "bgcolor": "white",
           "lakecolor": "white",
           "landcolor": "#E5ECF6",
           "showlakes": true,
           "showland": true,
           "subunitcolor": "white"
          },
          "hoverlabel": {
           "align": "left"
          },
          "hovermode": "closest",
          "mapbox": {
           "style": "light"
          },
          "paper_bgcolor": "white",
          "plot_bgcolor": "#E5ECF6",
          "polar": {
           "angularaxis": {
            "gridcolor": "white",
            "linecolor": "white",
            "ticks": ""
           },
           "bgcolor": "#E5ECF6",
           "radialaxis": {
            "gridcolor": "white",
            "linecolor": "white",
            "ticks": ""
           }
          },
          "scene": {
           "xaxis": {
            "backgroundcolor": "#E5ECF6",
            "gridcolor": "white",
            "gridwidth": 2,
            "linecolor": "white",
            "showbackground": true,
            "ticks": "",
            "zerolinecolor": "white"
           },
           "yaxis": {
            "backgroundcolor": "#E5ECF6",
            "gridcolor": "white",
            "gridwidth": 2,
            "linecolor": "white",
            "showbackground": true,
            "ticks": "",
            "zerolinecolor": "white"
           },
           "zaxis": {
            "backgroundcolor": "#E5ECF6",
            "gridcolor": "white",
            "gridwidth": 2,
            "linecolor": "white",
            "showbackground": true,
            "ticks": "",
            "zerolinecolor": "white"
           }
          },
          "shapedefaults": {
           "line": {
            "color": "#2a3f5f"
           }
          },
          "ternary": {
           "aaxis": {
            "gridcolor": "white",
            "linecolor": "white",
            "ticks": ""
           },
           "baxis": {
            "gridcolor": "white",
            "linecolor": "white",
            "ticks": ""
           },
           "bgcolor": "#E5ECF6",
           "caxis": {
            "gridcolor": "white",
            "linecolor": "white",
            "ticks": ""
           }
          },
          "title": {
           "x": 0.05
          },
          "xaxis": {
           "automargin": true,
           "gridcolor": "white",
           "linecolor": "white",
           "ticks": "",
           "title": {
            "standoff": 15
           },
           "zerolinecolor": "white",
           "zerolinewidth": 2
          },
          "yaxis": {
           "automargin": true,
           "gridcolor": "white",
           "linecolor": "white",
           "ticks": "",
           "title": {
            "standoff": 15
           },
           "zerolinecolor": "white",
           "zerolinewidth": 2
          }
         }
        },
        "title": {
         "text": "Sales per Year Based on Day",
         "x": 0.5
        },
        "xaxis": {
         "anchor": "y",
         "domain": [
          0,
          1
         ],
         "tickangle": -90,
         "title": {
          "text": "Day"
         }
        },
        "yaxis": {
         "anchor": "x",
         "domain": [
          0,
          1
         ],
         "title": {
          "text": "quantity"
         }
        }
       }
      }
     },
     "metadata": {},
     "output_type": "display_data"
    }
   ],
   "source": [
    "# Make a line chart total pizza sold by day.\n",
    "fig = px.line(DaySalesperYear, x=\"order_day\", y=\"quantity\", title='Sales per Year Based on Day')\n",
    "fig.update_xaxes(tickangle=270)\n",
    "fig.update_layout(xaxis_title='Day', title_x=0.5)\n",
    "fig.show()"
   ]
  },
  {
   "cell_type": "markdown",
   "id": "b501c832",
   "metadata": {},
   "source": [
    "From the chart we can see day that pizza is most sold is on Friday."
   ]
  },
  {
   "cell_type": "code",
   "execution_count": 20,
   "id": "be0e5775",
   "metadata": {},
   "outputs": [
    {
     "name": "stdout",
     "output_type": "stream",
     "text": [
      "Total pizzas sold on January: 4232\n",
      "Total pizzas sold on February: 3961\n",
      "Total pizzas sold on March: 4261\n",
      "Total pizzas sold on April: 4151\n",
      "Total pizzas sold on May: 4328\n",
      "Total pizzas sold on June: 4107\n",
      "Total pizzas sold on July: 4392\n",
      "Total pizzas sold on August: 4168\n",
      "Total pizzas sold on September: 3890\n",
      "Total pizzas sold on October: 3883\n",
      "Total pizzas sold on November: 4266\n",
      "Total pizzas sold on December: 3935\n"
     ]
    },
    {
     "name": "stderr",
     "output_type": "stream",
     "text": [
      "/var/folders/7l/8n2lxy7s00x2n3yc9gxj78bh0000gn/T/ipykernel_19590/3610846482.py:49: FutureWarning:\n",
      "\n",
      "The default of observed=False is deprecated and will be changed to True in a future version of pandas. Pass observed=False to retain current behavior or observed=True to adopt the future default and silence this warning.\n",
      "\n"
     ]
    }
   ],
   "source": [
    "JanuaryperYear = df.loc[(df['MonthName'] == 'January'), 'quantity'].sum()\n",
    "\n",
    "print(\"Total pizzas sold on January:\", JanuaryperYear)\n",
    "\n",
    "FebruaryperYear = df.loc[(df['MonthName'] == 'February'), 'quantity'].sum()\n",
    "\n",
    "print(\"Total pizzas sold on February:\", FebruaryperYear)\n",
    "\n",
    "MarchperYear = df.loc[(df['MonthName'] == 'March'), 'quantity'].sum()\n",
    "\n",
    "print(\"Total pizzas sold on March:\", MarchperYear)\n",
    "\n",
    "AprilperYear = df.loc[(df['MonthName'] == 'April'), 'quantity'].sum()\n",
    "\n",
    "print(\"Total pizzas sold on April:\", AprilperYear)\n",
    "\n",
    "MayperYear = df.loc[(df['MonthName'] == 'May'), 'quantity'].sum()\n",
    "\n",
    "print(\"Total pizzas sold on May:\", MayperYear)\n",
    "\n",
    "JuneperYear = df.loc[(df['MonthName'] == 'June'), 'quantity'].sum()\n",
    "\n",
    "print(\"Total pizzas sold on June:\", JuneperYear)\n",
    "\n",
    "JulyperYear = df.loc[(df['MonthName'] == 'July'), 'quantity'].sum()\n",
    "\n",
    "print(\"Total pizzas sold on July:\", JulyperYear)\n",
    "\n",
    "AugustperYear = df.loc[(df['MonthName'] == 'August'), 'quantity'].sum()\n",
    "\n",
    "print(\"Total pizzas sold on August:\", AugustperYear)\n",
    "\n",
    "SeptemberperYear = df.loc[(df['MonthName'] == 'September'), 'quantity'].sum()\n",
    "\n",
    "print(\"Total pizzas sold on September:\", SeptemberperYear)\n",
    "\n",
    "OctoberperYear = df.loc[(df['MonthName'] == 'October'), 'quantity'].sum()\n",
    "\n",
    "print(\"Total pizzas sold on October:\", OctoberperYear)\n",
    "\n",
    "NovemberperYear = df.loc[(df['MonthName'] == 'November'), 'quantity'].sum()\n",
    "\n",
    "print(\"Total pizzas sold on November:\", NovemberperYear)\n",
    "\n",
    "DecemberperYear = df.loc[(df['MonthName'] == 'December'), 'quantity'].sum()\n",
    "\n",
    "print(\"Total pizzas sold on December:\", DecemberperYear)\n",
    "\n",
    "SalesperMonth = df.groupby('MonthName')['quantity'].sum().reset_index()"
   ]
  },
  {
   "cell_type": "markdown",
   "id": "e2c2bf8c",
   "metadata": {},
   "source": [
    "The purpose of code cell above is to count total pizza sold by month."
   ]
  },
  {
   "cell_type": "code",
   "execution_count": 21,
   "id": "d18b1eac",
   "metadata": {},
   "outputs": [
    {
     "name": "stdout",
     "output_type": "stream",
     "text": [
      "Revenue on January: 69793.3\n",
      "Revenue on February: 65159.6\n",
      "Revenue on March: 70397.09999999999\n",
      "Revenue on April: 68736.80000000002\n",
      "Revenue on May: 71402.75\n",
      "Revenue on June: 68230.2\n",
      "Revenue on July: 72557.9\n",
      "Revenue on August: 68278.25\n",
      "Revenue on September: 64180.049999999996\n",
      "Revenue on October: 64027.600000000006\n",
      "Revenue on November: 70395.35\n",
      "Revenue on December: 64701.15\n"
     ]
    },
    {
     "name": "stderr",
     "output_type": "stream",
     "text": [
      "/var/folders/7l/8n2lxy7s00x2n3yc9gxj78bh0000gn/T/ipykernel_19590/1985151579.py:49: FutureWarning:\n",
      "\n",
      "The default of observed=False is deprecated and will be changed to True in a future version of pandas. Pass observed=False to retain current behavior or observed=True to adopt the future default and silence this warning.\n",
      "\n"
     ]
    }
   ],
   "source": [
    "RevenueJanuary = df.loc[(df['MonthName'] == 'January'), 'total_price'].sum()\n",
    "\n",
    "print(\"Revenue on January:\", RevenueJanuary)\n",
    "\n",
    "RevenueFebruary = df.loc[(df['MonthName'] == 'February'), 'total_price'].sum()\n",
    "\n",
    "print(\"Revenue on February:\", RevenueFebruary)\n",
    "\n",
    "RevenueMarch = df.loc[(df['MonthName'] == 'March'), 'total_price'].sum()\n",
    "\n",
    "print(\"Revenue on March:\", RevenueMarch)\n",
    "\n",
    "RevenueApril = df.loc[(df['MonthName'] == 'April'), 'total_price'].sum()\n",
    "\n",
    "print(\"Revenue on April:\", RevenueApril)\n",
    "\n",
    "RevenueMay = df.loc[(df['MonthName'] == 'May'), 'total_price'].sum()\n",
    "\n",
    "print(\"Revenue on May:\", RevenueMay)\n",
    "\n",
    "RevenueJune = df.loc[(df['MonthName'] == 'June'), 'total_price'].sum()\n",
    "\n",
    "print(\"Revenue on June:\", RevenueJune)\n",
    "\n",
    "RevenueJuly = df.loc[(df['MonthName'] == 'July'), 'total_price'].sum()\n",
    "\n",
    "print(\"Revenue on July:\", RevenueJuly)\n",
    "\n",
    "RevenueAugust = df.loc[(df['MonthName'] == 'August'), 'total_price'].sum()\n",
    "\n",
    "print(\"Revenue on August:\", RevenueAugust)\n",
    "\n",
    "RevenueSeptember = df.loc[(df['MonthName'] == 'September'), 'total_price'].sum()\n",
    "\n",
    "print(\"Revenue on September:\", RevenueSeptember)\n",
    "\n",
    "RevenueOctober = df.loc[(df['MonthName'] == 'October'), 'total_price'].sum()\n",
    "\n",
    "print(\"Revenue on October:\", RevenueOctober)\n",
    "\n",
    "RevenueNovember = df.loc[(df['MonthName'] == 'November'), 'total_price'].sum()\n",
    "\n",
    "print(\"Revenue on November:\", RevenueNovember)\n",
    "\n",
    "RevenueDecember = df.loc[(df['MonthName'] == 'December'), 'total_price'].sum()\n",
    "\n",
    "print(\"Revenue on December:\", RevenueDecember)\n",
    "\n",
    "RevenueperMonth = df.groupby('MonthName')['total_price'].sum().reset_index()"
   ]
  },
  {
   "cell_type": "markdown",
   "id": "d33b45ca",
   "metadata": {},
   "source": [
    "The purpose of code cell above is to count revenue by month."
   ]
  },
  {
   "cell_type": "code",
   "execution_count": 22,
   "id": "41171704",
   "metadata": {},
   "outputs": [
    {
     "data": {
      "application/vnd.plotly.v1+json": {
       "config": {
        "plotlyServerURL": "https://plot.ly"
       },
       "data": [
        {
         "hovertemplate": "MonthName=%{x}<br>quantity=%{y}<extra></extra>",
         "legendgroup": "January",
         "marker": {
          "color": "rgb(229, 134, 6)",
          "pattern": {
           "shape": ""
          }
         },
         "name": "January",
         "orientation": "v",
         "showlegend": true,
         "textposition": "auto",
         "type": "bar",
         "x": [
          "January"
         ],
         "xaxis": "x",
         "y": {
          "bdata": "iBA=",
          "dtype": "i2"
         },
         "yaxis": "y"
        },
        {
         "hovertemplate": "MonthName=%{x}<br>quantity=%{y}<extra></extra>",
         "legendgroup": "February",
         "marker": {
          "color": "rgb(93, 105, 177)",
          "pattern": {
           "shape": ""
          }
         },
         "name": "February",
         "orientation": "v",
         "showlegend": true,
         "textposition": "auto",
         "type": "bar",
         "x": [
          "February"
         ],
         "xaxis": "x",
         "y": {
          "bdata": "eQ8=",
          "dtype": "i2"
         },
         "yaxis": "y"
        },
        {
         "hovertemplate": "MonthName=%{x}<br>quantity=%{y}<extra></extra>",
         "legendgroup": "March",
         "marker": {
          "color": "rgb(82, 188, 163)",
          "pattern": {
           "shape": ""
          }
         },
         "name": "March",
         "orientation": "v",
         "showlegend": true,
         "textposition": "auto",
         "type": "bar",
         "x": [
          "March"
         ],
         "xaxis": "x",
         "y": {
          "bdata": "pRA=",
          "dtype": "i2"
         },
         "yaxis": "y"
        },
        {
         "hovertemplate": "MonthName=%{x}<br>quantity=%{y}<extra></extra>",
         "legendgroup": "April",
         "marker": {
          "color": "rgb(153, 201, 69)",
          "pattern": {
           "shape": ""
          }
         },
         "name": "April",
         "orientation": "v",
         "showlegend": true,
         "textposition": "auto",
         "type": "bar",
         "x": [
          "April"
         ],
         "xaxis": "x",
         "y": {
          "bdata": "NxA=",
          "dtype": "i2"
         },
         "yaxis": "y"
        },
        {
         "hovertemplate": "MonthName=%{x}<br>quantity=%{y}<extra></extra>",
         "legendgroup": "May",
         "marker": {
          "color": "rgb(204, 97, 176)",
          "pattern": {
           "shape": ""
          }
         },
         "name": "May",
         "orientation": "v",
         "showlegend": true,
         "textposition": "auto",
         "type": "bar",
         "x": [
          "May"
         ],
         "xaxis": "x",
         "y": {
          "bdata": "6BA=",
          "dtype": "i2"
         },
         "yaxis": "y"
        },
        {
         "hovertemplate": "MonthName=%{x}<br>quantity=%{y}<extra></extra>",
         "legendgroup": "June",
         "marker": {
          "color": "rgb(36, 121, 108)",
          "pattern": {
           "shape": ""
          }
         },
         "name": "June",
         "orientation": "v",
         "showlegend": true,
         "textposition": "auto",
         "type": "bar",
         "x": [
          "June"
         ],
         "xaxis": "x",
         "y": {
          "bdata": "CxA=",
          "dtype": "i2"
         },
         "yaxis": "y"
        },
        {
         "hovertemplate": "MonthName=%{x}<br>quantity=%{y}<extra></extra>",
         "legendgroup": "July",
         "marker": {
          "color": "rgb(218, 165, 27)",
          "pattern": {
           "shape": ""
          }
         },
         "name": "July",
         "orientation": "v",
         "showlegend": true,
         "textposition": "auto",
         "type": "bar",
         "x": [
          "July"
         ],
         "xaxis": "x",
         "y": {
          "bdata": "KBE=",
          "dtype": "i2"
         },
         "yaxis": "y"
        },
        {
         "hovertemplate": "MonthName=%{x}<br>quantity=%{y}<extra></extra>",
         "legendgroup": "August",
         "marker": {
          "color": "rgb(47, 138, 196)",
          "pattern": {
           "shape": ""
          }
         },
         "name": "August",
         "orientation": "v",
         "showlegend": true,
         "textposition": "auto",
         "type": "bar",
         "x": [
          "August"
         ],
         "xaxis": "x",
         "y": {
          "bdata": "SBA=",
          "dtype": "i2"
         },
         "yaxis": "y"
        },
        {
         "hovertemplate": "MonthName=%{x}<br>quantity=%{y}<extra></extra>",
         "legendgroup": "September",
         "marker": {
          "color": "rgb(118, 78, 159)",
          "pattern": {
           "shape": ""
          }
         },
         "name": "September",
         "orientation": "v",
         "showlegend": true,
         "textposition": "auto",
         "type": "bar",
         "x": [
          "September"
         ],
         "xaxis": "x",
         "y": {
          "bdata": "Mg8=",
          "dtype": "i2"
         },
         "yaxis": "y"
        },
        {
         "hovertemplate": "MonthName=%{x}<br>quantity=%{y}<extra></extra>",
         "legendgroup": "October",
         "marker": {
          "color": "rgb(237, 100, 90)",
          "pattern": {
           "shape": ""
          }
         },
         "name": "October",
         "orientation": "v",
         "showlegend": true,
         "textposition": "auto",
         "type": "bar",
         "x": [
          "October"
         ],
         "xaxis": "x",
         "y": {
          "bdata": "Kw8=",
          "dtype": "i2"
         },
         "yaxis": "y"
        },
        {
         "hovertemplate": "MonthName=%{x}<br>quantity=%{y}<extra></extra>",
         "legendgroup": "November",
         "marker": {
          "color": "rgb(165, 170, 153)",
          "pattern": {
           "shape": ""
          }
         },
         "name": "November",
         "orientation": "v",
         "showlegend": true,
         "textposition": "auto",
         "type": "bar",
         "x": [
          "November"
         ],
         "xaxis": "x",
         "y": {
          "bdata": "qhA=",
          "dtype": "i2"
         },
         "yaxis": "y"
        },
        {
         "hovertemplate": "MonthName=%{x}<br>quantity=%{y}<extra></extra>",
         "legendgroup": "December",
         "marker": {
          "color": "rgb(229, 134, 6)",
          "pattern": {
           "shape": ""
          }
         },
         "name": "December",
         "orientation": "v",
         "showlegend": true,
         "textposition": "auto",
         "type": "bar",
         "x": [
          "December"
         ],
         "xaxis": "x",
         "y": {
          "bdata": "Xw8=",
          "dtype": "i2"
         },
         "yaxis": "y"
        }
       ],
       "layout": {
        "barmode": "relative",
        "font": {
         "color": "black"
        },
        "legend": {
         "title": {
          "text": "MonthName"
         },
         "tracegroupgap": 0
        },
        "paper_bgcolor": "white",
        "plot_bgcolor": "white",
        "template": {
         "data": {
          "bar": [
           {
            "error_x": {
             "color": "#2a3f5f"
            },
            "error_y": {
             "color": "#2a3f5f"
            },
            "marker": {
             "line": {
              "color": "#E5ECF6",
              "width": 0.5
             },
             "pattern": {
              "fillmode": "overlay",
              "size": 10,
              "solidity": 0.2
             }
            },
            "type": "bar"
           }
          ],
          "barpolar": [
           {
            "marker": {
             "line": {
              "color": "#E5ECF6",
              "width": 0.5
             },
             "pattern": {
              "fillmode": "overlay",
              "size": 10,
              "solidity": 0.2
             }
            },
            "type": "barpolar"
           }
          ],
          "carpet": [
           {
            "aaxis": {
             "endlinecolor": "#2a3f5f",
             "gridcolor": "white",
             "linecolor": "white",
             "minorgridcolor": "white",
             "startlinecolor": "#2a3f5f"
            },
            "baxis": {
             "endlinecolor": "#2a3f5f",
             "gridcolor": "white",
             "linecolor": "white",
             "minorgridcolor": "white",
             "startlinecolor": "#2a3f5f"
            },
            "type": "carpet"
           }
          ],
          "choropleth": [
           {
            "colorbar": {
             "outlinewidth": 0,
             "ticks": ""
            },
            "type": "choropleth"
           }
          ],
          "contour": [
           {
            "colorbar": {
             "outlinewidth": 0,
             "ticks": ""
            },
            "colorscale": [
             [
              0,
              "#0d0887"
             ],
             [
              0.1111111111111111,
              "#46039f"
             ],
             [
              0.2222222222222222,
              "#7201a8"
             ],
             [
              0.3333333333333333,
              "#9c179e"
             ],
             [
              0.4444444444444444,
              "#bd3786"
             ],
             [
              0.5555555555555556,
              "#d8576b"
             ],
             [
              0.6666666666666666,
              "#ed7953"
             ],
             [
              0.7777777777777778,
              "#fb9f3a"
             ],
             [
              0.8888888888888888,
              "#fdca26"
             ],
             [
              1,
              "#f0f921"
             ]
            ],
            "type": "contour"
           }
          ],
          "contourcarpet": [
           {
            "colorbar": {
             "outlinewidth": 0,
             "ticks": ""
            },
            "type": "contourcarpet"
           }
          ],
          "heatmap": [
           {
            "colorbar": {
             "outlinewidth": 0,
             "ticks": ""
            },
            "colorscale": [
             [
              0,
              "#0d0887"
             ],
             [
              0.1111111111111111,
              "#46039f"
             ],
             [
              0.2222222222222222,
              "#7201a8"
             ],
             [
              0.3333333333333333,
              "#9c179e"
             ],
             [
              0.4444444444444444,
              "#bd3786"
             ],
             [
              0.5555555555555556,
              "#d8576b"
             ],
             [
              0.6666666666666666,
              "#ed7953"
             ],
             [
              0.7777777777777778,
              "#fb9f3a"
             ],
             [
              0.8888888888888888,
              "#fdca26"
             ],
             [
              1,
              "#f0f921"
             ]
            ],
            "type": "heatmap"
           }
          ],
          "histogram": [
           {
            "marker": {
             "pattern": {
              "fillmode": "overlay",
              "size": 10,
              "solidity": 0.2
             }
            },
            "type": "histogram"
           }
          ],
          "histogram2d": [
           {
            "colorbar": {
             "outlinewidth": 0,
             "ticks": ""
            },
            "colorscale": [
             [
              0,
              "#0d0887"
             ],
             [
              0.1111111111111111,
              "#46039f"
             ],
             [
              0.2222222222222222,
              "#7201a8"
             ],
             [
              0.3333333333333333,
              "#9c179e"
             ],
             [
              0.4444444444444444,
              "#bd3786"
             ],
             [
              0.5555555555555556,
              "#d8576b"
             ],
             [
              0.6666666666666666,
              "#ed7953"
             ],
             [
              0.7777777777777778,
              "#fb9f3a"
             ],
             [
              0.8888888888888888,
              "#fdca26"
             ],
             [
              1,
              "#f0f921"
             ]
            ],
            "type": "histogram2d"
           }
          ],
          "histogram2dcontour": [
           {
            "colorbar": {
             "outlinewidth": 0,
             "ticks": ""
            },
            "colorscale": [
             [
              0,
              "#0d0887"
             ],
             [
              0.1111111111111111,
              "#46039f"
             ],
             [
              0.2222222222222222,
              "#7201a8"
             ],
             [
              0.3333333333333333,
              "#9c179e"
             ],
             [
              0.4444444444444444,
              "#bd3786"
             ],
             [
              0.5555555555555556,
              "#d8576b"
             ],
             [
              0.6666666666666666,
              "#ed7953"
             ],
             [
              0.7777777777777778,
              "#fb9f3a"
             ],
             [
              0.8888888888888888,
              "#fdca26"
             ],
             [
              1,
              "#f0f921"
             ]
            ],
            "type": "histogram2dcontour"
           }
          ],
          "mesh3d": [
           {
            "colorbar": {
             "outlinewidth": 0,
             "ticks": ""
            },
            "type": "mesh3d"
           }
          ],
          "parcoords": [
           {
            "line": {
             "colorbar": {
              "outlinewidth": 0,
              "ticks": ""
             }
            },
            "type": "parcoords"
           }
          ],
          "pie": [
           {
            "automargin": true,
            "type": "pie"
           }
          ],
          "scatter": [
           {
            "fillpattern": {
             "fillmode": "overlay",
             "size": 10,
             "solidity": 0.2
            },
            "type": "scatter"
           }
          ],
          "scatter3d": [
           {
            "line": {
             "colorbar": {
              "outlinewidth": 0,
              "ticks": ""
             }
            },
            "marker": {
             "colorbar": {
              "outlinewidth": 0,
              "ticks": ""
             }
            },
            "type": "scatter3d"
           }
          ],
          "scattercarpet": [
           {
            "marker": {
             "colorbar": {
              "outlinewidth": 0,
              "ticks": ""
             }
            },
            "type": "scattercarpet"
           }
          ],
          "scattergeo": [
           {
            "marker": {
             "colorbar": {
              "outlinewidth": 0,
              "ticks": ""
             }
            },
            "type": "scattergeo"
           }
          ],
          "scattergl": [
           {
            "marker": {
             "colorbar": {
              "outlinewidth": 0,
              "ticks": ""
             }
            },
            "type": "scattergl"
           }
          ],
          "scattermap": [
           {
            "marker": {
             "colorbar": {
              "outlinewidth": 0,
              "ticks": ""
             }
            },
            "type": "scattermap"
           }
          ],
          "scattermapbox": [
           {
            "marker": {
             "colorbar": {
              "outlinewidth": 0,
              "ticks": ""
             }
            },
            "type": "scattermapbox"
           }
          ],
          "scatterpolar": [
           {
            "marker": {
             "colorbar": {
              "outlinewidth": 0,
              "ticks": ""
             }
            },
            "type": "scatterpolar"
           }
          ],
          "scatterpolargl": [
           {
            "marker": {
             "colorbar": {
              "outlinewidth": 0,
              "ticks": ""
             }
            },
            "type": "scatterpolargl"
           }
          ],
          "scatterternary": [
           {
            "marker": {
             "colorbar": {
              "outlinewidth": 0,
              "ticks": ""
             }
            },
            "type": "scatterternary"
           }
          ],
          "surface": [
           {
            "colorbar": {
             "outlinewidth": 0,
             "ticks": ""
            },
            "colorscale": [
             [
              0,
              "#0d0887"
             ],
             [
              0.1111111111111111,
              "#46039f"
             ],
             [
              0.2222222222222222,
              "#7201a8"
             ],
             [
              0.3333333333333333,
              "#9c179e"
             ],
             [
              0.4444444444444444,
              "#bd3786"
             ],
             [
              0.5555555555555556,
              "#d8576b"
             ],
             [
              0.6666666666666666,
              "#ed7953"
             ],
             [
              0.7777777777777778,
              "#fb9f3a"
             ],
             [
              0.8888888888888888,
              "#fdca26"
             ],
             [
              1,
              "#f0f921"
             ]
            ],
            "type": "surface"
           }
          ],
          "table": [
           {
            "cells": {
             "fill": {
              "color": "#EBF0F8"
             },
             "line": {
              "color": "white"
             }
            },
            "header": {
             "fill": {
              "color": "#C8D4E3"
             },
             "line": {
              "color": "white"
             }
            },
            "type": "table"
           }
          ]
         },
         "layout": {
          "annotationdefaults": {
           "arrowcolor": "#2a3f5f",
           "arrowhead": 0,
           "arrowwidth": 1
          },
          "autotypenumbers": "strict",
          "coloraxis": {
           "colorbar": {
            "outlinewidth": 0,
            "ticks": ""
           }
          },
          "colorscale": {
           "diverging": [
            [
             0,
             "#8e0152"
            ],
            [
             0.1,
             "#c51b7d"
            ],
            [
             0.2,
             "#de77ae"
            ],
            [
             0.3,
             "#f1b6da"
            ],
            [
             0.4,
             "#fde0ef"
            ],
            [
             0.5,
             "#f7f7f7"
            ],
            [
             0.6,
             "#e6f5d0"
            ],
            [
             0.7,
             "#b8e186"
            ],
            [
             0.8,
             "#7fbc41"
            ],
            [
             0.9,
             "#4d9221"
            ],
            [
             1,
             "#276419"
            ]
           ],
           "sequential": [
            [
             0,
             "#0d0887"
            ],
            [
             0.1111111111111111,
             "#46039f"
            ],
            [
             0.2222222222222222,
             "#7201a8"
            ],
            [
             0.3333333333333333,
             "#9c179e"
            ],
            [
             0.4444444444444444,
             "#bd3786"
            ],
            [
             0.5555555555555556,
             "#d8576b"
            ],
            [
             0.6666666666666666,
             "#ed7953"
            ],
            [
             0.7777777777777778,
             "#fb9f3a"
            ],
            [
             0.8888888888888888,
             "#fdca26"
            ],
            [
             1,
             "#f0f921"
            ]
           ],
           "sequentialminus": [
            [
             0,
             "#0d0887"
            ],
            [
             0.1111111111111111,
             "#46039f"
            ],
            [
             0.2222222222222222,
             "#7201a8"
            ],
            [
             0.3333333333333333,
             "#9c179e"
            ],
            [
             0.4444444444444444,
             "#bd3786"
            ],
            [
             0.5555555555555556,
             "#d8576b"
            ],
            [
             0.6666666666666666,
             "#ed7953"
            ],
            [
             0.7777777777777778,
             "#fb9f3a"
            ],
            [
             0.8888888888888888,
             "#fdca26"
            ],
            [
             1,
             "#f0f921"
            ]
           ]
          },
          "colorway": [
           "#636efa",
           "#EF553B",
           "#00cc96",
           "#ab63fa",
           "#FFA15A",
           "#19d3f3",
           "#FF6692",
           "#B6E880",
           "#FF97FF",
           "#FECB52"
          ],
          "font": {
           "color": "#2a3f5f"
          },
          "geo": {
           "bgcolor": "white",
           "lakecolor": "white",
           "landcolor": "#E5ECF6",
           "showlakes": true,
           "showland": true,
           "subunitcolor": "white"
          },
          "hoverlabel": {
           "align": "left"
          },
          "hovermode": "closest",
          "mapbox": {
           "style": "light"
          },
          "paper_bgcolor": "white",
          "plot_bgcolor": "#E5ECF6",
          "polar": {
           "angularaxis": {
            "gridcolor": "white",
            "linecolor": "white",
            "ticks": ""
           },
           "bgcolor": "#E5ECF6",
           "radialaxis": {
            "gridcolor": "white",
            "linecolor": "white",
            "ticks": ""
           }
          },
          "scene": {
           "xaxis": {
            "backgroundcolor": "#E5ECF6",
            "gridcolor": "white",
            "gridwidth": 2,
            "linecolor": "white",
            "showbackground": true,
            "ticks": "",
            "zerolinecolor": "white"
           },
           "yaxis": {
            "backgroundcolor": "#E5ECF6",
            "gridcolor": "white",
            "gridwidth": 2,
            "linecolor": "white",
            "showbackground": true,
            "ticks": "",
            "zerolinecolor": "white"
           },
           "zaxis": {
            "backgroundcolor": "#E5ECF6",
            "gridcolor": "white",
            "gridwidth": 2,
            "linecolor": "white",
            "showbackground": true,
            "ticks": "",
            "zerolinecolor": "white"
           }
          },
          "shapedefaults": {
           "line": {
            "color": "#2a3f5f"
           }
          },
          "ternary": {
           "aaxis": {
            "gridcolor": "white",
            "linecolor": "white",
            "ticks": ""
           },
           "baxis": {
            "gridcolor": "white",
            "linecolor": "white",
            "ticks": ""
           },
           "bgcolor": "#E5ECF6",
           "caxis": {
            "gridcolor": "white",
            "linecolor": "white",
            "ticks": ""
           }
          },
          "title": {
           "x": 0.05
          },
          "xaxis": {
           "automargin": true,
           "gridcolor": "white",
           "linecolor": "white",
           "ticks": "",
           "title": {
            "standoff": 15
           },
           "zerolinecolor": "white",
           "zerolinewidth": 2
          },
          "yaxis": {
           "automargin": true,
           "gridcolor": "white",
           "linecolor": "white",
           "ticks": "",
           "title": {
            "standoff": 15
           },
           "zerolinecolor": "white",
           "zerolinewidth": 2
          }
         }
        },
        "title": {
         "text": "Total Pizza Sales by Month"
        },
        "xaxis": {
         "anchor": "y",
         "categoryarray": [
          "January",
          "February",
          "March",
          "April",
          "May",
          "June",
          "July",
          "August",
          "September",
          "October",
          "November",
          "December"
         ],
         "categoryorder": "array",
         "domain": [
          0,
          1
         ],
         "title": {
          "text": "MonthName"
         }
        },
        "yaxis": {
         "anchor": "x",
         "domain": [
          0,
          1
         ],
         "title": {
          "text": "quantity"
         }
        }
       }
      }
     },
     "metadata": {},
     "output_type": "display_data"
    }
   ],
   "source": [
    "# Make a bar chart of total pizza sold by month for entire year.\n",
    "\n",
    "fig = px.bar(\n",
    "    SalesperMonth,\n",
    "    x='MonthName',\n",
    "    y='quantity',\n",
    "    title='Total Pizza Sales by Month',\n",
    "    color='MonthName',\n",
    "    color_discrete_sequence=px.colors.qualitative.Vivid\n",
    ")\n",
    "fig.update_layout(\n",
    "    plot_bgcolor='white',\n",
    "    paper_bgcolor='white',\n",
    "    font=dict(color='black')\n",
    ")\n",
    "fig.show()"
   ]
  },
  {
   "cell_type": "code",
   "execution_count": 23,
   "id": "4df4909c",
   "metadata": {},
   "outputs": [
    {
     "data": {
      "application/vnd.plotly.v1+json": {
       "config": {
        "plotlyServerURL": "https://plot.ly"
       },
       "data": [
        {
         "hovertemplate": "MonthName=%{x}<br>total_price=%{y}<extra></extra>",
         "legendgroup": "January",
         "marker": {
          "color": "rgb(229, 134, 6)",
          "pattern": {
           "shape": ""
          }
         },
         "name": "January",
         "orientation": "v",
         "showlegend": true,
         "textposition": "auto",
         "type": "bar",
         "x": [
          "January"
         ],
         "xaxis": "x",
         "y": {
          "bdata": "zczMzBQK8UA=",
          "dtype": "f8"
         },
         "yaxis": "y"
        },
        {
         "hovertemplate": "MonthName=%{x}<br>total_price=%{y}<extra></extra>",
         "legendgroup": "February",
         "marker": {
          "color": "rgb(93, 105, 177)",
          "pattern": {
           "shape": ""
          }
         },
         "name": "February",
         "orientation": "v",
         "showlegend": true,
         "textposition": "auto",
         "type": "bar",
         "x": [
          "February"
         ],
         "xaxis": "x",
         "y": {
          "bdata": "MzMzM/PQ70A=",
          "dtype": "f8"
         },
         "yaxis": "y"
        },
        {
         "hovertemplate": "MonthName=%{x}<br>total_price=%{y}<extra></extra>",
         "legendgroup": "March",
         "marker": {
          "color": "rgb(82, 188, 163)",
          "pattern": {
           "shape": ""
          }
         },
         "name": "March",
         "orientation": "v",
         "showlegend": true,
         "textposition": "auto",
         "type": "bar",
         "x": [
          "March"
         ],
         "xaxis": "x",
         "y": {
          "bdata": "mpmZmdEv8UA=",
          "dtype": "f8"
         },
         "yaxis": "y"
        },
        {
         "hovertemplate": "MonthName=%{x}<br>total_price=%{y}<extra></extra>",
         "legendgroup": "April",
         "marker": {
          "color": "rgb(153, 201, 69)",
          "pattern": {
           "shape": ""
          }
         },
         "name": "April",
         "orientation": "v",
         "showlegend": true,
         "textposition": "auto",
         "type": "bar",
         "x": [
          "April"
         ],
         "xaxis": "x",
         "y": {
          "bdata": "zczMzAzI8EA=",
          "dtype": "f8"
         },
         "yaxis": "y"
        },
        {
         "hovertemplate": "MonthName=%{x}<br>total_price=%{y}<extra></extra>",
         "legendgroup": "May",
         "marker": {
          "color": "rgb(204, 97, 176)",
          "pattern": {
           "shape": ""
          }
         },
         "name": "May",
         "orientation": "v",
         "showlegend": true,
         "textposition": "auto",
         "type": "bar",
         "x": [
          "May"
         ],
         "xaxis": "x",
         "y": {
          "bdata": "AAAAAKxu8UA=",
          "dtype": "f8"
         },
         "yaxis": "y"
        },
        {
         "hovertemplate": "MonthName=%{x}<br>total_price=%{y}<extra></extra>",
         "legendgroup": "June",
         "marker": {
          "color": "rgb(36, 121, 108)",
          "pattern": {
           "shape": ""
          }
         },
         "name": "June",
         "orientation": "v",
         "showlegend": true,
         "textposition": "auto",
         "type": "bar",
         "x": [
          "June"
         ],
         "xaxis": "x",
         "y": {
          "bdata": "MzMzM2Oo8EA=",
          "dtype": "f8"
         },
         "yaxis": "y"
        },
        {
         "hovertemplate": "MonthName=%{x}<br>total_price=%{y}<extra></extra>",
         "legendgroup": "July",
         "marker": {
          "color": "rgb(218, 165, 27)",
          "pattern": {
           "shape": ""
          }
         },
         "name": "July",
         "orientation": "v",
         "showlegend": true,
         "textposition": "auto",
         "type": "bar",
         "x": [
          "July"
         ],
         "xaxis": "x",
         "y": {
          "bdata": "ZmZmZt628UA=",
          "dtype": "f8"
         },
         "yaxis": "y"
        },
        {
         "hovertemplate": "MonthName=%{x}<br>total_price=%{y}<extra></extra>",
         "legendgroup": "August",
         "marker": {
          "color": "rgb(47, 138, 196)",
          "pattern": {
           "shape": ""
          }
         },
         "name": "August",
         "orientation": "v",
         "showlegend": true,
         "textposition": "auto",
         "type": "bar",
         "x": [
          "August"
         ],
         "xaxis": "x",
         "y": {
          "bdata": "AAAAAGSr8EA=",
          "dtype": "f8"
         },
         "yaxis": "y"
        },
        {
         "hovertemplate": "MonthName=%{x}<br>total_price=%{y}<extra></extra>",
         "legendgroup": "September",
         "marker": {
          "color": "rgb(118, 78, 159)",
          "pattern": {
           "shape": ""
          }
         },
         "name": "September",
         "orientation": "v",
         "showlegend": true,
         "textposition": "auto",
         "type": "bar",
         "x": [
          "September"
         ],
         "xaxis": "x",
         "y": {
          "bdata": "mpmZmYFW70A=",
          "dtype": "f8"
         },
         "yaxis": "y"
        },
        {
         "hovertemplate": "MonthName=%{x}<br>total_price=%{y}<extra></extra>",
         "legendgroup": "October",
         "marker": {
          "color": "rgb(237, 100, 90)",
          "pattern": {
           "shape": ""
          }
         },
         "name": "October",
         "orientation": "v",
         "showlegend": true,
         "textposition": "auto",
         "type": "bar",
         "x": [
          "October"
         ],
         "xaxis": "x",
         "y": {
          "bdata": "MzMzM3ND70A=",
          "dtype": "f8"
         },
         "yaxis": "y"
        },
        {
         "hovertemplate": "MonthName=%{x}<br>total_price=%{y}<extra></extra>",
         "legendgroup": "November",
         "marker": {
          "color": "rgb(165, 170, 153)",
          "pattern": {
           "shape": ""
          }
         },
         "name": "November",
         "orientation": "v",
         "showlegend": true,
         "textposition": "auto",
         "type": "bar",
         "x": [
          "November"
         ],
         "xaxis": "x",
         "y": {
          "bdata": "mpmZmbUv8UA=",
          "dtype": "f8"
         },
         "yaxis": "y"
        },
        {
         "hovertemplate": "MonthName=%{x}<br>total_price=%{y}<extra></extra>",
         "legendgroup": "December",
         "marker": {
          "color": "rgb(229, 134, 6)",
          "pattern": {
           "shape": ""
          }
         },
         "name": "December",
         "orientation": "v",
         "showlegend": true,
         "textposition": "auto",
         "type": "bar",
         "x": [
          "December"
         ],
         "xaxis": "x",
         "y": {
          "bdata": "zczMzKSX70A=",
          "dtype": "f8"
         },
         "yaxis": "y"
        }
       ],
       "layout": {
        "barmode": "relative",
        "font": {
         "color": "black"
        },
        "legend": {
         "title": {
          "text": "MonthName"
         },
         "tracegroupgap": 0
        },
        "paper_bgcolor": "white",
        "plot_bgcolor": "white",
        "template": {
         "data": {
          "bar": [
           {
            "error_x": {
             "color": "#2a3f5f"
            },
            "error_y": {
             "color": "#2a3f5f"
            },
            "marker": {
             "line": {
              "color": "#E5ECF6",
              "width": 0.5
             },
             "pattern": {
              "fillmode": "overlay",
              "size": 10,
              "solidity": 0.2
             }
            },
            "type": "bar"
           }
          ],
          "barpolar": [
           {
            "marker": {
             "line": {
              "color": "#E5ECF6",
              "width": 0.5
             },
             "pattern": {
              "fillmode": "overlay",
              "size": 10,
              "solidity": 0.2
             }
            },
            "type": "barpolar"
           }
          ],
          "carpet": [
           {
            "aaxis": {
             "endlinecolor": "#2a3f5f",
             "gridcolor": "white",
             "linecolor": "white",
             "minorgridcolor": "white",
             "startlinecolor": "#2a3f5f"
            },
            "baxis": {
             "endlinecolor": "#2a3f5f",
             "gridcolor": "white",
             "linecolor": "white",
             "minorgridcolor": "white",
             "startlinecolor": "#2a3f5f"
            },
            "type": "carpet"
           }
          ],
          "choropleth": [
           {
            "colorbar": {
             "outlinewidth": 0,
             "ticks": ""
            },
            "type": "choropleth"
           }
          ],
          "contour": [
           {
            "colorbar": {
             "outlinewidth": 0,
             "ticks": ""
            },
            "colorscale": [
             [
              0,
              "#0d0887"
             ],
             [
              0.1111111111111111,
              "#46039f"
             ],
             [
              0.2222222222222222,
              "#7201a8"
             ],
             [
              0.3333333333333333,
              "#9c179e"
             ],
             [
              0.4444444444444444,
              "#bd3786"
             ],
             [
              0.5555555555555556,
              "#d8576b"
             ],
             [
              0.6666666666666666,
              "#ed7953"
             ],
             [
              0.7777777777777778,
              "#fb9f3a"
             ],
             [
              0.8888888888888888,
              "#fdca26"
             ],
             [
              1,
              "#f0f921"
             ]
            ],
            "type": "contour"
           }
          ],
          "contourcarpet": [
           {
            "colorbar": {
             "outlinewidth": 0,
             "ticks": ""
            },
            "type": "contourcarpet"
           }
          ],
          "heatmap": [
           {
            "colorbar": {
             "outlinewidth": 0,
             "ticks": ""
            },
            "colorscale": [
             [
              0,
              "#0d0887"
             ],
             [
              0.1111111111111111,
              "#46039f"
             ],
             [
              0.2222222222222222,
              "#7201a8"
             ],
             [
              0.3333333333333333,
              "#9c179e"
             ],
             [
              0.4444444444444444,
              "#bd3786"
             ],
             [
              0.5555555555555556,
              "#d8576b"
             ],
             [
              0.6666666666666666,
              "#ed7953"
             ],
             [
              0.7777777777777778,
              "#fb9f3a"
             ],
             [
              0.8888888888888888,
              "#fdca26"
             ],
             [
              1,
              "#f0f921"
             ]
            ],
            "type": "heatmap"
           }
          ],
          "histogram": [
           {
            "marker": {
             "pattern": {
              "fillmode": "overlay",
              "size": 10,
              "solidity": 0.2
             }
            },
            "type": "histogram"
           }
          ],
          "histogram2d": [
           {
            "colorbar": {
             "outlinewidth": 0,
             "ticks": ""
            },
            "colorscale": [
             [
              0,
              "#0d0887"
             ],
             [
              0.1111111111111111,
              "#46039f"
             ],
             [
              0.2222222222222222,
              "#7201a8"
             ],
             [
              0.3333333333333333,
              "#9c179e"
             ],
             [
              0.4444444444444444,
              "#bd3786"
             ],
             [
              0.5555555555555556,
              "#d8576b"
             ],
             [
              0.6666666666666666,
              "#ed7953"
             ],
             [
              0.7777777777777778,
              "#fb9f3a"
             ],
             [
              0.8888888888888888,
              "#fdca26"
             ],
             [
              1,
              "#f0f921"
             ]
            ],
            "type": "histogram2d"
           }
          ],
          "histogram2dcontour": [
           {
            "colorbar": {
             "outlinewidth": 0,
             "ticks": ""
            },
            "colorscale": [
             [
              0,
              "#0d0887"
             ],
             [
              0.1111111111111111,
              "#46039f"
             ],
             [
              0.2222222222222222,
              "#7201a8"
             ],
             [
              0.3333333333333333,
              "#9c179e"
             ],
             [
              0.4444444444444444,
              "#bd3786"
             ],
             [
              0.5555555555555556,
              "#d8576b"
             ],
             [
              0.6666666666666666,
              "#ed7953"
             ],
             [
              0.7777777777777778,
              "#fb9f3a"
             ],
             [
              0.8888888888888888,
              "#fdca26"
             ],
             [
              1,
              "#f0f921"
             ]
            ],
            "type": "histogram2dcontour"
           }
          ],
          "mesh3d": [
           {
            "colorbar": {
             "outlinewidth": 0,
             "ticks": ""
            },
            "type": "mesh3d"
           }
          ],
          "parcoords": [
           {
            "line": {
             "colorbar": {
              "outlinewidth": 0,
              "ticks": ""
             }
            },
            "type": "parcoords"
           }
          ],
          "pie": [
           {
            "automargin": true,
            "type": "pie"
           }
          ],
          "scatter": [
           {
            "fillpattern": {
             "fillmode": "overlay",
             "size": 10,
             "solidity": 0.2
            },
            "type": "scatter"
           }
          ],
          "scatter3d": [
           {
            "line": {
             "colorbar": {
              "outlinewidth": 0,
              "ticks": ""
             }
            },
            "marker": {
             "colorbar": {
              "outlinewidth": 0,
              "ticks": ""
             }
            },
            "type": "scatter3d"
           }
          ],
          "scattercarpet": [
           {
            "marker": {
             "colorbar": {
              "outlinewidth": 0,
              "ticks": ""
             }
            },
            "type": "scattercarpet"
           }
          ],
          "scattergeo": [
           {
            "marker": {
             "colorbar": {
              "outlinewidth": 0,
              "ticks": ""
             }
            },
            "type": "scattergeo"
           }
          ],
          "scattergl": [
           {
            "marker": {
             "colorbar": {
              "outlinewidth": 0,
              "ticks": ""
             }
            },
            "type": "scattergl"
           }
          ],
          "scattermap": [
           {
            "marker": {
             "colorbar": {
              "outlinewidth": 0,
              "ticks": ""
             }
            },
            "type": "scattermap"
           }
          ],
          "scattermapbox": [
           {
            "marker": {
             "colorbar": {
              "outlinewidth": 0,
              "ticks": ""
             }
            },
            "type": "scattermapbox"
           }
          ],
          "scatterpolar": [
           {
            "marker": {
             "colorbar": {
              "outlinewidth": 0,
              "ticks": ""
             }
            },
            "type": "scatterpolar"
           }
          ],
          "scatterpolargl": [
           {
            "marker": {
             "colorbar": {
              "outlinewidth": 0,
              "ticks": ""
             }
            },
            "type": "scatterpolargl"
           }
          ],
          "scatterternary": [
           {
            "marker": {
             "colorbar": {
              "outlinewidth": 0,
              "ticks": ""
             }
            },
            "type": "scatterternary"
           }
          ],
          "surface": [
           {
            "colorbar": {
             "outlinewidth": 0,
             "ticks": ""
            },
            "colorscale": [
             [
              0,
              "#0d0887"
             ],
             [
              0.1111111111111111,
              "#46039f"
             ],
             [
              0.2222222222222222,
              "#7201a8"
             ],
             [
              0.3333333333333333,
              "#9c179e"
             ],
             [
              0.4444444444444444,
              "#bd3786"
             ],
             [
              0.5555555555555556,
              "#d8576b"
             ],
             [
              0.6666666666666666,
              "#ed7953"
             ],
             [
              0.7777777777777778,
              "#fb9f3a"
             ],
             [
              0.8888888888888888,
              "#fdca26"
             ],
             [
              1,
              "#f0f921"
             ]
            ],
            "type": "surface"
           }
          ],
          "table": [
           {
            "cells": {
             "fill": {
              "color": "#EBF0F8"
             },
             "line": {
              "color": "white"
             }
            },
            "header": {
             "fill": {
              "color": "#C8D4E3"
             },
             "line": {
              "color": "white"
             }
            },
            "type": "table"
           }
          ]
         },
         "layout": {
          "annotationdefaults": {
           "arrowcolor": "#2a3f5f",
           "arrowhead": 0,
           "arrowwidth": 1
          },
          "autotypenumbers": "strict",
          "coloraxis": {
           "colorbar": {
            "outlinewidth": 0,
            "ticks": ""
           }
          },
          "colorscale": {
           "diverging": [
            [
             0,
             "#8e0152"
            ],
            [
             0.1,
             "#c51b7d"
            ],
            [
             0.2,
             "#de77ae"
            ],
            [
             0.3,
             "#f1b6da"
            ],
            [
             0.4,
             "#fde0ef"
            ],
            [
             0.5,
             "#f7f7f7"
            ],
            [
             0.6,
             "#e6f5d0"
            ],
            [
             0.7,
             "#b8e186"
            ],
            [
             0.8,
             "#7fbc41"
            ],
            [
             0.9,
             "#4d9221"
            ],
            [
             1,
             "#276419"
            ]
           ],
           "sequential": [
            [
             0,
             "#0d0887"
            ],
            [
             0.1111111111111111,
             "#46039f"
            ],
            [
             0.2222222222222222,
             "#7201a8"
            ],
            [
             0.3333333333333333,
             "#9c179e"
            ],
            [
             0.4444444444444444,
             "#bd3786"
            ],
            [
             0.5555555555555556,
             "#d8576b"
            ],
            [
             0.6666666666666666,
             "#ed7953"
            ],
            [
             0.7777777777777778,
             "#fb9f3a"
            ],
            [
             0.8888888888888888,
             "#fdca26"
            ],
            [
             1,
             "#f0f921"
            ]
           ],
           "sequentialminus": [
            [
             0,
             "#0d0887"
            ],
            [
             0.1111111111111111,
             "#46039f"
            ],
            [
             0.2222222222222222,
             "#7201a8"
            ],
            [
             0.3333333333333333,
             "#9c179e"
            ],
            [
             0.4444444444444444,
             "#bd3786"
            ],
            [
             0.5555555555555556,
             "#d8576b"
            ],
            [
             0.6666666666666666,
             "#ed7953"
            ],
            [
             0.7777777777777778,
             "#fb9f3a"
            ],
            [
             0.8888888888888888,
             "#fdca26"
            ],
            [
             1,
             "#f0f921"
            ]
           ]
          },
          "colorway": [
           "#636efa",
           "#EF553B",
           "#00cc96",
           "#ab63fa",
           "#FFA15A",
           "#19d3f3",
           "#FF6692",
           "#B6E880",
           "#FF97FF",
           "#FECB52"
          ],
          "font": {
           "color": "#2a3f5f"
          },
          "geo": {
           "bgcolor": "white",
           "lakecolor": "white",
           "landcolor": "#E5ECF6",
           "showlakes": true,
           "showland": true,
           "subunitcolor": "white"
          },
          "hoverlabel": {
           "align": "left"
          },
          "hovermode": "closest",
          "mapbox": {
           "style": "light"
          },
          "paper_bgcolor": "white",
          "plot_bgcolor": "#E5ECF6",
          "polar": {
           "angularaxis": {
            "gridcolor": "white",
            "linecolor": "white",
            "ticks": ""
           },
           "bgcolor": "#E5ECF6",
           "radialaxis": {
            "gridcolor": "white",
            "linecolor": "white",
            "ticks": ""
           }
          },
          "scene": {
           "xaxis": {
            "backgroundcolor": "#E5ECF6",
            "gridcolor": "white",
            "gridwidth": 2,
            "linecolor": "white",
            "showbackground": true,
            "ticks": "",
            "zerolinecolor": "white"
           },
           "yaxis": {
            "backgroundcolor": "#E5ECF6",
            "gridcolor": "white",
            "gridwidth": 2,
            "linecolor": "white",
            "showbackground": true,
            "ticks": "",
            "zerolinecolor": "white"
           },
           "zaxis": {
            "backgroundcolor": "#E5ECF6",
            "gridcolor": "white",
            "gridwidth": 2,
            "linecolor": "white",
            "showbackground": true,
            "ticks": "",
            "zerolinecolor": "white"
           }
          },
          "shapedefaults": {
           "line": {
            "color": "#2a3f5f"
           }
          },
          "ternary": {
           "aaxis": {
            "gridcolor": "white",
            "linecolor": "white",
            "ticks": ""
           },
           "baxis": {
            "gridcolor": "white",
            "linecolor": "white",
            "ticks": ""
           },
           "bgcolor": "#E5ECF6",
           "caxis": {
            "gridcolor": "white",
            "linecolor": "white",
            "ticks": ""
           }
          },
          "title": {
           "x": 0.05
          },
          "xaxis": {
           "automargin": true,
           "gridcolor": "white",
           "linecolor": "white",
           "ticks": "",
           "title": {
            "standoff": 15
           },
           "zerolinecolor": "white",
           "zerolinewidth": 2
          },
          "yaxis": {
           "automargin": true,
           "gridcolor": "white",
           "linecolor": "white",
           "ticks": "",
           "title": {
            "standoff": 15
           },
           "zerolinecolor": "white",
           "zerolinewidth": 2
          }
         }
        },
        "title": {
         "text": "Revenue by Month"
        },
        "xaxis": {
         "anchor": "y",
         "categoryarray": [
          "January",
          "February",
          "March",
          "April",
          "May",
          "June",
          "July",
          "August",
          "September",
          "October",
          "November",
          "December"
         ],
         "categoryorder": "array",
         "domain": [
          0,
          1
         ],
         "title": {
          "text": "MonthName"
         }
        },
        "yaxis": {
         "anchor": "x",
         "domain": [
          0,
          1
         ],
         "title": {
          "text": "total_price"
         }
        }
       }
      }
     },
     "metadata": {},
     "output_type": "display_data"
    }
   ],
   "source": [
    "# Make a bar chart of revenue by month\n",
    "\n",
    "fig = px.bar(\n",
    "    RevenueperMonth,\n",
    "    x='MonthName',\n",
    "    y='total_price',\n",
    "    title='Revenue by Month',\n",
    "    color='MonthName',\n",
    "    color_discrete_sequence=px.colors.qualitative.Vivid\n",
    ")\n",
    "fig.update_layout(\n",
    "    plot_bgcolor='white',\n",
    "    paper_bgcolor='white',\n",
    "    font=dict(color='black')\n",
    ")\n",
    "fig.show()"
   ]
  },
  {
   "cell_type": "markdown",
   "id": "2494a87c",
   "metadata": {},
   "source": [
    "Pizza are most sold in July and least in October. The pizza sell are fluctuate from january to december and there's a direct relation between quantity sold and revenue. "
   ]
  },
  {
   "cell_type": "code",
   "execution_count": 24,
   "id": "59a9f45e",
   "metadata": {},
   "outputs": [],
   "source": [
    "SizeOrder = ['S', 'M', 'L', 'XL', 'XXL']"
   ]
  },
  {
   "cell_type": "markdown",
   "id": "79309537",
   "metadata": {},
   "source": [
    "The purpose of code cell above is to make a size order."
   ]
  },
  {
   "cell_type": "code",
   "execution_count": 25,
   "id": "c8dd97e5",
   "metadata": {},
   "outputs": [
    {
     "name": "stdout",
     "output_type": "stream",
     "text": [
      "Total S-sized Pizzas sold: 14403\n",
      "Total M-sized Pizzas sold: 15635\n",
      "Total L-sized Pizzas sold 18956\n",
      "Total XL-sized Pizzas sold: 552\n",
      "Total XXL-sized Pizzas sold: 28\n"
     ]
    },
    {
     "name": "stderr",
     "output_type": "stream",
     "text": [
      "/var/folders/7l/8n2lxy7s00x2n3yc9gxj78bh0000gn/T/ipykernel_19590/1906201525.py:21: FutureWarning:\n",
      "\n",
      "The default of observed=False is deprecated and will be changed to True in a future version of pandas. Pass observed=False to retain current behavior or observed=True to adopt the future default and silence this warning.\n",
      "\n"
     ]
    }
   ],
   "source": [
    "SizeS = df.loc[(df['pizza_size'] == 'S') , 'quantity'].sum()\n",
    "\n",
    "print(\"Total S-sized Pizzas sold:\", SizeS)\n",
    "\n",
    "SizeM = df.loc[(df['pizza_size'] == 'M'), 'quantity'].sum()\n",
    "\n",
    "print(\"Total M-sized Pizzas sold:\", SizeM)\n",
    "\n",
    "SizeL = df.loc[(df['pizza_size'] == 'L'), 'quantity'].sum()\n",
    "\n",
    "print(\"Total L-sized Pizzas sold\", SizeL)\n",
    "\n",
    "SizeXL = df.loc[(df['pizza_size'] == 'XL'), 'quantity'].sum()\n",
    "\n",
    "print(\"Total XL-sized Pizzas sold:\", SizeXL)\n",
    "\n",
    "SizeXXL = df.loc[(df['pizza_size'] == 'XXL'), 'quantity'].sum()\n",
    "\n",
    "print(\"Total XXL-sized Pizzas sold:\", SizeXXL)\n",
    "\n",
    "SizeSalesYear = df.groupby('pizza_size')['quantity'].sum().reset_index()"
   ]
  },
  {
   "cell_type": "markdown",
   "id": "0b8253c0",
   "metadata": {},
   "source": [
    "The purpose of code cell above is to count total pizza by size."
   ]
  },
  {
   "cell_type": "code",
   "execution_count": 26,
   "id": "7e183952",
   "metadata": {},
   "outputs": [
    {
     "data": {
      "application/vnd.plotly.v1+json": {
       "config": {
        "plotlyServerURL": "https://plot.ly"
       },
       "data": [
        {
         "hovertemplate": "Pizza Size=%{x}<br>Total Pizzas Sold=%{y}<extra></extra>",
         "legendgroup": "S",
         "marker": {
          "color": "rgb(229, 134, 6)",
          "pattern": {
           "shape": ""
          }
         },
         "name": "S",
         "orientation": "v",
         "showlegend": true,
         "textposition": "outside",
         "texttemplate": "%{y:,}",
         "type": "bar",
         "x": [
          "S"
         ],
         "xaxis": "x",
         "y": {
          "bdata": "Qzg=",
          "dtype": "i2"
         },
         "yaxis": "y"
        },
        {
         "hovertemplate": "Pizza Size=%{x}<br>Total Pizzas Sold=%{y}<extra></extra>",
         "legendgroup": "M",
         "marker": {
          "color": "rgb(93, 105, 177)",
          "pattern": {
           "shape": ""
          }
         },
         "name": "M",
         "orientation": "v",
         "showlegend": true,
         "textposition": "outside",
         "texttemplate": "%{y:,}",
         "type": "bar",
         "x": [
          "M"
         ],
         "xaxis": "x",
         "y": {
          "bdata": "Ez0=",
          "dtype": "i2"
         },
         "yaxis": "y"
        },
        {
         "hovertemplate": "Pizza Size=%{x}<br>Total Pizzas Sold=%{y}<extra></extra>",
         "legendgroup": "L",
         "marker": {
          "color": "rgb(82, 188, 163)",
          "pattern": {
           "shape": ""
          }
         },
         "name": "L",
         "orientation": "v",
         "showlegend": true,
         "textposition": "outside",
         "texttemplate": "%{y:,}",
         "type": "bar",
         "x": [
          "L"
         ],
         "xaxis": "x",
         "y": {
          "bdata": "DEo=",
          "dtype": "i2"
         },
         "yaxis": "y"
        },
        {
         "hovertemplate": "Pizza Size=%{x}<br>Total Pizzas Sold=%{y}<extra></extra>",
         "legendgroup": "XL",
         "marker": {
          "color": "rgb(153, 201, 69)",
          "pattern": {
           "shape": ""
          }
         },
         "name": "XL",
         "orientation": "v",
         "showlegend": true,
         "textposition": "outside",
         "texttemplate": "%{y:,}",
         "type": "bar",
         "x": [
          "XL"
         ],
         "xaxis": "x",
         "y": {
          "bdata": "KAI=",
          "dtype": "i2"
         },
         "yaxis": "y"
        },
        {
         "hovertemplate": "Pizza Size=%{x}<br>Total Pizzas Sold=%{y}<extra></extra>",
         "legendgroup": "XXL",
         "marker": {
          "color": "rgb(204, 97, 176)",
          "pattern": {
           "shape": ""
          }
         },
         "name": "XXL",
         "orientation": "v",
         "showlegend": true,
         "textposition": "outside",
         "texttemplate": "%{y:,}",
         "type": "bar",
         "x": [
          "XXL"
         ],
         "xaxis": "x",
         "y": {
          "bdata": "HA==",
          "dtype": "i1"
         },
         "yaxis": "y"
        }
       ],
       "layout": {
        "barmode": "relative",
        "legend": {
         "title": {
          "text": "Pizza Size"
         },
         "tracegroupgap": 0
        },
        "plot_bgcolor": "white",
        "showlegend": false,
        "template": {
         "data": {
          "bar": [
           {
            "error_x": {
             "color": "#2a3f5f"
            },
            "error_y": {
             "color": "#2a3f5f"
            },
            "marker": {
             "line": {
              "color": "#E5ECF6",
              "width": 0.5
             },
             "pattern": {
              "fillmode": "overlay",
              "size": 10,
              "solidity": 0.2
             }
            },
            "type": "bar"
           }
          ],
          "barpolar": [
           {
            "marker": {
             "line": {
              "color": "#E5ECF6",
              "width": 0.5
             },
             "pattern": {
              "fillmode": "overlay",
              "size": 10,
              "solidity": 0.2
             }
            },
            "type": "barpolar"
           }
          ],
          "carpet": [
           {
            "aaxis": {
             "endlinecolor": "#2a3f5f",
             "gridcolor": "white",
             "linecolor": "white",
             "minorgridcolor": "white",
             "startlinecolor": "#2a3f5f"
            },
            "baxis": {
             "endlinecolor": "#2a3f5f",
             "gridcolor": "white",
             "linecolor": "white",
             "minorgridcolor": "white",
             "startlinecolor": "#2a3f5f"
            },
            "type": "carpet"
           }
          ],
          "choropleth": [
           {
            "colorbar": {
             "outlinewidth": 0,
             "ticks": ""
            },
            "type": "choropleth"
           }
          ],
          "contour": [
           {
            "colorbar": {
             "outlinewidth": 0,
             "ticks": ""
            },
            "colorscale": [
             [
              0,
              "#0d0887"
             ],
             [
              0.1111111111111111,
              "#46039f"
             ],
             [
              0.2222222222222222,
              "#7201a8"
             ],
             [
              0.3333333333333333,
              "#9c179e"
             ],
             [
              0.4444444444444444,
              "#bd3786"
             ],
             [
              0.5555555555555556,
              "#d8576b"
             ],
             [
              0.6666666666666666,
              "#ed7953"
             ],
             [
              0.7777777777777778,
              "#fb9f3a"
             ],
             [
              0.8888888888888888,
              "#fdca26"
             ],
             [
              1,
              "#f0f921"
             ]
            ],
            "type": "contour"
           }
          ],
          "contourcarpet": [
           {
            "colorbar": {
             "outlinewidth": 0,
             "ticks": ""
            },
            "type": "contourcarpet"
           }
          ],
          "heatmap": [
           {
            "colorbar": {
             "outlinewidth": 0,
             "ticks": ""
            },
            "colorscale": [
             [
              0,
              "#0d0887"
             ],
             [
              0.1111111111111111,
              "#46039f"
             ],
             [
              0.2222222222222222,
              "#7201a8"
             ],
             [
              0.3333333333333333,
              "#9c179e"
             ],
             [
              0.4444444444444444,
              "#bd3786"
             ],
             [
              0.5555555555555556,
              "#d8576b"
             ],
             [
              0.6666666666666666,
              "#ed7953"
             ],
             [
              0.7777777777777778,
              "#fb9f3a"
             ],
             [
              0.8888888888888888,
              "#fdca26"
             ],
             [
              1,
              "#f0f921"
             ]
            ],
            "type": "heatmap"
           }
          ],
          "histogram": [
           {
            "marker": {
             "pattern": {
              "fillmode": "overlay",
              "size": 10,
              "solidity": 0.2
             }
            },
            "type": "histogram"
           }
          ],
          "histogram2d": [
           {
            "colorbar": {
             "outlinewidth": 0,
             "ticks": ""
            },
            "colorscale": [
             [
              0,
              "#0d0887"
             ],
             [
              0.1111111111111111,
              "#46039f"
             ],
             [
              0.2222222222222222,
              "#7201a8"
             ],
             [
              0.3333333333333333,
              "#9c179e"
             ],
             [
              0.4444444444444444,
              "#bd3786"
             ],
             [
              0.5555555555555556,
              "#d8576b"
             ],
             [
              0.6666666666666666,
              "#ed7953"
             ],
             [
              0.7777777777777778,
              "#fb9f3a"
             ],
             [
              0.8888888888888888,
              "#fdca26"
             ],
             [
              1,
              "#f0f921"
             ]
            ],
            "type": "histogram2d"
           }
          ],
          "histogram2dcontour": [
           {
            "colorbar": {
             "outlinewidth": 0,
             "ticks": ""
            },
            "colorscale": [
             [
              0,
              "#0d0887"
             ],
             [
              0.1111111111111111,
              "#46039f"
             ],
             [
              0.2222222222222222,
              "#7201a8"
             ],
             [
              0.3333333333333333,
              "#9c179e"
             ],
             [
              0.4444444444444444,
              "#bd3786"
             ],
             [
              0.5555555555555556,
              "#d8576b"
             ],
             [
              0.6666666666666666,
              "#ed7953"
             ],
             [
              0.7777777777777778,
              "#fb9f3a"
             ],
             [
              0.8888888888888888,
              "#fdca26"
             ],
             [
              1,
              "#f0f921"
             ]
            ],
            "type": "histogram2dcontour"
           }
          ],
          "mesh3d": [
           {
            "colorbar": {
             "outlinewidth": 0,
             "ticks": ""
            },
            "type": "mesh3d"
           }
          ],
          "parcoords": [
           {
            "line": {
             "colorbar": {
              "outlinewidth": 0,
              "ticks": ""
             }
            },
            "type": "parcoords"
           }
          ],
          "pie": [
           {
            "automargin": true,
            "type": "pie"
           }
          ],
          "scatter": [
           {
            "fillpattern": {
             "fillmode": "overlay",
             "size": 10,
             "solidity": 0.2
            },
            "type": "scatter"
           }
          ],
          "scatter3d": [
           {
            "line": {
             "colorbar": {
              "outlinewidth": 0,
              "ticks": ""
             }
            },
            "marker": {
             "colorbar": {
              "outlinewidth": 0,
              "ticks": ""
             }
            },
            "type": "scatter3d"
           }
          ],
          "scattercarpet": [
           {
            "marker": {
             "colorbar": {
              "outlinewidth": 0,
              "ticks": ""
             }
            },
            "type": "scattercarpet"
           }
          ],
          "scattergeo": [
           {
            "marker": {
             "colorbar": {
              "outlinewidth": 0,
              "ticks": ""
             }
            },
            "type": "scattergeo"
           }
          ],
          "scattergl": [
           {
            "marker": {
             "colorbar": {
              "outlinewidth": 0,
              "ticks": ""
             }
            },
            "type": "scattergl"
           }
          ],
          "scattermap": [
           {
            "marker": {
             "colorbar": {
              "outlinewidth": 0,
              "ticks": ""
             }
            },
            "type": "scattermap"
           }
          ],
          "scattermapbox": [
           {
            "marker": {
             "colorbar": {
              "outlinewidth": 0,
              "ticks": ""
             }
            },
            "type": "scattermapbox"
           }
          ],
          "scatterpolar": [
           {
            "marker": {
             "colorbar": {
              "outlinewidth": 0,
              "ticks": ""
             }
            },
            "type": "scatterpolar"
           }
          ],
          "scatterpolargl": [
           {
            "marker": {
             "colorbar": {
              "outlinewidth": 0,
              "ticks": ""
             }
            },
            "type": "scatterpolargl"
           }
          ],
          "scatterternary": [
           {
            "marker": {
             "colorbar": {
              "outlinewidth": 0,
              "ticks": ""
             }
            },
            "type": "scatterternary"
           }
          ],
          "surface": [
           {
            "colorbar": {
             "outlinewidth": 0,
             "ticks": ""
            },
            "colorscale": [
             [
              0,
              "#0d0887"
             ],
             [
              0.1111111111111111,
              "#46039f"
             ],
             [
              0.2222222222222222,
              "#7201a8"
             ],
             [
              0.3333333333333333,
              "#9c179e"
             ],
             [
              0.4444444444444444,
              "#bd3786"
             ],
             [
              0.5555555555555556,
              "#d8576b"
             ],
             [
              0.6666666666666666,
              "#ed7953"
             ],
             [
              0.7777777777777778,
              "#fb9f3a"
             ],
             [
              0.8888888888888888,
              "#fdca26"
             ],
             [
              1,
              "#f0f921"
             ]
            ],
            "type": "surface"
           }
          ],
          "table": [
           {
            "cells": {
             "fill": {
              "color": "#EBF0F8"
             },
             "line": {
              "color": "white"
             }
            },
            "header": {
             "fill": {
              "color": "#C8D4E3"
             },
             "line": {
              "color": "white"
             }
            },
            "type": "table"
           }
          ]
         },
         "layout": {
          "annotationdefaults": {
           "arrowcolor": "#2a3f5f",
           "arrowhead": 0,
           "arrowwidth": 1
          },
          "autotypenumbers": "strict",
          "coloraxis": {
           "colorbar": {
            "outlinewidth": 0,
            "ticks": ""
           }
          },
          "colorscale": {
           "diverging": [
            [
             0,
             "#8e0152"
            ],
            [
             0.1,
             "#c51b7d"
            ],
            [
             0.2,
             "#de77ae"
            ],
            [
             0.3,
             "#f1b6da"
            ],
            [
             0.4,
             "#fde0ef"
            ],
            [
             0.5,
             "#f7f7f7"
            ],
            [
             0.6,
             "#e6f5d0"
            ],
            [
             0.7,
             "#b8e186"
            ],
            [
             0.8,
             "#7fbc41"
            ],
            [
             0.9,
             "#4d9221"
            ],
            [
             1,
             "#276419"
            ]
           ],
           "sequential": [
            [
             0,
             "#0d0887"
            ],
            [
             0.1111111111111111,
             "#46039f"
            ],
            [
             0.2222222222222222,
             "#7201a8"
            ],
            [
             0.3333333333333333,
             "#9c179e"
            ],
            [
             0.4444444444444444,
             "#bd3786"
            ],
            [
             0.5555555555555556,
             "#d8576b"
            ],
            [
             0.6666666666666666,
             "#ed7953"
            ],
            [
             0.7777777777777778,
             "#fb9f3a"
            ],
            [
             0.8888888888888888,
             "#fdca26"
            ],
            [
             1,
             "#f0f921"
            ]
           ],
           "sequentialminus": [
            [
             0,
             "#0d0887"
            ],
            [
             0.1111111111111111,
             "#46039f"
            ],
            [
             0.2222222222222222,
             "#7201a8"
            ],
            [
             0.3333333333333333,
             "#9c179e"
            ],
            [
             0.4444444444444444,
             "#bd3786"
            ],
            [
             0.5555555555555556,
             "#d8576b"
            ],
            [
             0.6666666666666666,
             "#ed7953"
            ],
            [
             0.7777777777777778,
             "#fb9f3a"
            ],
            [
             0.8888888888888888,
             "#fdca26"
            ],
            [
             1,
             "#f0f921"
            ]
           ]
          },
          "colorway": [
           "#636efa",
           "#EF553B",
           "#00cc96",
           "#ab63fa",
           "#FFA15A",
           "#19d3f3",
           "#FF6692",
           "#B6E880",
           "#FF97FF",
           "#FECB52"
          ],
          "font": {
           "color": "#2a3f5f"
          },
          "geo": {
           "bgcolor": "white",
           "lakecolor": "white",
           "landcolor": "#E5ECF6",
           "showlakes": true,
           "showland": true,
           "subunitcolor": "white"
          },
          "hoverlabel": {
           "align": "left"
          },
          "hovermode": "closest",
          "mapbox": {
           "style": "light"
          },
          "paper_bgcolor": "white",
          "plot_bgcolor": "#E5ECF6",
          "polar": {
           "angularaxis": {
            "gridcolor": "white",
            "linecolor": "white",
            "ticks": ""
           },
           "bgcolor": "#E5ECF6",
           "radialaxis": {
            "gridcolor": "white",
            "linecolor": "white",
            "ticks": ""
           }
          },
          "scene": {
           "xaxis": {
            "backgroundcolor": "#E5ECF6",
            "gridcolor": "white",
            "gridwidth": 2,
            "linecolor": "white",
            "showbackground": true,
            "ticks": "",
            "zerolinecolor": "white"
           },
           "yaxis": {
            "backgroundcolor": "#E5ECF6",
            "gridcolor": "white",
            "gridwidth": 2,
            "linecolor": "white",
            "showbackground": true,
            "ticks": "",
            "zerolinecolor": "white"
           },
           "zaxis": {
            "backgroundcolor": "#E5ECF6",
            "gridcolor": "white",
            "gridwidth": 2,
            "linecolor": "white",
            "showbackground": true,
            "ticks": "",
            "zerolinecolor": "white"
           }
          },
          "shapedefaults": {
           "line": {
            "color": "#2a3f5f"
           }
          },
          "ternary": {
           "aaxis": {
            "gridcolor": "white",
            "linecolor": "white",
            "ticks": ""
           },
           "baxis": {
            "gridcolor": "white",
            "linecolor": "white",
            "ticks": ""
           },
           "bgcolor": "#E5ECF6",
           "caxis": {
            "gridcolor": "white",
            "linecolor": "white",
            "ticks": ""
           }
          },
          "title": {
           "x": 0.05
          },
          "xaxis": {
           "automargin": true,
           "gridcolor": "white",
           "linecolor": "white",
           "ticks": "",
           "title": {
            "standoff": 15
           },
           "zerolinecolor": "white",
           "zerolinewidth": 2
          },
          "yaxis": {
           "automargin": true,
           "gridcolor": "white",
           "linecolor": "white",
           "ticks": "",
           "title": {
            "standoff": 15
           },
           "zerolinecolor": "white",
           "zerolinewidth": 2
          }
         }
        },
        "title": {
         "text": "Total Pizza Sales by Size",
         "x": 0.5
        },
        "xaxis": {
         "anchor": "y",
         "categoryarray": [
          "S",
          "M",
          "L",
          "XL",
          "XXL"
         ],
         "categoryorder": "array",
         "domain": [
          0,
          1
         ],
         "title": {
          "text": "Pizza Size"
         }
        },
        "yaxis": {
         "anchor": "x",
         "domain": [
          0,
          1
         ],
         "tickformat": ",",
         "title": {
          "text": "Number of Pizzas Sold"
         }
        }
       }
      }
     },
     "metadata": {},
     "output_type": "display_data"
    }
   ],
   "source": [
    "# Make a bar chart of total pizza by size.\n",
    "fig = px.bar(\n",
    "    SizeSalesYear,\n",
    "    x='pizza_size',\n",
    "    y='quantity',\n",
    "    title='Total Pizza Sales by Size',\n",
    "    labels={'quantity': 'Total Pizzas Sold', 'pizza_size': 'Pizza Size'},\n",
    "    color='pizza_size',\n",
    "    color_discrete_sequence=px.colors.qualitative.Vivid,\n",
    "    category_orders={'pizza_size': SizeOrder} \n",
    ")\n",
    "\n",
    "fig.update_layout(\n",
    "    xaxis_title='Pizza Size',\n",
    "    yaxis_title='Number of Pizzas Sold',\n",
    "    title_x=0.5,\n",
    "    plot_bgcolor='white',\n",
    "    showlegend=False\n",
    ")\n",
    "\n",
    "fig.update_yaxes(tickformat=\",\")\n",
    "fig.update_traces(texttemplate='%{y:,}', textposition='outside')\n",
    "\n",
    "fig.show()"
   ]
  },
  {
   "cell_type": "markdown",
   "id": "f87e4b3e",
   "metadata": {},
   "source": [
    "From the chart the most total pizza sales by size is L."
   ]
  },
  {
   "cell_type": "markdown",
   "id": "3c2fed51",
   "metadata": {},
   "source": [
    "## Descriptive Statistics"
   ]
  },
  {
   "cell_type": "code",
   "execution_count": 27,
   "id": "056dab07",
   "metadata": {},
   "outputs": [
    {
     "data": {
      "text/plain": [
       "order_date\n",
       "2015-01-01    162\n",
       "2015-01-02    165\n",
       "2015-01-03    158\n",
       "2015-01-04    106\n",
       "2015-01-05    125\n",
       "             ... \n",
       "2015-12-27     89\n",
       "2015-12-28    102\n",
       "2015-12-29     80\n",
       "2015-12-30     82\n",
       "2015-12-31    178\n",
       "Name: quantity, Length: 358, dtype: int64"
      ]
     },
     "execution_count": 27,
     "metadata": {},
     "output_type": "execute_result"
    }
   ],
   "source": [
    "SalesbyDateEntireYear = df.groupby('order_date')['quantity'].sum()\n",
    "SalesbyDateEntireYear"
   ]
  },
  {
   "cell_type": "markdown",
   "id": "9a64d42c",
   "metadata": {},
   "source": [
    "The purpose of code cell above is to count pizza sales by each day."
   ]
  },
  {
   "cell_type": "code",
   "execution_count": 28,
   "id": "a30ede20",
   "metadata": {},
   "outputs": [
    {
     "name": "stdout",
     "output_type": "stream",
     "text": [
      "Pizza sales in Average: 138.47486033519553\n",
      "Median of Pizza sales: 136.0\n",
      "Mode of Pizza sales: 136\n",
      "Standard Deviation of Pizza sales: 24.428669026957206\n"
     ]
    }
   ],
   "source": [
    "# Count Average, Median, Mode, and Standar Deviation pizza sales.\n",
    "print('Pizza sales in Average:',SalesbyDateEntireYear.mean())\n",
    "print('Median of Pizza sales:',SalesbyDateEntireYear.median())\n",
    "print('Mode of Pizza sales:',SalesbyDateEntireYear.mode().values[0])\n",
    "print('Standard Deviation of Pizza sales:',SalesbyDateEntireYear.std())"
   ]
  },
  {
   "cell_type": "markdown",
   "id": "a2365f1f",
   "metadata": {},
   "source": [
    "It indicates the data are almost normal distributed."
   ]
  },
  {
   "cell_type": "code",
   "execution_count": 29,
   "id": "e4024940",
   "metadata": {},
   "outputs": [
    {
     "name": "stdout",
     "output_type": "stream",
     "text": [
      "Skewness: 1.3885659936977472\n",
      "Kurtosis: 5.654136967206002\n"
     ]
    }
   ],
   "source": [
    "# Count Skewness and Kurtosis.\n",
    "print(f\"Skewness:\", SalesbyDateEntireYear.skew())\n",
    "print(f\"Kurtosis:\", SalesbyDateEntireYear.kurtosis())"
   ]
  },
  {
   "cell_type": "markdown",
   "id": "cc54e5b9",
   "metadata": {},
   "source": [
    "It indicates the distribution of pizza sales data is positively skewed and has heavier tails."
   ]
  },
  {
   "cell_type": "markdown",
   "id": "9ee53b9f",
   "metadata": {},
   "source": [
    "## Inferential Statistics"
   ]
  },
  {
   "cell_type": "markdown",
   "id": "d387bb5b",
   "metadata": {},
   "source": [
    "### Are There Significantly Difference of Average Quantity sales Among Pizza Category?"
   ]
  },
  {
   "cell_type": "markdown",
   "id": "5914d801",
   "metadata": {},
   "source": [
    "H0: There are not significantly difference of Average Quantity among pizza categories\n",
    "\n",
    "H1: There are significantly difference of Average Quantity among pizza categories"
   ]
  },
  {
   "cell_type": "code",
   "execution_count": 30,
   "id": "f4f3e7bf",
   "metadata": {},
   "outputs": [
    {
     "name": "stdout",
     "output_type": "stream",
     "text": [
      "Total Average Classic pizza sales: 1.0211948693326016\n",
      "Total Average Veggie pizza sales: 1.0174687745654643\n",
      "Total Average Supreme pizza sales: 1.0178313662222978\n",
      "Total Average Chicken pizza sales: 1.021729079981507\n"
     ]
    }
   ],
   "source": [
    "ClassicMeanperYear = df.loc[(df['pizza_category'] == 'Classic'), 'quantity'].mean()\n",
    "\n",
    "print(\"Total Average Classic pizza sales:\", ClassicMeanperYear)\n",
    "\n",
    "VeggieMeanperYear = df.loc[(df['pizza_category'] == 'Veggie'), 'quantity'].mean()\n",
    "\n",
    "print(\"Total Average Veggie pizza sales:\", VeggieMeanperYear)\n",
    "\n",
    "SupremeMeanperYear = df.loc[(df['pizza_category'] == 'Supreme'), 'quantity'].mean()\n",
    "\n",
    "print(\"Total Average Supreme pizza sales:\", SupremeMeanperYear)\n",
    "\n",
    "ChickenMeanperYear = df.loc[(df['pizza_category'] == 'Chicken'), 'quantity'].mean()\n",
    "\n",
    "print(\"Total Average Chicken pizza sales:\", ChickenMeanperYear)"
   ]
  },
  {
   "cell_type": "code",
   "execution_count": 31,
   "id": "9282fe00",
   "metadata": {},
   "outputs": [
    {
     "name": "stdout",
     "output_type": "stream",
     "text": [
      "P-value: 8.204607036361073e-198\n"
     ]
    }
   ],
   "source": [
    "res = stats.f_oneway((df['pizza_category'] == 'Chicken'), (df['pizza_category'] == 'Supreme'), \n",
    "                     (df['pizza_category'] == 'Veggie'), (df['pizza_category'] == 'Classic'))\n",
    "print('P-value:',res.pvalue)"
   ]
  },
  {
   "cell_type": "markdown",
   "id": "75ca47de",
   "metadata": {},
   "source": [
    "From the P-value there's no significantly difference of average Quantity sales among Pizza Category."
   ]
  },
  {
   "cell_type": "markdown",
   "id": "0f52c5da",
   "metadata": {},
   "source": [
    "# **vi. Conclusion**"
   ]
  },
  {
   "cell_type": "markdown",
   "id": "ec6fc0d1",
   "metadata": {},
   "source": [
    "From this pizza sales analysis you can see percentage of pizza sold by category, the pattern pizza sales based on month is fluctuate and there's a direct relation between quantity pizzas sold and revenue, pizzas sold entire year by category. The data are not normal distributed but almost because the mean, median, and mode are similar. The distribution of pizza sales data is positively skewed and has heavier tails. The standar deviation is around 24, there's no significantly difference of average quantity sales among pizza category which analyze by ANOVA. To increase pizza sales revenue by up to 7% and avoid further losses, a strategic approach is necessary."
   ]
  },
  {
   "cell_type": "markdown",
   "id": "940f669d",
   "metadata": {},
   "source": [
    "## Recommendation"
   ]
  },
  {
   "cell_type": "markdown",
   "id": "34a70b0f",
   "metadata": {},
   "source": [
    "For further analysis, you can explore more data such as how much pizza sales by size based on time order/daily sales per month to get more insight so you can make more suggestions and more solid strategy."
   ]
  }
 ],
 "metadata": {
  "kernelspec": {
   "display_name": "base",
   "language": "python",
   "name": "python3"
  },
  "language_info": {
   "codemirror_mode": {
    "name": "ipython",
    "version": 3
   },
   "file_extension": ".py",
   "mimetype": "text/x-python",
   "name": "python",
   "nbconvert_exporter": "python",
   "pygments_lexer": "ipython3",
   "version": "3.12.7"
  }
 },
 "nbformat": 4,
 "nbformat_minor": 5
}
