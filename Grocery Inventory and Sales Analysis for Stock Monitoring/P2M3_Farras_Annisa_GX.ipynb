{
 "cells": [
  {
   "cell_type": "markdown",
   "id": "41029d0f",
   "metadata": {},
   "source": [
    "# Great Expectation"
   ]
  },
  {
   "cell_type": "markdown",
   "id": "a8a3b406",
   "metadata": {},
   "source": [
    "===========================================================================================================\n",
    "\n",
    "Milestone 3\n",
    "\n",
    "Name  : Farras Annisa\n",
    "\n",
    "Batch : HCK-027\n",
    "\n",
    "This program is designed to automate stock monitoring for a grocery store. The dataset contains inventory data of items in the grocery store.\n",
    "\n",
    "\n",
    "==========================================================================================================="
   ]
  },
  {
   "cell_type": "markdown",
   "id": "e5c7ffc2",
   "metadata": {},
   "source": [
    "## i. Import Libraries"
   ]
  },
  {
   "cell_type": "code",
   "execution_count": 1,
   "id": "132f8d95",
   "metadata": {},
   "outputs": [],
   "source": [
    "# import libraries\n",
    "import pandas as pd\n",
    "import great_expectations as gx"
   ]
  },
  {
   "cell_type": "markdown",
   "id": "88a154b3",
   "metadata": {},
   "source": [
    "Library yang akan dipakai adalah Pandas, Numpy, dan Great Expectations. Berikut ini penjelasan dari masing-masing library:\n",
    "\n",
    "- Pandas dan Numpy digunakan untuk mengolah data dan filter tabel.\n",
    "\n",
    "- Great Expectations digunakan untuk melakukan validasi pada data."
   ]
  },
  {
   "cell_type": "markdown",
   "id": "6e49524d",
   "metadata": {},
   "source": [
    "# ii. Process"
   ]
  },
  {
   "cell_type": "markdown",
   "id": "2908f73a",
   "metadata": {},
   "source": [
    "## Membuat data context, data source, dan data asset"
   ]
  },
  {
   "cell_type": "code",
   "execution_count": 2,
   "id": "d81a34bf",
   "metadata": {},
   "outputs": [],
   "source": [
    "# load data\n",
    "df = pd.read_csv('P2M3_Farras_Annisa_data_clean.csv')"
   ]
  },
  {
   "cell_type": "code",
   "execution_count": 3,
   "id": "a3038840",
   "metadata": {},
   "outputs": [],
   "source": [
    "# create context\n",
    "context = gx.get_context()\n",
    "\n",
    "# add data source to the data context\n",
    "source_name = \"source-stock\"\n",
    "data_source = context.data_sources.add_pandas(name=source_name)\n",
    "\n",
    "# add data asset to the data source\n",
    "asset_name = \"asset-stock\"\n",
    "data_asset = data_source.add_dataframe_asset(name=asset_name)\n",
    "\n",
    "# add batch to the data asset\n",
    "batch_definition_name = \"batch-stock\"\n",
    "batch_definition = data_asset.add_batch_definition_whole_dataframe(\n",
    "    batch_definition_name\n",
    ")\n",
    "\n",
    "# create batch parameter\n",
    "batch_parameters = {\"dataframe\": df}"
   ]
  },
  {
   "cell_type": "code",
   "execution_count": 4,
   "id": "c58da3a8",
   "metadata": {},
   "outputs": [],
   "source": [
    "# retrieve dataframe batch definition\n",
    "source_name = \"source-stock\"\n",
    "asset_name = \"asset-stock\"\n",
    "batch_definition_name = \"batch-stock\"\n",
    "batch_definition = (\n",
    "    context.data_sources.get(source_name)\n",
    "    .get_asset(asset_name)\n",
    "    .get_batch_definition(batch_definition_name)\n",
    ")"
   ]
  },
  {
   "cell_type": "markdown",
   "id": "525b362d",
   "metadata": {},
   "source": [
    "Penjelasan:\n",
    "\n",
    "\n",
    "[Data Context adalah titik masuk utama ke API Great Expectations, yang menyediakan konfigurasi, akses ke objek-objek umum, serta mendukung pengelolaan semua komponen GX dengan opsi penyimpanan yang fleksibel, ](https://docs.greatexpectations.io/docs/0.18/reference/learn/terms/data_context/)[data source menghubungkan Great Expectations dengan data, sementara data asset mewakili subset (bagian tertentu) dari data tersebut.](https://www.datacamp.com/tutorial/great-expectations-tutorial)"
   ]
  },
  {
   "cell_type": "markdown",
   "id": "3c6c7165",
   "metadata": {},
   "source": [
    "## Expectations"
   ]
  },
  {
   "cell_type": "markdown",
   "id": "b7e1eae3",
   "metadata": {},
   "source": [
    "### Unique"
   ]
  },
  {
   "cell_type": "code",
   "execution_count": 5,
   "id": "e2070a45",
   "metadata": {},
   "outputs": [
    {
     "data": {
      "application/vnd.jupyter.widget-view+json": {
       "model_id": "58c4a9db7c254797a29831a524989409",
       "version_major": 2,
       "version_minor": 0
      },
      "text/plain": [
       "Calculating Metrics:   0%|          | 0/10 [00:00<?, ?it/s]"
      ]
     },
     "metadata": {},
     "output_type": "display_data"
    },
    {
     "name": "stdout",
     "output_type": "stream",
     "text": [
      "\n",
      "Kolom product_id dalam data: True\n"
     ]
    }
   ],
   "source": [
    "# create expectation for column to be exist\n",
    "expectation = gx.expectations.ExpectColumnValuesToBeUnique(\n",
    "    column = \"product_id\"\n",
    ")\n",
    "\n",
    "# get dataframe as batch\n",
    "batch = batch_definition.get_batch(batch_parameters=batch_parameters)\n",
    "\n",
    "# test expectation\n",
    "validation_results = batch.validate(expectation)\n",
    "print('')\n",
    "print(f\"Kolom product_id dalam data: {validation_results.success}\")"
   ]
  },
  {
   "cell_type": "markdown",
   "id": "8f0ca66d",
   "metadata": {},
   "source": [
    "Berdasarkan keterangan di atas kolom 'product_id' adalah kolom dengan value yang unique, karena kolom yang berisikan 'id' berarti adalah identitas yang artinya tidak boleh ada value yang duplikat."
   ]
  },
  {
   "cell_type": "markdown",
   "id": "efcdc8df",
   "metadata": {},
   "source": [
    "### Min & Max Value"
   ]
  },
  {
   "cell_type": "code",
   "execution_count": 6,
   "id": "72b1122c",
   "metadata": {},
   "outputs": [
    {
     "data": {
      "application/vnd.jupyter.widget-view+json": {
       "model_id": "fbab17e6b3dd4c91923e2079edaf42d0",
       "version_major": 2,
       "version_minor": 0
      },
      "text/plain": [
       "Calculating Metrics:   0%|          | 0/10 [00:00<?, ?it/s]"
      ]
     },
     "metadata": {},
     "output_type": "display_data"
    },
    {
     "name": "stdout",
     "output_type": "stream",
     "text": [
      "\n",
      "Value kolom inventory turnover rate antara 1 dan 100: True\n"
     ]
    }
   ],
   "source": [
    "# create expectation for column values to be in between min and max value\n",
    "expectation = gx.expectations.ExpectColumnValuesToBeBetween(\n",
    "    column=\"inventory_turnover_rate\", min_value = 1, max_value = 100\n",
    ")\n",
    "\n",
    "# get dataframe as batch\n",
    "batch = batch_definition.get_batch(batch_parameters=batch_parameters)\n",
    "\n",
    "# test expectation\n",
    "validation_results = batch.validate(expectation)\n",
    "print('')\n",
    "print(f\"Value kolom inventory turnover rate antara 1 dan 100: {validation_results.success}\")\n"
   ]
  },
  {
   "cell_type": "markdown",
   "id": "577c8ebf",
   "metadata": {},
   "source": [
    "Berdasarkan keterangan di atas value kolom 'inventory_turnover_rate' ada diantara 1 dan 100, hal tersebut menunjukkan efisien toko dalam mengelola stok produk. Nilai rendah (mendekati 1) menunjukkan bahwa produk terjual dengan lambat dan cenderung menumpuk. Nilai tinggi (mendekati 100) menunjukkan bahwa produk terjual dengan sangat cepat dan toko sering mengisi kembali stok."
   ]
  },
  {
   "cell_type": "markdown",
   "id": "ca1d436d",
   "metadata": {},
   "source": [
    "### Set"
   ]
  },
  {
   "cell_type": "code",
   "execution_count": 7,
   "id": "ecec0f8a",
   "metadata": {},
   "outputs": [
    {
     "data": {
      "application/vnd.jupyter.widget-view+json": {
       "model_id": "a0ab6b0600a647e898753297ccb6329e",
       "version_major": 2,
       "version_minor": 0
      },
      "text/plain": [
       "Calculating Metrics:   0%|          | 0/10 [00:00<?, ?it/s]"
      ]
     },
     "metadata": {},
     "output_type": "display_data"
    },
    {
     "name": "stdout",
     "output_type": "stream",
     "text": [
      "\n",
      "Kolom status berisikan value Active, Discontinued, Backordered : True\n"
     ]
    },
    {
     "name": "stderr",
     "output_type": "stream",
     "text": [
      "/opt/anaconda3/lib/python3.12/site-packages/pandas/core/algorithms.py:522: DeprecationWarning: np.find_common_type is deprecated.  Please use `np.result_type` or `np.promote_types`.\n",
      "See https://numpy.org/devdocs/release/1.25.0-notes.html and the docs for more information.  (Deprecated NumPy 1.25)\n",
      "  common = np.find_common_type([values.dtype, comps_array.dtype], [])\n"
     ]
    }
   ],
   "source": [
    "# create expectation for column to be in set\n",
    "expectation = gx.expectations.ExpectColumnValuesToBeInSet(\n",
    "    column = \"status\", value_set = ['Active', 'Discontinued', 'Backordered'], mostly = 1\n",
    ")\n",
    "\n",
    "# get dataframe as batch\n",
    "batch = batch_definition.get_batch(batch_parameters=batch_parameters)\n",
    "\n",
    "# test expectation\n",
    "validation_results = batch.validate(expectation)\n",
    "print('')\n",
    "print(f\"Kolom status berisikan value Active, Discontinued, Backordered : {validation_results.success}\")"
   ]
  },
  {
   "cell_type": "markdown",
   "id": "a0966179",
   "metadata": {},
   "source": [
    "Berdasarkan keterangan di atas kolom 'status' hanya berisikan 3 value yaitu active (penyediaan barang secara berulang masih dilakukan), discontinued (penyediaan barang secara berulang sudah tidak dilakukan), dan backordered (produk tersebut telah dipesan oleh toko, tetapi saat ini stoknya tidak tersedia di gudang)"
   ]
  },
  {
   "cell_type": "markdown",
   "id": "4c797c1d",
   "metadata": {},
   "source": [
    "### Type List"
   ]
  },
  {
   "cell_type": "code",
   "execution_count": 8,
   "id": "8d4b03f9",
   "metadata": {},
   "outputs": [
    {
     "data": {
      "application/vnd.jupyter.widget-view+json": {
       "model_id": "77cc9caa8333427b99936e458f2bdde0",
       "version_major": 2,
       "version_minor": 0
      },
      "text/plain": [
       "Calculating Metrics:   0%|          | 0/1 [00:00<?, ?it/s]"
      ]
     },
     "metadata": {},
     "output_type": "display_data"
    },
    {
     "name": "stdout",
     "output_type": "stream",
     "text": [
      "\n",
      "Tipe data kolom stock_quantity dapat diubah menjadi tipe data integer dan float: True\n"
     ]
    }
   ],
   "source": [
    "# create expectation for column values to be in type list\n",
    "expectation = gx.expectations.ExpectColumnValuesToBeInTypeList(\n",
    "    column = \"stock_quantity\", type_list = ['int64','float']\n",
    ")\n",
    "\n",
    "# get dataframe as batch\n",
    "batch = batch_definition.get_batch(batch_parameters=batch_parameters)\n",
    "\n",
    "# test expectation\n",
    "validation_results = batch.validate(expectation)\n",
    "print('')\n",
    "print(f\"Tipe data kolom stock_quantity dapat diubah menjadi tipe data integer dan float: {validation_results.success}\")"
   ]
  },
  {
   "cell_type": "markdown",
   "id": "94e35376",
   "metadata": {},
   "source": [
    "Berdasarkan keterangan di atas bahwa benar tipe data value pada kolom 'stock_quantity' dapat diubah menjadi integer dan float karena data berisi numerik."
   ]
  },
  {
   "cell_type": "markdown",
   "id": "e7c6f20f",
   "metadata": {},
   "source": [
    "### Jumlah Kolom"
   ]
  },
  {
   "cell_type": "code",
   "execution_count": 9,
   "id": "7b62de9a",
   "metadata": {},
   "outputs": [
    {
     "data": {
      "application/vnd.jupyter.widget-view+json": {
       "model_id": "43b91565163c4e27a274f4af26ad7db9",
       "version_major": 2,
       "version_minor": 0
      },
      "text/plain": [
       "Calculating Metrics:   0%|          | 0/3 [00:00<?, ?it/s]"
      ]
     },
     "metadata": {},
     "output_type": "display_data"
    },
    {
     "name": "stdout",
     "output_type": "stream",
     "text": [
      "\n",
      "Jumlah kolom tabel = 16: True\n"
     ]
    }
   ],
   "source": [
    "# create expectation for column count equal to 16\n",
    "expectation = gx.expectations.ExpectTableColumnCountToEqual(\n",
    "    value = 16\n",
    ")\n",
    "\n",
    "# get dataframe as batch\n",
    "batch = batch_definition.get_batch(batch_parameters=batch_parameters)\n",
    "\n",
    "# test expectation\n",
    "validation_results = batch.validate(expectation)\n",
    "print('')\n",
    "print(f\"Jumlah kolom tabel = 16: {validation_results.success}\")"
   ]
  },
  {
   "cell_type": "markdown",
   "id": "d25517bf",
   "metadata": {},
   "source": [
    "Berdasarkan keterangan di atas bahwa benar jumlah kolom pada dataset adalah 16."
   ]
  },
  {
   "cell_type": "markdown",
   "id": "811b0d3b",
   "metadata": {},
   "source": [
    "### Tidak ada Missing Value"
   ]
  },
  {
   "cell_type": "code",
   "execution_count": 10,
   "id": "717787c7",
   "metadata": {},
   "outputs": [
    {
     "data": {
      "application/vnd.jupyter.widget-view+json": {
       "model_id": "4e3c86b3d0e540ac98fc247f50f7bdf2",
       "version_major": 2,
       "version_minor": 0
      },
      "text/plain": [
       "Calculating Metrics:   0%|          | 0/8 [00:00<?, ?it/s]"
      ]
     },
     "metadata": {},
     "output_type": "display_data"
    },
    {
     "name": "stdout",
     "output_type": "stream",
     "text": [
      "\n",
      "Kolom category tidak ada missing value: True\n"
     ]
    }
   ],
   "source": [
    "# create expectation for column values to be not null\n",
    "expectation = gx.expectations.ExpectColumnValuesToNotBeNull(\n",
    "    column = \"category\"\n",
    ")\n",
    "\n",
    "# get dataframe as batch\n",
    "batch = batch_definition.get_batch(batch_parameters=batch_parameters)\n",
    "\n",
    "# test expectation\n",
    "validation_results = batch.validate(expectation)\n",
    "print('')\n",
    "print(f\"Kolom category tidak ada missing value: {validation_results.success}\")"
   ]
  },
  {
   "cell_type": "markdown",
   "id": "0462c9ae",
   "metadata": {},
   "source": [
    "Berdasarkan keterangan di atas bahwa benar tidak ada missing value pada kolom 'category' karena pada dataset asli dari https://www.kaggle.com/datasets/salahuddinahmedshuvo/grocery-inventory-and-sales-dataset terdapat missing value dari kolom 'catagory' yang sudah dilakukan cleaning pada dataset tersebut."
   ]
  },
  {
   "cell_type": "markdown",
   "id": "65146c96",
   "metadata": {},
   "source": [
    "### Eksistensi Kolom 'product_name'"
   ]
  },
  {
   "cell_type": "code",
   "execution_count": 11,
   "id": "74c95e6b",
   "metadata": {},
   "outputs": [
    {
     "data": {
      "application/vnd.jupyter.widget-view+json": {
       "model_id": "e69bf5ccc7f048e2834277a45d00b1a0",
       "version_major": 2,
       "version_minor": 0
      },
      "text/plain": [
       "Calculating Metrics:   0%|          | 0/2 [00:00<?, ?it/s]"
      ]
     },
     "metadata": {},
     "output_type": "display_data"
    },
    {
     "name": "stdout",
     "output_type": "stream",
     "text": [
      "\n",
      "Kolom 'product_name' ada pada data: True\n"
     ]
    }
   ],
   "source": [
    "# create expectation for column to be exist\n",
    "expectation = gx.expectations.ExpectColumnToExist(\n",
    "    column = \"product_name\"\n",
    ")\n",
    "\n",
    "# get dataframe as batch\n",
    "batch = batch_definition.get_batch(batch_parameters=batch_parameters)\n",
    "\n",
    "# test expectation\n",
    "validation_results = batch.validate(expectation)\n",
    "print('')\n",
    "print(f\"Kolom 'product_name' ada pada data: {validation_results.success}\")"
   ]
  },
  {
   "cell_type": "markdown",
   "id": "972f9748",
   "metadata": {},
   "source": [
    "Berdasarkan keterangan di atas bahwa benar kolom 'product_name' ada pada data."
   ]
  },
  {
   "cell_type": "markdown",
   "id": "eb4b707d",
   "metadata": {},
   "source": [
    "### Memastikan tipe data"
   ]
  },
  {
   "cell_type": "code",
   "execution_count": 12,
   "id": "5d273509",
   "metadata": {},
   "outputs": [
    {
     "data": {
      "application/vnd.jupyter.widget-view+json": {
       "model_id": "b5df660b9a454189981d68ae3850163a",
       "version_major": 2,
       "version_minor": 0
      },
      "text/plain": [
       "Calculating Metrics:   0%|          | 0/1 [00:00<?, ?it/s]"
      ]
     },
     "metadata": {},
     "output_type": "display_data"
    },
    {
     "name": "stdout",
     "output_type": "stream",
     "text": [
      "\n",
      "Tipe data kolom unit_price adalah float: True\n"
     ]
    }
   ],
   "source": [
    "# create expectation for column values to be in type list\n",
    "expectation = gx.expectations.ExpectColumnValuesToBeOfType(\n",
    "    column=\"unit_price\", type_=\"float\"\n",
    ")\n",
    "\n",
    "# get dataframe as batch\n",
    "batch = batch_definition.get_batch(batch_parameters=batch_parameters)\n",
    "\n",
    "# test expectation\n",
    "validation_results = batch.validate(expectation)\n",
    "print('')\n",
    "print(f\"Tipe data kolom unit_price adalah float: {validation_results.success}\")"
   ]
  },
  {
   "cell_type": "markdown",
   "id": "17569c86",
   "metadata": {},
   "source": [
    "Berdasarkan keterangan di atas bahwa benar tipe data kolom unit_price adalah float."
   ]
  }
 ],
 "metadata": {
  "kernelspec": {
   "display_name": "base",
   "language": "python",
   "name": "python3"
  },
  "language_info": {
   "codemirror_mode": {
    "name": "ipython",
    "version": 3
   },
   "file_extension": ".py",
   "mimetype": "text/x-python",
   "name": "python",
   "nbconvert_exporter": "python",
   "pygments_lexer": "ipython3",
   "version": "3.12.7"
  }
 },
 "nbformat": 4,
 "nbformat_minor": 5
}
